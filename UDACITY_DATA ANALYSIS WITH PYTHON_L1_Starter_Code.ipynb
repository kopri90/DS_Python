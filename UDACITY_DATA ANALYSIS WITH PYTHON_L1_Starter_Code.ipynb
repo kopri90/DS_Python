{
 "cells": [
  {
   "cell_type": "markdown",
   "metadata": {},
   "source": [
    "Before we get started, a couple of reminders to keep in mind when using iPython notebooks:\n",
    "\n",
    "- Remember that you can see from the left side of a code cell when it was last run if there is a number within the brackets.\n",
    "- When you start a new notebook session, make sure you run all of the cells up to the point where you last left off. Even if the output is still visible from when you ran the cells in your previous session, the kernel starts in a fresh state so you'll need to reload the data, etc. on a new session.\n",
    "- The previous point is useful to keep in mind if your answers do not match what is expected in the lesson's quizzes. Try reloading the data and run all of the processing steps one by one in order to make sure that you are working with the same variables and data that are at each quiz stage.\n",
    "\n",
    "\n",
    "## Load Data from CSVs"
   ]
  },
  {
   "cell_type": "code",
   "execution_count": 3,
   "metadata": {
    "collapsed": false
   },
   "outputs": [
    {
     "data": {
      "text/plain": [
       "{u'account_key': u'448',\n",
       " u'cancel_date': u'2015-01-14',\n",
       " u'days_to_cancel': u'65',\n",
       " u'is_canceled': u'True',\n",
       " u'is_udacity': u'True',\n",
       " u'join_date': u'2014-11-10',\n",
       " u'status': u'canceled'}"
      ]
     },
     "execution_count": 3,
     "metadata": {},
     "output_type": "execute_result"
    }
   ],
   "source": [
    "import unicodecsv\n",
    "\n",
    "## Longer version of code (replaced with shorter, equivalent version below)\n",
    "\n",
    "# enrollments = []\n",
    "# f = open('enrollments.csv', 'rb')\n",
    "# reader = unicodecsv.DictReader(f)\n",
    "# for row in reader:\n",
    "#     enrollments.append(row)\n",
    "# f.close()\n",
    "\n",
    "with open('enrollments.csv', 'rb') as f:\n",
    "    reader = unicodecsv.DictReader(f)\n",
    "    enrollments = list(reader)\n",
    "\n",
    "enrollments[0]"
   ]
  },
  {
   "cell_type": "code",
   "execution_count": 4,
   "metadata": {
    "collapsed": false
   },
   "outputs": [],
   "source": [
    "#####################################\n",
    "#                 1                 #\n",
    "#####################################\n",
    "\n",
    "## Read in the data from daily_engagement.csv and project_submissions.csv \n",
    "## and store the results in the below variables.\n",
    "## Then look at the first row of each table.\n",
    "\n",
    "import unicodecsv\n",
    "\n",
    "def read_csv(filename):\n",
    "    with open(filename,'rb') as o:\n",
    "        reader = unicodecsv.DictReader(o)\n",
    "        return list(reader)\n",
    "    \n",
    "daily_engagement = read_csv('daily_engagement.csv') \n",
    "project_submissions = read_csv('project_submissions.csv') "
   ]
  },
  {
   "cell_type": "markdown",
   "metadata": {},
   "source": [
    "## Fixing Data Types"
   ]
  },
  {
   "cell_type": "code",
   "execution_count": 5,
   "metadata": {
    "collapsed": false
   },
   "outputs": [
    {
     "data": {
      "text/plain": [
       "{u'account_key': u'448',\n",
       " u'cancel_date': datetime.datetime(2015, 1, 14, 0, 0),\n",
       " u'days_to_cancel': 65,\n",
       " u'is_canceled': True,\n",
       " u'is_udacity': True,\n",
       " u'join_date': datetime.datetime(2014, 11, 10, 0, 0),\n",
       " u'status': u'canceled'}"
      ]
     },
     "execution_count": 5,
     "metadata": {},
     "output_type": "execute_result"
    }
   ],
   "source": [
    "from datetime import datetime as dt\n",
    "\n",
    "# Takes a date as a string, and returns a Python datetime object. \n",
    "# If there is no date given, returns None\n",
    "def parse_date(date):\n",
    "    if date == '':\n",
    "        return None\n",
    "    else:\n",
    "        return dt.strptime(date, '%Y-%m-%d')\n",
    "    \n",
    "# Takes a string which is either an empty string or represents an integer,\n",
    "# and returns an int or None.\n",
    "def parse_maybe_int(i):\n",
    "    if i == '':\n",
    "        return None\n",
    "    else:\n",
    "        return int(i)\n",
    "\n",
    "# Clean up the data types in the enrollments table\n",
    "for enrollment in enrollments:\n",
    "    enrollment['cancel_date'] = parse_date(enrollment['cancel_date'])\n",
    "    enrollment['days_to_cancel'] = parse_maybe_int(enrollment['days_to_cancel'])\n",
    "    enrollment['is_canceled'] = enrollment['is_canceled'] == 'True'\n",
    "    enrollment['is_udacity'] = enrollment['is_udacity'] == 'True'\n",
    "    enrollment['join_date'] = parse_date(enrollment['join_date'])\n",
    "    \n",
    "enrollments[0]\n"
   ]
  },
  {
   "cell_type": "markdown",
   "metadata": {},
   "source": [
    "# **Monia code"
   ]
  },
  {
   "cell_type": "markdown",
   "metadata": {},
   "source": [
    "Questions:\n",
    "1. After which submission students the most often drop out?\n",
    "2. On which stage of course most often students drop out?\n",
    "3. How long people in AVG are staying on course?\n",
    "4. On which submission students are most often failed and is it positivley correlated with drop out the course?\n",
    "5. Is the time spend on the course positivley correlated with project submission result = PASSED?"
   ]
  },
  {
   "cell_type": "code",
   "execution_count": 6,
   "metadata": {
    "collapsed": false,
    "scrolled": true
   },
   "outputs": [
    {
     "name": "stdout",
     "output_type": "stream",
     "text": [
      "False\n"
     ]
    }
   ],
   "source": [
    "for enrollment in enrollments:\n",
    "    if enrollment['account_key'] == '1006':\n",
    "        print enrollment['is_udacity']"
   ]
  },
  {
   "cell_type": "markdown",
   "metadata": {},
   "source": [
    "## end of Monia code"
   ]
  },
  {
   "cell_type": "code",
   "execution_count": 7,
   "metadata": {
    "collapsed": false
   },
   "outputs": [
    {
     "data": {
      "text/plain": [
       "{u'acct': u'0',\n",
       " u'lessons_completed': 0,\n",
       " u'num_courses_visited': 1,\n",
       " u'projects_completed': 0,\n",
       " u'total_minutes_visited': 11.6793745,\n",
       " u'utc_date': datetime.datetime(2015, 1, 9, 0, 0)}"
      ]
     },
     "execution_count": 7,
     "metadata": {},
     "output_type": "execute_result"
    }
   ],
   "source": [
    "# Clean up the data types in the engagement table\n",
    "for engagement_record in daily_engagement:\n",
    "    engagement_record['lessons_completed'] = int(float(engagement_record['lessons_completed']))\n",
    "    engagement_record['num_courses_visited'] = int(float(engagement_record['num_courses_visited']))\n",
    "    engagement_record['projects_completed'] = int(float(engagement_record['projects_completed']))\n",
    "    engagement_record['total_minutes_visited'] = float(engagement_record['total_minutes_visited'])\n",
    "    engagement_record['utc_date'] = parse_date(engagement_record['utc_date'])\n",
    "    \n",
    "daily_engagement[0]"
   ]
  },
  {
   "cell_type": "code",
   "execution_count": 8,
   "metadata": {
    "collapsed": false
   },
   "outputs": [
    {
     "data": {
      "text/plain": [
       "{u'account_key': u'256',\n",
       " u'assigned_rating': u'UNGRADED',\n",
       " u'completion_date': datetime.datetime(2015, 1, 16, 0, 0),\n",
       " u'creation_date': datetime.datetime(2015, 1, 14, 0, 0),\n",
       " u'lesson_key': u'3176718735',\n",
       " u'processing_state': u'EVALUATED'}"
      ]
     },
     "execution_count": 8,
     "metadata": {},
     "output_type": "execute_result"
    }
   ],
   "source": [
    "# Clean up the data types in the submissions table\n",
    "for submission in project_submissions:\n",
    "    submission['completion_date'] = parse_date(submission['completion_date'])\n",
    "    submission['creation_date'] = parse_date(submission['creation_date'])\n",
    "\n",
    "project_submissions[0]"
   ]
  },
  {
   "cell_type": "markdown",
   "metadata": {},
   "source": [
    "Note when running the above cells that we are actively changing the contents of our data variables. If you try to run these cells multiple times in the same session, an error will occur.\n",
    "\n",
    "## Investigating the Data"
   ]
  },
  {
   "cell_type": "code",
   "execution_count": 9,
   "metadata": {
    "collapsed": false
   },
   "outputs": [],
   "source": [
    "for engagement_record in daily_engagement:\n",
    "    engagement_record['account_key'] = engagement_record['acct']\n",
    "    del[engagement_record['acct']]"
   ]
  },
  {
   "cell_type": "code",
   "execution_count": 10,
   "metadata": {
    "collapsed": true
   },
   "outputs": [],
   "source": [
    "#enrollment_num_rows = 0 \n",
    "#\n",
    "### For each of these three tables, find the number of rows in the table and\n",
    "### the number of unique students in the table. To find the number of unique\n",
    "### students, you might want to create a set of the account keys in each table.\n",
    "\n",
    "enrollment_num_rows = len(enrollments) # Replace this with your code\n",
    "enrollment_num_unique_students = 0  # Replace this with your code\n",
    "\n",
    "engagement_num_rows = len(daily_engagement)             # Replace this with your code\n",
    "engagement_num_unique_students = 0  # Replace this with your code\n",
    "\n",
    "submission_num_rows = len(project_submissions)           # Replace this with your code\n",
    "submission_num_unique_students = 0  # Replace this with your code"
   ]
  },
  {
   "cell_type": "code",
   "execution_count": 11,
   "metadata": {
    "collapsed": false
   },
   "outputs": [
    {
     "name": "stdout",
     "output_type": "stream",
     "text": [
      "0\n",
      "1237\n",
      "1302\n",
      "set([u'1200', u'1175', u'1269', u'1183', u'1268', u'1256', u'1144', u'1257', u'344', u'0', u'346', u'347', u'340', u'341', u'342', u'343', u'810', u'811', u'812', u'813', u'348', u'349', u'816', u'1253', u'595', u'1260', u'719', u'718', u'716', u'715', u'714', u'713', u'712', u'1158', u'710', u'915', u'1267', u'1265', u'606', u'1264', u'917', u'594', u'736', u'916', u'1182', u'1061', u'911', u'1168', u'1062', u'1065', u'1064', u'619', u'910', u'913', u'298', u'299', u'296', u'297', u'294', u'295', u'292', u'293', u'290', u'291', u'591', u'590', u'593', u'592', u'199', u'198', u'597', u'596', u'195', u'194', u'197', u'196', u'191', u'190', u'193', u'192', u'270', u'271', u'272', u'273', u'274', u'275', u'276', u'277', u'278', u'279', u'738', u'1067', u'524', u'525', u'526', u'527', u'520', u'521', u'522', u'523', u'1014', u'1015', u'599', u'1017', u'528', u'529', u'994', u'1013', u'1234', u'1235', u'449', u'448', u'1230', u'1231', u'1232', u'1233', u'443', u'442', u'441', u'440', u'447', u'446', u'445', u'444', u'108', u'109', u'1135', u'102', u'103', u'100', u'101', u'106', u'107', u'104', u'105', u'903', u'39', u'38', u'906', u'907', u'904', u'905', u'33', u'32', u'31', u'30', u'37', u'36', u'35', u'34', u'641', u'640', u'643', u'642', u'645', u'644', u'438', u'439', u'436', u'437', u'434', u'435', u'432', u'433', u'430', u'431', u'1156', u'1002', u'339', u'338', u'1236', u'335', u'334', u'337', u'336', u'331', u'330', u'333', u'332', u'744', u'1000', u'745', u'854', u'818', u'856', u'857', u'850', u'851', u'852', u'345', u'858', u'859', u'1081', u'748', u'6', u'1150', u'900', u'1282', u'848', u'99', u'98', u'844', u'1085', u'91', u'90', u'93', u'92', u'94', u'97', u'96', u'1169', u'1216', u'814', u'1279', u'815', u'1066', u'740', u'741', u'742', u'743', u'559', u'558', u'746', u'747', u'555', u'554', u'557', u'556', u'551', u'550', u'553', u'552', u'238', u'239', u'234', u'235', u'236', u'237', u'230', u'231', u'232', u'233', u'1050', u'1051', u'1052', u'1053', u'1054', u'1055', u'1056', u'1057', u'1058', u'1059', u'1193', u'992', u'1195', u'1194', u'1197', u'1196', u'1', u'614', u'146', u'147', u'144', u'145', u'142', u'143', u'140', u'141', u'612', u'613', u'610', u'611', u'616', u'617', u'148', u'149', u'1007', u'912', u'1139', u'1006', u'1179', u'951', u'1005', u'1285', u'1287', u'1004', u'1281', u'1280', u'948', u'949', u'946', u'947', u'944', u'945', u'942', u'943', u'940', u'941', u'768', u'689', u'688', u'685', u'684', u'687', u'686', u'681', u'680', u'683', u'682', u'623', u'1192', u'1300', u'1301', u'1302', u'622', u'1240', u'1225', u'133', u'132', u'131', u'130', u'137', u'136', u'135', u'134', u'494', u'495', u'139', u'138', u'490', u'491', u'492', u'493', u'24', u'25', u'26', u'27', u'20', u'21', u'22', u'23', u'1243', u'927', u'28', u'29', u'407', u'406', u'405', u'404', u'403', u'402', u'401', u'400', u'933', u'932', u'931', u'930', u'937', u'629', u'409', u'408', u'628', u'1028', u'758', u'1212', u'1229', u'1228', u'1018', u'379', u'378', u'829', u'828', u'1060', u'371', u'370', u'373', u'372', u'375', u'374', u'377', u'376', u'1019', u'708', u'709', u'1176', u'704', u'705', u'706', u'700', u'618', u'702', u'703', u'393', u'392', u'88', u'89', u'397', u'396', u'395', u'394', u'82', u'83', u'80', u'81', u'86', u'87', u'84', u'85', u'797', u'796', u'795', u'794', u'793', u'792', u'791', u'790', u'1170', u'798', u'1262', u'7', u'601', u'1272', u'607', u'1246', u'586', u'587', u'584', u'585', u'582', u'583', u'580', u'581', u'1133', u'1132', u'1131', u'1130', u'1137', u'1136', u'588', u'589', u'245', u'244', u'1261', u'246', u'241', u'240', u'243', u'242', u'1258', u'615', u'249', u'248', u'1298', u'924', u'970', u'925', u'519', u'518', u'1009', u'1008', u'511', u'510', u'513', u'512', u'515', u'514', u'517', u'516', u'458', u'459', u'621', u'620', u'627', u'626', u'625', u'624', u'450', u'451', u'452', u'453', u'454', u'455', u'456', u'457', u'1084', u'979', u'179', u'178', u'177', u'176', u'175', u'174', u'173', u'172', u'171', u'170', u'977', u'656', u'975', u'974', u'973', u'972', u'971', u'657', u'1080', u'1266', u'253', u'978', u'182', u'183', u'180', u'181', u'186', u'187', u'184', u'185', u'886', u'652', u'188', u'189', u'1122', u'658', u'653', u'1123', u'650', u'1124', u'651', u'1286', u'1089', u'1263', u'764', u'1088', u'1227', u'11', u'10', u'13', u'12', u'15', u'14', u'17', u'16', u'19', u'18', u'863', u'862', u'865', u'864', u'867', u'866', u'1248', u'938', u'659', u'1226', u'883', u'753', u'881', u'880', u'887', u'831', u'885', u'752', u'928', u'62', u'888', u'1012', u'1292', u'950', u'929', u'809', u'322', u'323', u'320', u'321', u'326', u'327', u'324', u'325', u'1224', u'328', u'329', u'759', u'201', u'200', u'203', u'202', u'205', u'204', u'207', u'206', u'209', u'208', u'779', u'778', u'77', u'76', u'75', u'74', u'73', u'72', u'71', u'70', u'655', u'79', u'78', u'2', u'1042', u'1041', u'1040', u'1047', u'1043', u'1045', u'1049', u'1048', u'1098', u'805', u'804', u'1142', u'1143', u'1140', u'1141', u'1146', u'1147', u'669', u'668', u'667', u'666', u'665', u'1149', u'663', u'662', u'661', u'660', u'1221', u'769', u'1278', u'692', u'693', u'690', u'691', u'696', u'697', u'694', u'695', u'1293', u'1297', u'698', u'699', u'542', u'543', u'540', u'541', u'546', u'547', u'544', u'545', u'8', u'548', u'549', u'68', u'598', u'995', u'869', u'991', u'990', u'993', u'868', u'999', u'998', u'120', u'121', u'122', u'123', u'124', u'125', u'126', u'127', u'128', u'129', u'765', u'1016', u'1128', u'1189', u'1011', u'414', u'415', u'416', u'417', u'410', u'411', u'412', u'413', u'920', u'498', u'922', u'923', u'418', u'419', u'776', u'499', u'319', u'318', u'313', u'312', u'311', u'310', u'317', u'316', u'315', u'314', u'1177', u'861', u'921', u'1126', u'1181', u'496', u'1134', u'832', u'833', u'830', u'497', u'836', u'837', u'834', u'835', u'838', u'839', u'808', u'1082', u'3', u'1030', u'1305', u'1255', u'368', u'369', u'366', u'367', u'364', u'365', u'362', u'363', u'360', u'361', u'1138', u'952', u'882', u'1239', u'380', u'381', u'382', u'383', u'384', u'385', u'386', u'387', u'388', u'389', u'784', u'785', u'786', u'787', u'780', u'781', u'782', u'783', u'788', u'1174', u'860', u'1188', u'1223', u'1252', u'605', u'579', u'578', u'604', u'573', u'572', u'571', u'570', u'577', u'576', u'575', u'574', u'60', u'61', u'258', u'259', u'64', u'65', u'66', u'67', u'252', u'69', u'250', u'251', u'256', u'257', u'254', u'255', u'1271', u'603', u'1172', u'602', u'939', u'731', u'730', u'1038', u'732', u'735', u'734', u'508', u'509', u'506', u'507', u'504', u'505', u'502', u'503', u'500', u'501', u'630', u'631', u'632', u'633', u'469', u'468', u'636', u'637', u'465', u'464', u'467', u'466', u'461', u'460', u'463', u'462', u'901', u'168', u'169', u'164', u'165', u'166', u'167', u'160', u'161', u'162', u'163', u'965', u'966', u'967', u'960', u'961', u'962', u'963', u'1303', u'969', u'936', u'1106', u'1107', u'1104', u'1105', u'1102', u'935', u'1100', u'1217', u'934', u'1274', u'908', u'1108', u'1109', u'909', u'1096', u'1090', u'1275', u'1091', u'600', u'879', u'876', u'877', u'874', u'872', u'873', u'1242', u'1154', u'9', u'1245', u'1157', u'1244', u'890', u'891', u'892', u'893', u'894', u'647', u'896', u'897', u'898', u'899', u'1087', u'646', u'1116', u'1099', u'649', u'1199', u'1247', u'1153', u'1277', u'648', u'1152', u'357', u'356', u'355', u'354', u'353', u'352', u'351', u'350', u'801', u'800', u'807', u'806', u'359', u'358', u'216', u'217', u'214', u'215', u'212', u'213', u'210', u'211', u'762', u'763', u'760', u'761', u'767', u'218', u'219', u'957', u'956', u'1033', u'1178', u'1283', u'1078', u'1103', u'1076', u'1077', u'1074', u'1075', u'1072', u'1073', u'1070', u'1071', u'289', u'288', u'1299', u'1003', u'4', u'281', u'280', u'283', u'282', u'285', u'284', u'287', u'286', u'1094', u'1095', u'1083', u'1097', u'678', u'679', u'1092', u'1093', u'674', u'675', u'676', u'677', u'670', u'671', u'672', u'673', u'263', u'262', u'261', u'260', u'267', u'266', u'265', u'264', u'1121', u'1031', u'269', u'268', u'701', u'59', u'58', u'1215', u'55', u'54', u'57', u'56', u'51', u'50', u'53', u'52', u'537', u'536', u'535', u'63', u'533', u'532', u'531', u'530', u'539', u'538', u'987', u'775', u'988', u'989', u'774', u'982', u'983', u'980', u'986', u'777', u'984', u'985', u'115', u'114', u'117', u'116', u'111', u'110', u'113', u'112', u'771', u'119', u'118', u'770', u'1289', u'1187', u'773', u'1205', u'772', u'953', u'429', u'428', u'1254', u'534', u'919', u'918', u'1250', u'1251', u'421', u'420', u'423', u'422', u'425', u'424', u'427', u'426', u'308', u'309', u'855', u'300', u'301', u'302', u'303', u'304', u'305', u'306', u'307', u'895', u'825', u'1162', u'824', u'827', u'847', u'846', u'845', u'826', u'843', u'842', u'840', u'1151', u'821', u'853', u'849', u'820', u'823', u'1209', u'822', u'1249', u'1164', u'1210', u'954', u'1034', u'1127', u'1159', u'1276', u'1208', u'1165', u'1068', u'1198', u'1039', u'1220', u'1288', u'1046', u'1166', u'568', u'569', u'751', u'757', u'756', u'755', u'754', u'560', u'561', u'562', u'563', u'564', u'565', u'566', u'567', u'1032', u'1259', u'229', u'228', u'227', u'226', u'225', u'224', u'223', u'222', u'221', u'220', u'1001', u'1024', u'1027', u'1026', u'1021', u'1020', u'1023', u'1022', u'1036', u'1184', u'1115', u'1029', u'391', u'1180', u'1037', u'726', u'724', u'390', u'722', u'723', u'720', u'721', u'1160', u'1035', u'1167', u'729', u'151', u'150', u'153', u'152', u'155', u'154', u'157', u'156', u'159', u'158', u'1207', u'1206', u'609', u'608', u'1203', u'1202', u'1204', u'1211', u'976', u'1161', u'634', u'399', u'635', u'959', u'958', u'398', u'1214', u'48', u'49', u'46', u'47', u'44', u'45', u'42', u'43', u'40', u'41', u'1111', u'1110', u'1113', u'1112', u'5', u'1114', u'1117', u'639', u'1119', u'1118', u'1290', u'1296', u'1173', u'1294', u'1295', u'1185', u'1163', u'489', u'488', u'487', u'486', u'485', u'484', u'483', u'482', u'481', u'480', u'955', u'1201', u'472', u'473', u'471', u'476', u'477', u'474', u'475', u'478', u'479'])\n"
     ]
    }
   ],
   "source": [
    "def get_unique_students(data):\n",
    "    unique_students = set()\n",
    "    for data_point in data:\n",
    "        unique_students.add(data_point['account_key'])\n",
    "    return unique_students\n",
    "len(enrollments)\n",
    "unique_enrolled_students = get_unique_students(enrollments)\n",
    "len(unique_enrolled_students)\n",
    "len(daily_engagement)\n",
    "unique_engagement_students = get_unique_students(daily_engagement)\n",
    "len(unique_engagement_students)\n",
    "len(project_submissions)\n",
    "unique_project_submitters = get_unique_students(project_submissions)\n",
    "len(unique_project_submitters)\n",
    "\n",
    "print daily_engagement[0]['account_key']\n",
    "print len(unique_engagement_students)\n",
    "print len(unique_enrolled_students)\n",
    "print unique_engagement_students\n",
    "# there is less students in engagement file than in enrollment file"
   ]
  },
  {
   "cell_type": "markdown",
   "metadata": {},
   "source": [
    "## Problems in the Data"
   ]
  },
  {
   "cell_type": "code",
   "execution_count": null,
   "metadata": {
    "collapsed": true
   },
   "outputs": [],
   "source": [
    "#####################################\n",
    "#                 3                 #\n",
    "#####################################\n",
    "\n",
    "## Rename the \"acct\" column in the daily_engagement table to \"account_key\"."
   ]
  },
  {
   "cell_type": "markdown",
   "metadata": {},
   "source": [
    "## Missing Engagement Records"
   ]
  },
  {
   "cell_type": "code",
   "execution_count": 12,
   "metadata": {
    "collapsed": false
   },
   "outputs": [
    {
     "name": "stdout",
     "output_type": "stream",
     "text": [
      "1219\n"
     ]
    }
   ],
   "source": [
    "#####################################\n",
    "#                 4                 #\n",
    "#####################################\n",
    "\n",
    "## Find any one student enrollments where the student is missing from the daily engagement table.\n",
    "## Output that enrollment.\n",
    "\n",
    "for x in enrollments:\n",
    "    student = x['account_key']\n",
    "    if student not in unique_engagement_students:\n",
    "        print student\n",
    "        break    "
   ]
  },
  {
   "cell_type": "code",
   "execution_count": 13,
   "metadata": {
    "collapsed": false
   },
   "outputs": [
    {
     "name": "stdout",
     "output_type": "stream",
     "text": [
      "set([u'1304', u'1129', u'1186', u'1270', u'1222', u'884', u'1120', u'749', u'889', u'707', u'766', u'1125', u'1213', u'996', u'870', u'1069', u'1025', u'1237', u'1079', u'1191', u'1190', u'1145', u'875', u'733', u'799', u'871', u'819', u'654', u'737', u'739', u'914', u'1291', u'1010', u'1148', u'817', u'902', u'997', u'1219', u'981', u'1171', u'717', u'1218', u'1273', u'1238', u'711', u'1241', u'750', u'964', u'1284', u'878', u'841', u'1044', u'1086', u'1155', u'968', u'789', u'664', u'727', u'725', u'926', u'1101', u'803', u'802', u'1063', u'728'])\n",
      "65\n",
      "1237\n"
     ]
    }
   ],
   "source": [
    "# finding all student which are not in the engagament file but are in enrollment file\n",
    "z = set()\n",
    "y = set()\n",
    "\n",
    "for x in enrollments:\n",
    "    student = x['account_key']  \n",
    "    if student not in unique_engagement_students:\n",
    "        z.add(student)\n",
    "    else:\n",
    "        y.add(student)    \n",
    "            \n",
    "print z\n",
    "print len(z)\n",
    "print len(y)\n",
    "\n"
   ]
  },
  {
   "cell_type": "markdown",
   "metadata": {},
   "source": [
    "# removing from enrollment account keys that are not in engagement\n",
    "for x in enrollments:\n",
    "    student = x['account_key']\n",
    "    if student not in unique_engagement_students:\n",
    "        enrollments.remove(x)\n",
    "\n",
    "print len(unique_enrolled_students)"
   ]
  },
  {
   "cell_type": "markdown",
   "metadata": {},
   "source": [
    "## Checking for More Problem Records"
   ]
  },
  {
   "cell_type": "code",
   "execution_count": 14,
   "metadata": {
    "collapsed": false
   },
   "outputs": [
    {
     "name": "stdout",
     "output_type": "stream",
     "text": [
      "{u'status': u'canceled', u'is_udacity': True, u'is_canceled': True, u'join_date': datetime.datetime(2015, 1, 10, 0, 0), u'account_key': u'1304', u'cancel_date': datetime.datetime(2015, 3, 10, 0, 0), u'days_to_cancel': 59}\n",
      "{u'status': u'canceled', u'is_udacity': True, u'is_canceled': True, u'join_date': datetime.datetime(2015, 3, 10, 0, 0), u'account_key': u'1304', u'cancel_date': datetime.datetime(2015, 6, 17, 0, 0), u'days_to_cancel': 99}\n",
      "{u'status': u'current', u'is_udacity': True, u'is_canceled': False, u'join_date': datetime.datetime(2015, 2, 25, 0, 0), u'account_key': u'1101', u'cancel_date': None, u'days_to_cancel': None}\n"
     ]
    },
    {
     "data": {
      "text/plain": [
       "3"
      ]
     },
     "execution_count": 14,
     "metadata": {},
     "output_type": "execute_result"
    }
   ],
   "source": [
    "#####################################\n",
    "#                 5                 #\n",
    "#####################################\n",
    "##That doesn't look right. We're asking for the number of rows in the enrollments \n",
    "##table where the student stayed enrolled at least one day and there is no entry \n",
    "##for that account key in the daily engagement table.\n",
    "\n",
    "## Find the number of surprising data points (enrollments missing from\n",
    "## the engagement table) that remain, if any.\n",
    "\n",
    "num_problem_students = 0\n",
    "\n",
    "for x in enrollments:\n",
    "    student = x['account_key']  \n",
    "    if student not in unique_engagement_students \\\n",
    "            and x['join_date'] != x['cancel_date']:\n",
    "        num_problem_students += 1\n",
    "        print x\n",
    "        \n",
    "num_problem_students\n"
   ]
  },
  {
   "cell_type": "markdown",
   "metadata": {},
   "source": [
    "## Tracking Down the Remaining Problems"
   ]
  },
  {
   "cell_type": "markdown",
   "metadata": {},
   "source": [
    "# removing udacity test accounts --> is_udacity = true from enrollments\n",
    "test = []\n",
    "for x in enrollments:\n",
    "    udacity_test = x['is_udacity']\n",
    "    if udacity_test == True:\n",
    "        test.append(x)\n",
    "        enrollments.remove(x)\n",
    "\n",
    "print test"
   ]
  },
  {
   "cell_type": "code",
   "execution_count": null,
   "metadata": {
    "collapsed": true
   },
   "outputs": [],
   "source": [
    "udacity_test_accounts"
   ]
  },
  {
   "cell_type": "code",
   "execution_count": 15,
   "metadata": {
    "collapsed": false
   },
   "outputs": [
    {
     "data": {
      "text/plain": [
       "6"
      ]
     },
     "execution_count": 15,
     "metadata": {},
     "output_type": "execute_result"
    }
   ],
   "source": [
    "# Create a set of the account keys for all Udacity test accounts\n",
    "udacity_test_accounts = set()\n",
    "for enrollment in enrollments:\n",
    "    if enrollment['is_udacity']:\n",
    "        udacity_test_accounts.add(enrollment['account_key'])\n",
    "len(udacity_test_accounts)"
   ]
  },
  {
   "cell_type": "code",
   "execution_count": 16,
   "metadata": {
    "collapsed": true
   },
   "outputs": [],
   "source": [
    "# Given some data with an account_key field, removes any records corresponding to Udacity test accounts\n",
    "def remove_udacity_accounts(data):\n",
    "    non_udacity_data = []\n",
    "    for data_point in data:\n",
    "        if data_point['account_key'] not in udacity_test_accounts:\n",
    "            non_udacity_data.append(data_point)\n",
    "    return non_udacity_data"
   ]
  },
  {
   "cell_type": "code",
   "execution_count": 17,
   "metadata": {
    "collapsed": false
   },
   "outputs": [
    {
     "name": "stdout",
     "output_type": "stream",
     "text": [
      "1622\n",
      "135656\n",
      "3634\n"
     ]
    }
   ],
   "source": [
    "# Remove Udacity test accounts from all three tables\n",
    "non_udacity_enrollments = remove_udacity_accounts(enrollments)\n",
    "non_udacity_engagement = remove_udacity_accounts(daily_engagement)\n",
    "non_udacity_submissions = remove_udacity_accounts(project_submissions)\n",
    "\n",
    "print len(non_udacity_enrollments)\n",
    "print len(non_udacity_engagement)\n",
    "print len(non_udacity_submissions)"
   ]
  },
  {
   "cell_type": "code",
   "execution_count": 63,
   "metadata": {
    "collapsed": false
   },
   "outputs": [],
   "source": [
    "for x in paid_engagement:\n",
    "        if x['num_courses_visited'] > 0:\n",
    "            x['has_visited'] = 1\n",
    "        else:\n",
    "            x['has_visited'] = 0"
   ]
  },
  {
   "cell_type": "markdown",
   "metadata": {},
   "source": [
    "## Refining the Question"
   ]
  },
  {
   "cell_type": "code",
   "execution_count": 18,
   "metadata": {
    "collapsed": false
   },
   "outputs": [
    {
     "name": "stdout",
     "output_type": "stream",
     "text": [
      "995\n",
      "2015-04-02 00:00:00\n",
      "2015-08-23 00:00:00\n"
     ]
    },
    {
     "data": {
      "text/plain": [
       "[u'1200',\n",
       " u'1175',\n",
       " u'1269',\n",
       " u'669',\n",
       " u'1257',\n",
       " u'344',\n",
       " u'345',\n",
       " u'346',\n",
       " u'347',\n",
       " u'340',\n",
       " u'341',\n",
       " u'342',\n",
       " u'343',\n",
       " u'811',\n",
       " u'812',\n",
       " u'348',\n",
       " u'349',\n",
       " u'816',\n",
       " u'918',\n",
       " u'1149',\n",
       " u'719',\n",
       " u'718',\n",
       " u'715',\n",
       " u'426',\n",
       " u'713',\n",
       " u'712',\n",
       " u'710',\n",
       " u'661',\n",
       " u'660',\n",
       " u'594',\n",
       " u'422',\n",
       " u'1060',\n",
       " u'1062',\n",
       " u'619',\n",
       " u'1066',\n",
       " u'427',\n",
       " u'298',\n",
       " u'299',\n",
       " u'296',\n",
       " u'297',\n",
       " u'294',\n",
       " u'295',\n",
       " u'292',\n",
       " u'293',\n",
       " u'290',\n",
       " u'291',\n",
       " u'1128',\n",
       " u'590',\n",
       " u'593',\n",
       " u'592',\n",
       " u'595',\n",
       " u'198',\n",
       " u'597',\n",
       " u'596',\n",
       " u'195',\n",
       " u'1121',\n",
       " u'197',\n",
       " u'1123',\n",
       " u'1124',\n",
       " u'1139',\n",
       " u'193',\n",
       " u'1088',\n",
       " u'270',\n",
       " u'271',\n",
       " u'272',\n",
       " u'273',\n",
       " u'274',\n",
       " u'275',\n",
       " u'276',\n",
       " u'277',\n",
       " u'278',\n",
       " u'279',\n",
       " u'497',\n",
       " u'1067',\n",
       " u'524',\n",
       " u'525',\n",
       " u'526',\n",
       " u'527',\n",
       " u'520',\n",
       " u'1019',\n",
       " u'522',\n",
       " u'523',\n",
       " u'1014',\n",
       " u'1015',\n",
       " u'528',\n",
       " u'1011',\n",
       " u'1013',\n",
       " u'1235',\n",
       " u'1236',\n",
       " u'1231',\n",
       " u'443',\n",
       " u'442',\n",
       " u'441',\n",
       " u'440',\n",
       " u'447',\n",
       " u'446',\n",
       " u'445',\n",
       " u'444',\n",
       " u'47',\n",
       " u'108',\n",
       " u'109',\n",
       " u'598',\n",
       " u'103',\n",
       " u'100',\n",
       " u'101',\n",
       " u'106',\n",
       " u'107',\n",
       " u'104',\n",
       " u'105',\n",
       " u'1262',\n",
       " u'900',\n",
       " u'38',\n",
       " u'906',\n",
       " u'905',\n",
       " u'33',\n",
       " u'32',\n",
       " u'31',\n",
       " u'909',\n",
       " u'37',\n",
       " u'36',\n",
       " u'35',\n",
       " u'34',\n",
       " u'1212',\n",
       " u'640',\n",
       " u'643',\n",
       " u'642',\n",
       " u'645',\n",
       " u'1244',\n",
       " u'1247',\n",
       " u'439',\n",
       " u'649',\n",
       " u'1248',\n",
       " u'434',\n",
       " u'435',\n",
       " u'432',\n",
       " u'433',\n",
       " u'430',\n",
       " u'431',\n",
       " u'753',\n",
       " u'339',\n",
       " u'338',\n",
       " u'335',\n",
       " u'334',\n",
       " u'337',\n",
       " u'336',\n",
       " u'331',\n",
       " u'45',\n",
       " u'333',\n",
       " u'332',\n",
       " u'89',\n",
       " u'559',\n",
       " u'1151',\n",
       " u'855',\n",
       " u'856',\n",
       " u'857',\n",
       " u'851',\n",
       " u'852',\n",
       " u'0',\n",
       " u'249',\n",
       " u'858',\n",
       " u'859',\n",
       " u'748',\n",
       " u'6',\n",
       " u'39',\n",
       " u'99',\n",
       " u'98',\n",
       " u'91',\n",
       " u'90',\n",
       " u'93',\n",
       " u'92',\n",
       " u'94',\n",
       " u'97',\n",
       " u'96',\n",
       " u'1216',\n",
       " u'314',\n",
       " u'519',\n",
       " u'153',\n",
       " u'742',\n",
       " u'743',\n",
       " u'744',\n",
       " u'558',\n",
       " u'746',\n",
       " u'747',\n",
       " u'555',\n",
       " u'554',\n",
       " u'557',\n",
       " u'556',\n",
       " u'551',\n",
       " u'550',\n",
       " u'553',\n",
       " u'552',\n",
       " u'238',\n",
       " u'239',\n",
       " u'234',\n",
       " u'235',\n",
       " u'236',\n",
       " u'237',\n",
       " u'230',\n",
       " u'231',\n",
       " u'232',\n",
       " u'233',\n",
       " u'1199',\n",
       " u'1198',\n",
       " u'1052',\n",
       " u'1053',\n",
       " u'1054',\n",
       " u'1055',\n",
       " u'1056',\n",
       " u'1058',\n",
       " u'992',\n",
       " u'1194',\n",
       " u'1',\n",
       " u'614',\n",
       " u'155',\n",
       " u'1099',\n",
       " u'146',\n",
       " u'147',\n",
       " u'618',\n",
       " u'1174',\n",
       " u'1173',\n",
       " u'143',\n",
       " u'140',\n",
       " u'141',\n",
       " u'612',\n",
       " u'613',\n",
       " u'610',\n",
       " u'611',\n",
       " u'616',\n",
       " u'617',\n",
       " u'148',\n",
       " u'1277',\n",
       " u'1007',\n",
       " u'912',\n",
       " u'615',\n",
       " u'513',\n",
       " u'1285',\n",
       " u'1287',\n",
       " u'948',\n",
       " u'1282',\n",
       " u'946',\n",
       " u'1289',\n",
       " u'404',\n",
       " u'941',\n",
       " u'689',\n",
       " u'1001',\n",
       " u'687',\n",
       " u'1000',\n",
       " u'682',\n",
       " u'458',\n",
       " u'1302',\n",
       " u'1303',\n",
       " u'133',\n",
       " u'132',\n",
       " u'131',\n",
       " u'130',\n",
       " u'498',\n",
       " u'499',\n",
       " u'135',\n",
       " u'134',\n",
       " u'494',\n",
       " u'495',\n",
       " u'139',\n",
       " u'138',\n",
       " u'490',\n",
       " u'491',\n",
       " u'492',\n",
       " u'493',\n",
       " u'24',\n",
       " u'25',\n",
       " u'26',\n",
       " u'27',\n",
       " u'20',\n",
       " u'21',\n",
       " u'22',\n",
       " u'23',\n",
       " u'1243',\n",
       " u'1220',\n",
       " u'28',\n",
       " u'29',\n",
       " u'407',\n",
       " u'406',\n",
       " u'939',\n",
       " u'938',\n",
       " u'403',\n",
       " u'402',\n",
       " u'401',\n",
       " u'400',\n",
       " u'932',\n",
       " u'931',\n",
       " u'937',\n",
       " u'629',\n",
       " u'409',\n",
       " u'408',\n",
       " u'628',\n",
       " u'414',\n",
       " u'158',\n",
       " u'457',\n",
       " u'183',\n",
       " u'379',\n",
       " u'378',\n",
       " u'228',\n",
       " u'829',\n",
       " u'828',\n",
       " u'371',\n",
       " u'824',\n",
       " u'373',\n",
       " u'372',\n",
       " u'375',\n",
       " u'374',\n",
       " u'377',\n",
       " u'822',\n",
       " u'1177',\n",
       " u'709',\n",
       " u'1176',\n",
       " u'704',\n",
       " u'705',\n",
       " u'706',\n",
       " u'144',\n",
       " u'702',\n",
       " u'393',\n",
       " u'392',\n",
       " u'88',\n",
       " u'390',\n",
       " u'397',\n",
       " u'396',\n",
       " u'395',\n",
       " u'394',\n",
       " u'82',\n",
       " u'181',\n",
       " u'399',\n",
       " u'81',\n",
       " u'86',\n",
       " u'87',\n",
       " u'84',\n",
       " u'85',\n",
       " u'797',\n",
       " u'796',\n",
       " u'794',\n",
       " u'793',\n",
       " u'792',\n",
       " u'791',\n",
       " u'1170',\n",
       " u'798',\n",
       " u'651',\n",
       " u'7',\n",
       " u'854',\n",
       " u'586',\n",
       " u'587',\n",
       " u'584',\n",
       " u'585',\n",
       " u'582',\n",
       " u'583',\n",
       " u'580',\n",
       " u'581',\n",
       " u'1274',\n",
       " u'1131',\n",
       " u'1130',\n",
       " u'1136',\n",
       " u'588',\n",
       " u'589',\n",
       " u'245',\n",
       " u'244',\n",
       " u'246',\n",
       " u'241',\n",
       " u'240',\n",
       " u'243',\n",
       " u'242',\n",
       " u'149',\n",
       " u'606',\n",
       " u'248',\n",
       " u'1298',\n",
       " u'924',\n",
       " u'391',\n",
       " u'518',\n",
       " u'1009',\n",
       " u'511',\n",
       " u'510',\n",
       " u'601',\n",
       " u'512',\n",
       " u'515',\n",
       " u'1002',\n",
       " u'517',\n",
       " u'516',\n",
       " u'623',\n",
       " u'622',\n",
       " u'621',\n",
       " u'620',\n",
       " u'627',\n",
       " u'626',\n",
       " u'625',\n",
       " u'624',\n",
       " u'450',\n",
       " u'451',\n",
       " u'452',\n",
       " u'453',\n",
       " u'454',\n",
       " u'455',\n",
       " u'456',\n",
       " u'1228',\n",
       " u'179',\n",
       " u'178',\n",
       " u'600',\n",
       " u'199',\n",
       " u'175',\n",
       " u'174',\n",
       " u'173',\n",
       " u'172',\n",
       " u'171',\n",
       " u'170',\n",
       " u'977',\n",
       " u'976',\n",
       " u'975',\n",
       " u'973',\n",
       " u'972',\n",
       " u'657',\n",
       " u'1080',\n",
       " u'979',\n",
       " u'656',\n",
       " u'599',\n",
       " u'180',\n",
       " u'655',\n",
       " u'186',\n",
       " u'187',\n",
       " u'650',\n",
       " u'194',\n",
       " u'652',\n",
       " u'188',\n",
       " u'189',\n",
       " u'653',\n",
       " u'196',\n",
       " u'184',\n",
       " u'191',\n",
       " u'185',\n",
       " u'190',\n",
       " u'602',\n",
       " u'1089',\n",
       " u'192',\n",
       " u'1227',\n",
       " u'11',\n",
       " u'10',\n",
       " u'13',\n",
       " u'12',\n",
       " u'15',\n",
       " u'14',\n",
       " u'17',\n",
       " u'16',\n",
       " u'19',\n",
       " u'18',\n",
       " u'864',\n",
       " u'867',\n",
       " u'866',\n",
       " u'1226',\n",
       " u'883',\n",
       " u'882',\n",
       " u'880',\n",
       " u'887',\n",
       " u'885',\n",
       " u'569',\n",
       " u'62',\n",
       " u'888',\n",
       " u'940',\n",
       " u'648',\n",
       " u'1115',\n",
       " u'755',\n",
       " u'63',\n",
       " u'1081',\n",
       " u'322',\n",
       " u'323',\n",
       " u'320',\n",
       " u'321',\n",
       " u'326',\n",
       " u'327',\n",
       " u'324',\n",
       " u'325',\n",
       " u'1224',\n",
       " u'328',\n",
       " u'329',\n",
       " u'562',\n",
       " u'201',\n",
       " u'200',\n",
       " u'203',\n",
       " u'202',\n",
       " u'771',\n",
       " u'204',\n",
       " u'207',\n",
       " u'206',\n",
       " u'209',\n",
       " u'208',\n",
       " u'779',\n",
       " u'778',\n",
       " u'77',\n",
       " u'76',\n",
       " u'75',\n",
       " u'74',\n",
       " u'73',\n",
       " u'72',\n",
       " u'71',\n",
       " u'70',\n",
       " u'79',\n",
       " u'78',\n",
       " u'2',\n",
       " u'1042',\n",
       " u'1040',\n",
       " u'1049',\n",
       " u'1048',\n",
       " u'805',\n",
       " u'804',\n",
       " u'1142',\n",
       " u'1143',\n",
       " u'1140',\n",
       " u'1268',\n",
       " u'1146',\n",
       " u'1147',\n",
       " u'1144',\n",
       " u'1305',\n",
       " u'667',\n",
       " u'666',\n",
       " u'665',\n",
       " u'1260',\n",
       " u'1267',\n",
       " u'1266',\n",
       " u'1265',\n",
       " u'1264',\n",
       " u'769',\n",
       " u'1278',\n",
       " u'692',\n",
       " u'693',\n",
       " u'690',\n",
       " u'696',\n",
       " u'697',\n",
       " u'694',\n",
       " u'698',\n",
       " u'542',\n",
       " u'543',\n",
       " u'540',\n",
       " u'541',\n",
       " u'546',\n",
       " u'547',\n",
       " u'544',\n",
       " u'545',\n",
       " u'8',\n",
       " u'548',\n",
       " u'549',\n",
       " u'68',\n",
       " u'521',\n",
       " u'990',\n",
       " u'868',\n",
       " u'120',\n",
       " u'121',\n",
       " u'122',\n",
       " u'123',\n",
       " u'124',\n",
       " u'125',\n",
       " u'126',\n",
       " u'127',\n",
       " u'128',\n",
       " u'129',\n",
       " u'219',\n",
       " u'176',\n",
       " u'259',\n",
       " u'1022',\n",
       " u'529',\n",
       " u'928',\n",
       " u'415',\n",
       " u'416',\n",
       " u'417',\n",
       " u'410',\n",
       " u'411',\n",
       " u'412',\n",
       " u'413',\n",
       " u'920',\n",
       " u'137',\n",
       " u'923',\n",
       " u'418',\n",
       " u'419',\n",
       " u'136',\n",
       " u'319',\n",
       " u'318',\n",
       " u'313',\n",
       " u'1182',\n",
       " u'311',\n",
       " u'310',\n",
       " u'317',\n",
       " u'316',\n",
       " u'315',\n",
       " u'1028',\n",
       " u'496',\n",
       " u'832',\n",
       " u'833',\n",
       " u'831',\n",
       " u'836',\n",
       " u'834',\n",
       " u'835',\n",
       " u'839',\n",
       " u'808',\n",
       " u'3',\n",
       " u'368',\n",
       " u'369',\n",
       " u'366',\n",
       " u'367',\n",
       " u'364',\n",
       " u'365',\n",
       " u'362',\n",
       " u'363',\n",
       " u'360',\n",
       " u'361',\n",
       " u'218',\n",
       " u'1050',\n",
       " u'380',\n",
       " u'381',\n",
       " u'382',\n",
       " u'383',\n",
       " u'384',\n",
       " u'385',\n",
       " u'386',\n",
       " u'387',\n",
       " u'388',\n",
       " u'389',\n",
       " u'784',\n",
       " u'785',\n",
       " u'786',\n",
       " u'787',\n",
       " u'780',\n",
       " u'781',\n",
       " u'782',\n",
       " u'605',\n",
       " u'579',\n",
       " u'578',\n",
       " u'604',\n",
       " u'573',\n",
       " u'572',\n",
       " u'571',\n",
       " u'570',\n",
       " u'577',\n",
       " u'576',\n",
       " u'575',\n",
       " u'574',\n",
       " u'60',\n",
       " u'102',\n",
       " u'258',\n",
       " u'152',\n",
       " u'64',\n",
       " u'65',\n",
       " u'66',\n",
       " u'67',\n",
       " u'252',\n",
       " u'253',\n",
       " u'250',\n",
       " u'251',\n",
       " u'256',\n",
       " u'257',\n",
       " u'254',\n",
       " u'154',\n",
       " u'157',\n",
       " u'1163',\n",
       " u'632',\n",
       " u'405',\n",
       " u'730',\n",
       " u'1038',\n",
       " u'732',\n",
       " u'735',\n",
       " u'508',\n",
       " u'736',\n",
       " u'1032',\n",
       " u'507',\n",
       " u'504',\n",
       " u'505',\n",
       " u'502',\n",
       " u'503',\n",
       " u'500',\n",
       " u'501',\n",
       " u'630',\n",
       " u'631',\n",
       " u'1210',\n",
       " u'1211',\n",
       " u'469',\n",
       " u'468',\n",
       " u'1214',\n",
       " u'637',\n",
       " u'465',\n",
       " u'639',\n",
       " u'467',\n",
       " u'466',\n",
       " u'461',\n",
       " u'460',\n",
       " u'463',\n",
       " u'462',\n",
       " u'901',\n",
       " u'168',\n",
       " u'169',\n",
       " u'164',\n",
       " u'165',\n",
       " u'166',\n",
       " u'167',\n",
       " u'160',\n",
       " u'161',\n",
       " u'162',\n",
       " u'163',\n",
       " u'965',\n",
       " u'966',\n",
       " u'967',\n",
       " u'969',\n",
       " u'1107',\n",
       " u'1102',\n",
       " u'1103',\n",
       " u'934',\n",
       " u'686',\n",
       " u'30',\n",
       " u'678',\n",
       " u'514',\n",
       " u'609',\n",
       " u'641',\n",
       " u'877',\n",
       " u'874',\n",
       " u'872',\n",
       " u'873',\n",
       " u'1242',\n",
       " u'9',\n",
       " u'1157',\n",
       " u'644',\n",
       " u'893',\n",
       " u'647',\n",
       " u'896',\n",
       " u'897',\n",
       " u'670',\n",
       " u'1087',\n",
       " u'646',\n",
       " u'1150',\n",
       " u'255',\n",
       " u'436',\n",
       " u'672',\n",
       " u'437',\n",
       " u'673',\n",
       " u'282',\n",
       " u'357',\n",
       " u'356',\n",
       " u'355',\n",
       " u'354',\n",
       " u'353',\n",
       " u'352',\n",
       " u'351',\n",
       " u'350',\n",
       " u'801',\n",
       " u'800',\n",
       " u'1263',\n",
       " u'806',\n",
       " u'359',\n",
       " u'358',\n",
       " u'216',\n",
       " u'217',\n",
       " u'214',\n",
       " u'215',\n",
       " u'212',\n",
       " u'213',\n",
       " u'210',\n",
       " u'211',\n",
       " u'762',\n",
       " u'955',\n",
       " u'761',\n",
       " u'764',\n",
       " u'43',\n",
       " u'956',\n",
       " u'1178',\n",
       " u'438',\n",
       " u'1077',\n",
       " u'1074',\n",
       " u'1075',\n",
       " u'1072',\n",
       " u'1073',\n",
       " u'1070',\n",
       " u'1071',\n",
       " u'289',\n",
       " u'288',\n",
       " u'4',\n",
       " u'281',\n",
       " u'280',\n",
       " u'283',\n",
       " u'1030',\n",
       " u'285',\n",
       " u'284',\n",
       " u'287',\n",
       " u'286',\n",
       " u'1094',\n",
       " u'1095',\n",
       " u'1096',\n",
       " u'1090',\n",
       " u'674',\n",
       " u'1154',\n",
       " u'676',\n",
       " u'1098',\n",
       " u'671',\n",
       " u'1153',\n",
       " u'330',\n",
       " u'263',\n",
       " u'262',\n",
       " u'261',\n",
       " u'260',\n",
       " u'267',\n",
       " u'266',\n",
       " u'265',\n",
       " u'264',\n",
       " u'269',\n",
       " u'268',\n",
       " u'182',\n",
       " u'1082',\n",
       " u'59',\n",
       " u'58',\n",
       " u'1215',\n",
       " u'61',\n",
       " u'55',\n",
       " u'54',\n",
       " u'57',\n",
       " u'56',\n",
       " u'51',\n",
       " u'50',\n",
       " u'53',\n",
       " u'52',\n",
       " u'537',\n",
       " u'536',\n",
       " u'535',\n",
       " u'534',\n",
       " u'533',\n",
       " u'532',\n",
       " u'531',\n",
       " u'530',\n",
       " u'539',\n",
       " u'538',\n",
       " u'988',\n",
       " u'989',\n",
       " u'983',\n",
       " u'986',\n",
       " u'777',\n",
       " u'984',\n",
       " u'985',\n",
       " u'115',\n",
       " u'114',\n",
       " u'117',\n",
       " u'776',\n",
       " u'111',\n",
       " u'110',\n",
       " u'113',\n",
       " u'69',\n",
       " u'205',\n",
       " u'119',\n",
       " u'118',\n",
       " u'773',\n",
       " u'429',\n",
       " u'428',\n",
       " u'1254',\n",
       " u'919',\n",
       " u'1253',\n",
       " u'1250',\n",
       " u'1251',\n",
       " u'421',\n",
       " u'420',\n",
       " u'423',\n",
       " u'916',\n",
       " u'425',\n",
       " u'424',\n",
       " u'913',\n",
       " u'1259',\n",
       " u'308',\n",
       " u'309',\n",
       " u'300',\n",
       " u'301',\n",
       " u'302',\n",
       " u'303',\n",
       " u'304',\n",
       " u'305',\n",
       " u'306',\n",
       " u'307',\n",
       " u'825',\n",
       " u'370',\n",
       " u'846',\n",
       " u'844',\n",
       " u'843',\n",
       " u'840',\n",
       " u'853',\n",
       " u'823',\n",
       " u'1209',\n",
       " u'376',\n",
       " u'459',\n",
       " u'1249',\n",
       " u'142',\n",
       " u'1276',\n",
       " u'177',\n",
       " u'145',\n",
       " u'568',\n",
       " u'752',\n",
       " u'751',\n",
       " u'757',\n",
       " u'756',\n",
       " u'449',\n",
       " u'754',\n",
       " u'560',\n",
       " u'561',\n",
       " u'759',\n",
       " u'563',\n",
       " u'564',\n",
       " u'565',\n",
       " u'566',\n",
       " u'567',\n",
       " u'506',\n",
       " u'927',\n",
       " u'229',\n",
       " u'1033',\n",
       " u'227',\n",
       " u'226',\n",
       " u'225',\n",
       " u'224',\n",
       " u'223',\n",
       " u'222',\n",
       " u'221',\n",
       " u'220',\n",
       " u'1031',\n",
       " u'1188',\n",
       " u'1189',\n",
       " u'1036',\n",
       " u'1185',\n",
       " u'1029',\n",
       " u'1183',\n",
       " u'1181',\n",
       " u'726',\n",
       " u'1205',\n",
       " u'116',\n",
       " u'722',\n",
       " u'720',\n",
       " u'729',\n",
       " u'151',\n",
       " u'150',\n",
       " u'607',\n",
       " u'1167',\n",
       " u'1160',\n",
       " u'1208',\n",
       " u'603',\n",
       " u'156',\n",
       " u'159',\n",
       " u'1204',\n",
       " u'1207',\n",
       " u'112',\n",
       " u'1201',\n",
       " u'608',\n",
       " u'1202',\n",
       " u'633',\n",
       " u'83',\n",
       " u'1161',\n",
       " u'634',\n",
       " u'80',\n",
       " u'635',\n",
       " u'958',\n",
       " u'398',\n",
       " u'636',\n",
       " u'48',\n",
       " u'49',\n",
       " u'46',\n",
       " u'950',\n",
       " u'44',\n",
       " u'952',\n",
       " u'42',\n",
       " u'954',\n",
       " u'40',\n",
       " u'41',\n",
       " u'1111',\n",
       " u'1110',\n",
       " u'1113',\n",
       " u'1299',\n",
       " u'5',\n",
       " u'1117',\n",
       " u'464',\n",
       " u'1292',\n",
       " u'1118',\n",
       " u'1290',\n",
       " u'591',\n",
       " u'1206',\n",
       " u'1217',\n",
       " u'489',\n",
       " u'488',\n",
       " u'487',\n",
       " u'486',\n",
       " u'485',\n",
       " u'484',\n",
       " u'483',\n",
       " u'482',\n",
       " u'481',\n",
       " u'480',\n",
       " u'509',\n",
       " u'472',\n",
       " u'473',\n",
       " u'471',\n",
       " u'476',\n",
       " u'477',\n",
       " u'474',\n",
       " u'475',\n",
       " u'478',\n",
       " u'479']"
      ]
     },
     "execution_count": 18,
     "metadata": {},
     "output_type": "execute_result"
    }
   ],
   "source": [
    "#####################################\n",
    "#                 6                 #\n",
    "#####################################\n",
    "\n",
    "## Create a dictionary named paid_students containing all students who either\n",
    "## haven't canceled yet or who remained enrolled for more than 7 days. The keys\n",
    "## should be account keys, and the values should be the date the student enrolled.\n",
    "paid_students = {}\n",
    "for x in non_udacity_enrollments:\n",
    "    if x['days_to_cancel'] == None or x['days_to_cancel'] > 7:\n",
    "        account_key = x['account_key'] \n",
    "        enrollment_date = x['join_date']\n",
    "        \n",
    "        #add value to dictionary onl if it is not present yet or the date which will be added is more recent one\n",
    "        if account_key not in paid_students or \\\n",
    "                enrollment_date > paid_students[account_key]:\n",
    "            paid_students[account_key] = enrollment_date\n",
    "        \n",
    "print len(paid_students)\n",
    "print paid_students['1175']\n",
    "print paid_students[account_key] \n",
    "paid_students.keys()\n",
    "##print paid_students.keys()"
   ]
  },
  {
   "cell_type": "markdown",
   "metadata": {},
   "source": [
    "## Getting Data from First Week"
   ]
  },
  {
   "cell_type": "code",
   "execution_count": 45,
   "metadata": {
    "collapsed": true
   },
   "outputs": [],
   "source": [
    "# Takes a student's join date and the date of a specific engagement record,\n",
    "# and returns True if that engagement record happened within one week\n",
    "# of the student joining.\n",
    "def within_one_week(join_date, engagement_date):\n",
    "    time_delta = engagement_date - join_date\n",
    "    return time_delta.days < 7 and time_delta.days >= 0"
   ]
  },
  {
   "cell_type": "code",
   "execution_count": 46,
   "metadata": {
    "collapsed": false
   },
   "outputs": [
    {
     "name": "stdout",
     "output_type": "stream",
     "text": [
      "1293\n",
      "134549\n",
      "3618\n"
     ]
    }
   ],
   "source": [
    "#Bazując na liście paid_students, gdzie mam account key wszystkich studentów, którzy płacili za kurs filtruje \n",
    "#tylko tych studentów w listach enrollment, engagement i submission. \n",
    "#Tworząc tym samym nowy zbiór danych zawierajacy tylko płacących studentów\n",
    "\n",
    "def remove_free_trial_cancels(data):\n",
    "    new_data = []\n",
    "    for data_point in data:\n",
    "        if data_point['account_key'] in paid_students:\n",
    "            new_data.append(data_point)\n",
    "    return new_data\n",
    "            \n",
    "\n",
    "paid_enrollments = remove_free_trial_cancels(non_udacity_enrollments)\n",
    "paid_engagement = remove_free_trial_cancels(non_udacity_engagement)\n",
    "paid_submissions = remove_free_trial_cancels(non_udacity_submissions)\n",
    "\n",
    "print len(paid_enrollments)\n",
    "print len(paid_engagement)\n",
    "print len(paid_submissions)"
   ]
  },
  {
   "cell_type": "code",
   "execution_count": 47,
   "metadata": {
    "collapsed": false
   },
   "outputs": [
    {
     "name": "stdout",
     "output_type": "stream",
     "text": [
      "6919\n"
     ]
    },
    {
     "data": {
      "text/plain": [
       "{'account_key': u'0',\n",
       " u'lessons_completed': 0,\n",
       " u'num_courses_visited': 2,\n",
       " u'projects_completed': 0,\n",
       " u'total_minutes_visited': 37.2848873333,\n",
       " u'utc_date': datetime.datetime(2015, 1, 10, 0, 0)}"
      ]
     },
     "execution_count": 47,
     "metadata": {},
     "output_type": "execute_result"
    }
   ],
   "source": [
    "#####################################\n",
    "#                 7                 #\n",
    "#####################################\n",
    "\n",
    "## Create a list of rows from the engagement table including only rows where\n",
    "## the student is one of the paid students you just found, and the date is within\n",
    "## one week of the student's join date.\n",
    "\n",
    "paid_engagement_in_first_week = []\n",
    "\n",
    "for x in paid_engagement:\n",
    "    account_key =  x['account_key']\n",
    "    join_date = paid_students[account_key]\n",
    "    engagement_record_date = x['utc_date']\n",
    "    \n",
    "    if within_one_week(join_date, engagement_record_date):\n",
    "        paid_engagement_in_first_week.append(x)\n",
    "        \n",
    "print len(paid_engagement_in_first_week)\n",
    "\n",
    "paid_engagement_in_first_week[1]"
   ]
  },
  {
   "cell_type": "markdown",
   "metadata": {},
   "source": [
    "## Exploring Student Engagement"
   ]
  },
  {
   "cell_type": "code",
   "execution_count": 48,
   "metadata": {
    "collapsed": true
   },
   "outputs": [],
   "source": [
    "from collections import defaultdict\n",
    "\n",
    "# Create a dictionary of engagement grouped by student.\n",
    "# The keys are account keys, and the values are lists of engagement records.\n",
    "engagement_by_account = defaultdict(list)\n",
    "for engagement_record in paid_engagement_in_first_week:\n",
    "    account_key = engagement_record['account_key']\n",
    "    engagement_by_account[account_key].append(engagement_record)"
   ]
  },
  {
   "cell_type": "code",
   "execution_count": 49,
   "metadata": {
    "collapsed": true
   },
   "outputs": [],
   "source": [
    "# Create a dictionary with the total minutes each student spent in the classroom during the first week.\n",
    "# The keys are account keys, and the values are numbers (total minutes)\n",
    "total_minutes_by_account = {}\n",
    "for account_key, engagement_for_student in engagement_by_account.items():\n",
    "    total_minutes = 0\n",
    "    for engagement_record in engagement_for_student:\n",
    "        total_minutes += engagement_record['total_minutes_visited']\n",
    "    total_minutes_by_account[account_key] = total_minutes"
   ]
  },
  {
   "cell_type": "code",
   "execution_count": 50,
   "metadata": {
    "collapsed": false
   },
   "outputs": [
    {
     "name": "stdout",
     "output_type": "stream",
     "text": [
      "Mean: 306.708326753\n",
      "Standard deviation: 412.996933409\n",
      "Minimum: 0.0\n",
      "Maximum: 3564.7332645\n"
     ]
    }
   ],
   "source": [
    "import numpy as np\n",
    "\n",
    "# Summarize the data about minutes spent in the classroom\n",
    "total_minutes = total_minutes_by_account.values()\n",
    "print 'Mean:', np.mean(total_minutes)\n",
    "print 'Standard deviation:', np.std(total_minutes)\n",
    "print 'Minimum:', np.min(total_minutes)\n",
    "print 'Maximum:', np.max(total_minutes)"
   ]
  },
  {
   "cell_type": "markdown",
   "metadata": {},
   "source": [
    "## Debugging Data Analysis Code"
   ]
  },
  {
   "cell_type": "code",
   "execution_count": null,
   "metadata": {
    "collapsed": true
   },
   "outputs": [],
   "source": [
    "#####################################\n",
    "#                 8                 #\n",
    "#####################################\n",
    "\n",
    "## Go through a similar process as before to see if there is a problem.\n",
    "## Locate at least one surprising piece of data, output it, and take a look at it."
   ]
  },
  {
   "cell_type": "code",
   "execution_count": 54,
   "metadata": {
    "collapsed": false
   },
   "outputs": [
    {
     "name": "stdout",
     "output_type": "stream",
     "text": [
      "3564.7332645\n",
      "163\n"
     ]
    }
   ],
   "source": [
    "student_with_max_min = None\n",
    "max_minutes = 0\n",
    "\n",
    "for student, total_minutes in total_minutes_by_account.items():\n",
    "    if total_minutes > max_minutes:\n",
    "        max_minutes = total_minutes\n",
    "        student_with_max_min = student\n",
    "\n",
    "print max_minutes        \n",
    "print student_with_max_min"
   ]
  },
  {
   "cell_type": "markdown",
   "metadata": {},
   "source": [
    "## Lessons Completed in First Week"
   ]
  },
  {
   "cell_type": "code",
   "execution_count": 53,
   "metadata": {
    "collapsed": false
   },
   "outputs": [
    {
     "name": "stdout",
     "output_type": "stream",
     "text": [
      "[(u'619', 6), (u'1140', 1), (u'669', 0), (u'428', 2), (u'344', 4), (u'0', 1), (u'346', 1), (u'347', 3), (u'340', 1), (u'341', 0), (u'342', 0), (u'343', 0), (u'811', 9), (u'812', 20), (u'348', 0), (u'349', 1), (u'816', 0), (u'918', 0), (u'1149', 3), (u'719', 0), (u'718', 0), (u'715', 1), (u'426', 0), (u'713', 0), (u'712', 0), (u'710', 0), (u'661', 0), (u'129', 1), (u'660', 0), (u'422', 2), (u'1060', 1), (u'1062', 0), (u'1067', 0), (u'1066', 0), (u'671', 0), (u'427', 3), (u'298', 1), (u'299', 0), (u'296', 0), (u'297', 2), (u'294', 2), (u'295', 2), (u'292', 0), (u'293', 4), (u'290', 3), (u'291', 0), (u'591', 0), (u'590', 0), (u'593', 0), (u'592', 1), (u'595', 2), (u'594', 0), (u'597', 6), (u'596', 4), (u'195', 4), (u'194', 1), (u'197', 9), (u'196', 1), (u'191', 0), (u'190', 0), (u'193', 0), (u'192', 4), (u'270', 9), (u'271', 5), (u'272', 8), (u'273', 0), (u'274', 6), (u'275', 0), (u'276', 3), (u'277', 2), (u'278', 0), (u'279', 0), (u'497', 1), (u'524', 0), (u'525', 0), (u'526', 18), (u'527', 0), (u'520', 0), (u'1019', 0), (u'522', 0), (u'523', 0), (u'1014', 10), (u'1015', 0), (u'528', 3), (u'529', 0), (u'1013', 0), (u'1235', 1), (u'449', 0), (u'391', 0), (u'1231', 8), (u'443', 4), (u'442', 4), (u'441', 5), (u'440', 0), (u'447', 0), (u'446', 0), (u'445', 0), (u'444', 0), (u'47', 13), (u'108', 0), (u'109', 3), (u'102', 0), (u'103', 7), (u'100', 1), (u'101', 0), (u'106', 0), (u'107', 1), (u'104', 2), (u'105', 0), (u'39', 10), (u'38', 0), (u'906', 0), (u'905', 0), (u'33', 0), (u'32', 0), (u'31', 0), (u'30', 1), (u'37', 5), (u'36', 4), (u'35', 4), (u'34', 1), (u'641', 2), (u'640', 0), (u'1243', 0), (u'642', 2), (u'645', 2), (u'644', 1), (u'438', 2), (u'439', 2), (u'436', 4), (u'437', 0), (u'434', 5), (u'435', 3), (u'432', 1), (u'433', 0), (u'430', 9), (u'431', 0), (u'339', 0), (u'338', 1), (u'335', 2), (u'334', 0), (u'337', 0), (u'336', 0), (u'331', 2), (u'330', 0), (u'333', 0), (u'332', 1), (u'559', 1), (u'823', 0), (u'854', 2), (u'855', 0), (u'856', 0), (u'857', 0), (u'851', 1), (u'852', 1), (u'345', 0), (u'858', 1), (u'859', 0), (u'748', 4), (u'6', 6), (u'822', 0), (u'43', 0), (u'99', 2), (u'98', 2), (u'91', 1), (u'90', 1), (u'93', 3), (u'92', 3), (u'94', 0), (u'97', 0), (u'96', 0), (u'153', 1), (u'742', 1), (u'743', 0), (u'744', 1), (u'558', 0), (u'746', 3), (u'747', 0), (u'555', 1), (u'554', 2), (u'557', 2), (u'556', 1), (u'551', 0), (u'550', 0), (u'553', 2), (u'552', 5), (u'919', 5), (u'238', 2), (u'239', 0), (u'234', 4), (u'235', 0), (u'236', 3), (u'237', 2), (u'230', 0), (u'231', 0), (u'232', 5), (u'233', 1), (u'1050', 1), (u'1198', 0), (u'1052', 0), (u'1053', 0), (u'1054', 0), (u'1055', 0), (u'1056', 5), (u'1058', 0), (u'1194', 0), (u'1', 0), (u'155', 0), (u'159', 0), (u'146', 0), (u'1176', 4), (u'618', 4), (u'145', 4), (u'142', 1), (u'143', 1), (u'140', 3), (u'1170', 0), (u'612', 0), (u'613', 3), (u'610', 4), (u'611', 1), (u'616', 4), (u'617', 0), (u'148', 0), (u'149', 0), (u'511', 3), (u'1276', 0), (u'154', 4), (u'1285', 0), (u'1287', 0), (u'948', 1), (u'1282', 1), (u'946', 1), (u'1289', 0), (u'940', 0), (u'941', 0), (u'689', 0), (u'517', 3), (u'687', 0), (u'686', 0), (u'682', 0), (u'458', 0), (u'1302', 0), (u'459', 6), (u'873', 0), (u'133', 0), (u'132', 1), (u'131', 0), (u'130', 0), (u'137', 3), (u'136', 0), (u'135', 2), (u'134', 6), (u'494', 2), (u'495', 3), (u'139', 1), (u'138', 0), (u'490', 0), (u'491', 2), (u'492', 0), (u'493', 4), (u'24', 4), (u'25', 0), (u'26', 2), (u'27', 3), (u'20', 2), (u'21', 12), (u'22', 5), (u'23', 6), (u'1220', 0), (u'28', 2), (u'29', 5), (u'407', 4), (u'406', 1), (u'405', 4), (u'404', 2), (u'403', 15), (u'402', 0), (u'401', 0), (u'400', 1), (u'932', 0), (u'931', 0), (u'937', 0), (u'452', 0), (u'409', 1), (u'408', 0), (u'453', 1), (u'414', 0), (u'457', 2), (u'183', 2), (u'265', 3), (u'379', 2), (u'378', 0), (u'228', 3), (u'829', 0), (u'828', 2), (u'371', 0), (u'370', 0), (u'373', 2), (u'372', 1), (u'375', 1), (u'374', 0), (u'377', 6), (u'376', 0), (u'1278', 0), (u'709', 1), (u'147', 0), (u'704', 0), (u'705', 0), (u'706', 9), (u'144', 1), (u'702', 0), (u'393', 0), (u'392', 5), (u'88', 0), (u'89', 1), (u'397', 0), (u'396', 0), (u'395', 0), (u'394', 2), (u'82', 1), (u'83', 3), (u'80', 1), (u'81', 2), (u'86', 0), (u'87', 1), (u'84', 5), (u'85', 1), (u'797', 0), (u'796', 0), (u'794', 3), (u'793', 0), (u'792', 11), (u'791', 1), (u'141', 2), (u'798', 4), (u'7', 1), (u'170', 2), (u'586', 1), (u'587', 0), (u'584', 0), (u'585', 3), (u'582', 0), (u'583', 6), (u'580', 1), (u'581', 1), (u'1274', 7), (u'1131', 5), (u'1130', 0), (u'1136', 0), (u'588', 0), (u'589', 0), (u'245', 2), (u'244', 0), (u'246', 1), (u'241', 1), (u'614', 1), (u'243', 0), (u'242', 3), (u'615', 0), (u'249', 5), (u'248', 1), (u'418', 0), (u'519', 4), (u'518', 8), (u'1009', 0), (u'1007', 0), (u'510', 1), (u'513', 8), (u'512', 0), (u'515', 1), (u'1002', 0), (u'1001', 0), (u'1000', 1), (u'623', 0), (u'622', 1), (u'621', 1), (u'514', 0), (u'627', 6), (u'626', 1), (u'625', 0), (u'624', 1), (u'450', 5), (u'451', 1), (u'629', 3), (u'628', 1), (u'454', 1), (u'455', 2), (u'456', 0), (u'1228', 0), (u'179', 5), (u'178', 6), (u'1139', 1), (u'199', 6), (u'175', 10), (u'174', 1), (u'173', 0), (u'172', 4), (u'171', 5), (u'198', 1), (u'977', 0), (u'182', 1), (u'975', 0), (u'973', 1), (u'972', 0), (u'657', 0), (u'1080', 0), (u'979', 1), (u'656', 0), (u'599', 1), (u'180', 0), (u'181', 3), (u'186', 2), (u'187', 2), (u'184', 2), (u'185', 0), (u'652', 1), (u'188', 0), (u'189', 7), (u'516', 2), (u'1123', 0), (u'650', 1), (u'1124', 0), (u'651', 8), (u'316', 9), (u'1089', 0), (u'1088', 0), (u'1227', 0), (u'1113', 0), (u'11', 0), (u'10', 0), (u'13', 10), (u'12', 0), (u'15', 1), (u'14', 0), (u'17', 1), (u'16', 1), (u'19', 0), (u'18', 0), (u'864', 0), (u'867', 0), (u'866', 0), (u'354', 3), (u'1210', 1), (u'1226', 0), (u'883', 3), (u'882', 0), (u'880', 0), (u'887', 0), (u'885', 27), (u'569', 13), (u'888', 0), (u'1292', 0), (u'45', 0), (u'322', 0), (u'323', 2), (u'320', 3), (u'321', 0), (u'326', 7), (u'327', 1), (u'324', 6), (u'325', 1), (u'1224', 0), (u'328', 2), (u'329', 4), (u'562', 1), (u'201', 0), (u'200', 1), (u'203', 2), (u'202', 0), (u'205', 1), (u'204', 2), (u'207', 0), (u'177', 3), (u'209', 0), (u'208', 1), (u'779', 0), (u'778', 0), (u'77', 0), (u'76', 0), (u'75', 0), (u'74', 0), (u'73', 0), (u'72', 7), (u'71', 0), (u'70', 2), (u'655', 0), (u'79', 1), (u'78', 0), (u'1042', 0), (u'1040', 0), (u'1049', 0), (u'1048', 0), (u'359', 9), (u'358', 0), (u'868', 0), (u'1142', 0), (u'1143', 1), (u'1269', 0), (u'1268', 0), (u'1146', 0), (u'1147', 0), (u'1144', 0), (u'1305', 0), (u'667', 0), (u'1262', 0), (u'665', 0), (u'1260', 0), (u'1267', 0), (u'1266', 0), (u'1265', 0), (u'1264', 0), (u'215', 1), (u'653', 8), (u'692', 0), (u'693', 0), (u'690', 0), (u'224', 0), (u'696', 2), (u'697', 0), (u'694', 2), (u'698', 0), (u'1303', 0), (u'222', 1), (u'542', 6), (u'543', 1), (u'540', 2), (u'541', 0), (u'546', 0), (u'547', 0), (u'544', 6), (u'545', 3), (u'8', 7), (u'548', 2), (u'549', 0), (u'521', 1), (u'990', 0), (u'992', 0), (u'120', 3), (u'121', 3), (u'122', 7), (u'123', 0), (u'124', 0), (u'125', 9), (u'126', 0), (u'127', 1), (u'128', 5), (u'2', 0), (u'176', 6), (u'563', 0), (u'1022', 0), (u'1011', 0), (u'928', 0), (u'415', 0), (u'416', 0), (u'417', 0), (u'410', 2), (u'411', 0), (u'412', 0), (u'413', 2), (u'920', 0), (u'498', 5), (u'923', 0), (u'924', 4), (u'419', 0), (u'927', 1), (u'319', 5), (u'318', 0), (u'313', 5), (u'1029', 0), (u'311', 0), (u'310', 9), (u'317', 17), (u'1236', 0), (u'315', 3), (u'314', 9), (u'1177', 1), (u'496', 8), (u'832', 0), (u'833', 0), (u'831', 0), (u'836', 1), (u'834', 0), (u'835', 0), (u'839', 0), (u'3', 0), (u'368', 4), (u'369', 0), (u'366', 0), (u'367', 1), (u'364', 0), (u'365', 0), (u'362', 0), (u'363', 0), (u'360', 3), (u'361', 10), (u'218', 20), (u'1175', 0), (u'381', 0), (u'382', 1), (u'383', 0), (u'384', 5), (u'385', 2), (u'386', 0), (u'387', 0), (u'388', 5), (u'389', 0), (u'784', 3), (u'380', 0), (u'786', 0), (u'787', 0), (u'780', 0), (u'781', 0), (u'782', 2), (u'1174', 0), (u'630', 2), (u'114', 1), (u'151', 7), (u'579', 1), (u'578', 0), (u'150', 1), (u'573', 6), (u'572', 6), (u'571', 0), (u'570', 0), (u'577', 0), (u'576', 2), (u'575', 3), (u'574', 0), (u'60', 0), (u'61', 2), (u'62', 1), (u'259', 3), (u'64', 6), (u'65', 3), (u'66', 0), (u'67', 2), (u'68', 0), (u'253', 0), (u'250', 2), (u'251', 1), (u'256', 0), (u'257', 0), (u'254', 0), (u'255', 1), (u'499', 2), (u'157', 0), (u'156', 2), (u'939', 0), (u'730', 0), (u'1038', 0), (u'938', 0), (u'735', 0), (u'508', 1), (u'736', 0), (u'506', 0), (u'507', 0), (u'1030', 2), (u'505', 2), (u'502', 3), (u'503', 0), (u'500', 1), (u'501', 0), (u'1212', 0), (u'631', 1), (u'632', 0), (u'633', 36), (u'1216', 1), (u'468', 1), (u'636', 0), (u'785', 0), (u'465', 1), (u'464', 4), (u'1128', 0), (u'466', 1), (u'461', 0), (u'900', 0), (u'463', 2), (u'462', 4), (u'901', 0), (u'168', 0), (u'169', 0), (u'164', 15), (u'165', 2), (u'166', 0), (u'167', 0), (u'160', 2), (u'161', 3), (u'162', 3), (u'163', 20), (u'965', 2), (u'966', 0), (u'967', 2), (u'634', 2), (u'969', 0), (u'1107', 0), (u'1102', 0), (u'1103', 0), (u'934', 0), (u'909', 0), (u'635', 1), (u'678', 0), (u'1183', 1), (u'877', 0), (u'874', 0), (u'872', 1), (u'643', 5), (u'1242', 0), (u'9', 2), (u'676', 0), (u'1244', 0), (u'637', 0), (u'893', 0), (u'647', 0), (u'896', 0), (u'897', 0), (u'670', 5), (u'1087', 1), (u'646', 2), (u'1099', 1), (u'649', 8), (u'1199', 0), (u'1247', 0), (u'672', 0), (u'1277', 0), (u'1248', 0), (u'1173', 0), (u'357', 0), (u'356', 0), (u'355', 10), (u'808', 0), (u'353', 1), (u'352', 2), (u'351', 1), (u'350', 0), (u'568', 0), (u'801', 0), (u'800', 1), (u'1263', 1), (u'806', 0), (u'805', 0), (u'804', 0), (u'216', 1), (u'217', 0), (u'214', 0), (u'769', 0), (u'212', 0), (u'213', 6), (u'210', 1), (u'211', 5), (u'762', 0), (u'42', 2), (u'761', 0), (u'764', 0), (u'219', 2), (u'41', 1), (u'1259', 0), (u'1077', 0), (u'1074', 0), (u'1075', 0), (u'1072', 0), (u'1073', 0), (u'1070', 16), (u'1071', 0), (u'289', 7), (u'288', 0), (u'608', 1), (u'4', 0), (u'281', 0), (u'280', 1), (u'283', 0), (u'282', 2), (u'285', 0), (u'284', 1), (u'287', 2), (u'286', 2), (u'1094', 1), (u'1095', 0), (u'1096', 7), (u'1090', 0), (u'674', 1), (u'1154', 0), (u'1157', 0), (u'1098', 1), (u'1150', 3), (u'1153', 2), (u'673', 0), (u'263', 2), (u'262', 0), (u'261', 0), (u'260', 5), (u'267', 1), (u'266', 10), (u'1178', 0), (u'264', 1), (u'1121', 0), (u'269', 1), (u'268', 5), (u'1082', 1), (u'59', 0), (u'58', 3), (u'1215', 6), (u'55', 4), (u'54', 1), (u'57', 1), (u'56', 0), (u'51', 0), (u'258', 3), (u'53', 3), (u'52', 0), (u'537', 0), (u'536', 0), (u'535', 4), (u'63', 5), (u'533', 3), (u'532', 1), (u'531', 5), (u'530', 7), (u'598', 2), (u'152', 4), (u'1081', 0), (u'538', 0), (u'988', 0), (u'989', 0), (u'983', 0), (u'986', 3), (u'777', 1), (u'984', 1), (u'50', 2), (u'115', 0), (u'252', 2), (u'117', 1), (u'776', 0), (u'111', 1), (u'110', 9), (u'113', 0), (u'69', 0), (u'771', 1), (u'5', 0), (u'119', 0), (u'118', 5), (u'773', 0), (u'206', 3), (u'429', 0), (u'1257', 0), (u'1254', 0), (u'534', 4), (u'666', 0), (u'1253', 0), (u'1250', 0), (u'1251', 0), (u'421', 2), (u'420', 2), (u'423', 2), (u'916', 1), (u'425', 8), (u'424', 0), (u'913', 0), (u'912', 0), (u'308', 2), (u'309', 0), (u'300', 0), (u'301', 6), (u'302', 2), (u'303', 4), (u'304', 1), (u'305', 3), (u'306', 0), (u'307', 0), (u'825', 0), (u'824', 1), (u'846', 0), (u'844', 6), (u'843', 5), (u'840', 0), (u'1151', 0), (u'853', 0), (u'539', 0), (u'1209', 2), (u'648', 0), (u'1249', 0), (u'240', 0), (u'1208', 1), (u'390', 0), (u'732', 0), (u'753', 0), (u'752', 0), (u'751', 1), (u'757', 0), (u'756', 0), (u'755', 0), (u'754', 2), (u'560', 0), (u'561', 1), (u'759', 0), (u'509', 1), (u'564', 0), (u'565', 5), (u'566', 0), (u'567', 1), (u'1032', 0), (u'229', 0), (u'1033', 9), (u'227', 1), (u'226', 3), (u'225', 1), (u'985', 0), (u'223', 0), (u'504', 3), (u'221', 1), (u'220', 4), (u'1031', 0), (u'1188', 2), (u'1189', 0), (u'1036', 0), (u'1185', 1), (u'1182', 1), (u'1028', 0), (u'1181', 0), (u'726', 0), (u'116', 5), (u'722', 1), (u'720', 1), (u'1160', 0), (u'1167', 3), (u'729', 0), (u'605', 1), (u'604', 8), (u'607', 1), (u'606', 2), (u'601', 0), (u'600', 0), (u'603', 1), (u'602', 1), (u'1205', 0), (u'158', 0), (u'1207', 0), (u'112', 2), (u'609', 0), (u'1200', 1), (u'1202', 1), (u'1204', 2), (u'1211', 0), (u'976', 0), (u'1161', 0), (u'469', 5), (u'399', 0), (u'1217', 1), (u'958', 0), (u'398', 0), (u'1214', 0), (u'48', 12), (u'49', 0), (u'46', 0), (u'950', 1), (u'44', 0), (u'952', 1), (u'955', 0), (u'954', 0), (u'40', 6), (u'956', 0), (u'1111', 0), (u'1110', 0), (u'1298', 2), (u'1299', 0), (u'1115', 0), (u'1117', 0), (u'639', 0), (u'620', 1), (u'1118', 1), (u'1290', 0), (u'467', 0), (u'1206', 0), (u'460', 0), (u'1163', 0), (u'489', 6), (u'488', 0), (u'487', 4), (u'486', 0), (u'485', 2), (u'484', 0), (u'483', 0), (u'482', 1), (u'481', 5), (u'480', 0), (u'1201', 2), (u'472', 0), (u'473', 0), (u'471', 1), (u'476', 1), (u'477', 1), (u'474', 5), (u'475', 1), (u'478', 0), (u'479', 3)]\n"
     ]
    }
   ],
   "source": [
    "#####################################\n",
    "#                 9                 #\n",
    "#####################################\n",
    "\n",
    "## Adapt the code above to find the mean, standard deviation, minimum, and maximum for\n",
    "## the number of lessons completed by each student during the first week. Try creating\n",
    "## one or more functions to re-use the code above.\n",
    "\n",
    "total_lessons_by_account = {}\n",
    "for account_key, engagement_for_student in engagement_by_account.items():\n",
    "    total_lessons = 0\n",
    "    for engagement_record in engagement_for_student:\n",
    "        total_lessons += engagement_record['lessons_completed']\n",
    "    total_lessons_by_account[account_key] = total_lessons\n",
    "    \n",
    "print total_lessons_by_account.items()"
   ]
  },
  {
   "cell_type": "code",
   "execution_count": 55,
   "metadata": {
    "collapsed": false
   },
   "outputs": [
    {
     "name": "stdout",
     "output_type": "stream",
     "text": [
      "Mean: 1.63618090452\n",
      "Standard deviation: 3.00256129983\n",
      "Minimum: 0\n",
      "Maximum: 36\n"
     ]
    }
   ],
   "source": [
    "import numpy as np\n",
    "\n",
    "# Summarize the data about minutes spent in the classroom\n",
    "total_lessons = total_lessons_by_account.values()\n",
    "print 'Mean:', np.mean(total_lessons)\n",
    "print 'Standard deviation:', np.std(total_lessons)\n",
    "print 'Minimum:', np.min(total_lessons)\n",
    "print 'Maximum:', np.max(total_lessons)"
   ]
  },
  {
   "cell_type": "markdown",
   "metadata": {},
   "source": [
    "## Number of Visits in First Week"
   ]
  },
  {
   "cell_type": "code",
   "execution_count": 69,
   "metadata": {
    "collapsed": false
   },
   "outputs": [
    {
     "name": "stdout",
     "output_type": "stream",
     "text": [
      "Mean: 2.86733668342\n",
      "Standard deviation: 2.25519800292\n",
      "Minimum: 0\n",
      "Maximum: 7\n"
     ]
    }
   ],
   "source": [
    "######################################\n",
    "#                 10                 #\n",
    "######################################\n",
    "\n",
    "## Find the mean, standard deviation, minimum, and maximum for the number of\n",
    "## days each student visits the classroom during the first week.\n",
    "total_visits_by_account = {}\n",
    "for account_key, engagement_for_student in engagement_by_account.items():\n",
    "    total_visits = 0\n",
    "    for x in engagement_for_student:\n",
    "        total_visits += x['has_visited']\n",
    "    total_visits_by_account[account_key] = total_visits\n",
    "\n",
    "    \n",
    "total_visits = total_visits_by_account.values()\n",
    "def describe_data(value):\n",
    "    print 'Mean:', np.mean(value)\n",
    "    print 'Standard deviation:', np.std(value)\n",
    "    print 'Minimum:', np.min(value)\n",
    "    print 'Maximum:', np.max(value)\n",
    "    \n",
    "describe_data(total_visits)"
   ]
  },
  {
   "cell_type": "markdown",
   "metadata": {},
   "source": [
    "## Splitting out Passing Students"
   ]
  },
  {
   "cell_type": "code",
   "execution_count": 89,
   "metadata": {
    "collapsed": false
   },
   "outputs": [
    {
     "name": "stdout",
     "output_type": "stream",
     "text": [
      "4527\n",
      "2392\n",
      "647\n"
     ]
    }
   ],
   "source": [
    "######################################\n",
    "#                 11                 #\n",
    "######################################\n",
    "\n",
    "## Create two lists of engagement data for paid students in the first week.\n",
    "## The first list should contain data for students who eventually pass the\n",
    "## subway project, and the second list should contain data for students\n",
    "## who do not.\n",
    "\n",
    "subway_project_lesson_keys = ['746169184', '3176718735']\n",
    "pass_subway_project = set()\n",
    "\n",
    "for submission in paid_submissions:\n",
    "    project = submission['lesson_key']\n",
    "    rating = submission['assigned_rating']\n",
    "    \n",
    "    if project in subway_project_lesson_keys and \\\n",
    "            (rating =='PASSED' or rating =='DISTINCTION'):\n",
    "        pass_subway_project.add(submission['account_key'])\n",
    "            \n",
    "        \n",
    "passing_engagement = []\n",
    "non_passing_engagement = []\n",
    "\n",
    "for x in paid_engagement_in_first_week:\n",
    "    if x['account_key'] in pass_subway_project:\n",
    "        passing_engagement.append(x)\n",
    "    else:\n",
    "        non_passing_engagement.append(x)\n",
    "\n",
    "print len(passing_engagement)\n",
    "print len(non_passing_engagement)\n",
    "print len(pass_subway_project)"
   ]
  },
  {
   "cell_type": "code",
   "execution_count": 109,
   "metadata": {
    "collapsed": false
   },
   "outputs": [
    {
     "data": {
      "text/plain": [
       "<matplotlib.text.Text at 0x188222b0>"
      ]
     },
     "execution_count": 109,
     "metadata": {},
     "output_type": "execute_result"
    },
    {
     "data": {
      "image/png": "[encoded data removed]",
      "text/plain": [
       "<matplotlib.figure.Figure at 0x188f3160>"
      ]
     },
     "metadata": {},
     "output_type": "display_data"
    }
   ],
   "source": [
    "import seaborn as sns\n",
    "\n",
    "#data = [1, 2, 1, 3, 3, 1, 4, 2]\n",
    "\n",
    "%matplotlib inline\n",
    "import matplotlib.pyplot as plt\n",
    "plt.hist(total_visits_by_account.values(), bins = 8)\n",
    "plt.title('Moni wykres')\n",
    "plt.xlabel('liczba wizyt')\n",
    "plt.ylabel('liczba studentow')"
   ]
  },
  {
   "cell_type": "markdown",
   "metadata": {},
   "source": [
    "## Comparing the Two Student Groups"
   ]
  },
  {
   "cell_type": "code",
   "execution_count": null,
   "metadata": {
    "collapsed": true
   },
   "outputs": [],
   "source": [
    "######################################\n",
    "#                 12                 #\n",
    "######################################\n",
    "\n",
    "## Compute some metrics you're interested in and see how they differ for\n",
    "## students who pass the subway project vs. students who don't. A good\n",
    "## starting point would be the metrics we looked at earlier (minutes spent\n",
    "## in the classroom, lessons completed, and days visited)."
   ]
  },
  {
   "cell_type": "markdown",
   "metadata": {},
   "source": [
    "## Making Histograms"
   ]
  },
  {
   "cell_type": "code",
   "execution_count": null,
   "metadata": {
    "collapsed": true
   },
   "outputs": [],
   "source": [
    "######################################\n",
    "#                 13                 #\n",
    "######################################\n",
    "\n",
    "## Make histograms of the three metrics we looked at earlier for both\n",
    "## students who passed the subway project and students who didn't. You\n",
    "## might also want to make histograms of any other metrics you examined."
   ]
  },
  {
   "cell_type": "markdown",
   "metadata": {},
   "source": [
    "## Improving Plots and Sharing Findings"
   ]
  },
  {
   "cell_type": "code",
   "execution_count": null,
   "metadata": {
    "collapsed": true
   },
   "outputs": [],
   "source": [
    "######################################\n",
    "#                 14                 #\n",
    "######################################\n",
    "\n",
    "## Make a more polished version of at least one of your visualizations\n",
    "## from earlier. Try importing the seaborn library to make the visualization\n",
    "## look better, adding axis labels and a title, and changing one or more\n",
    "## arguments to the hist() function."
   ]
  }
 ],
 "metadata": {
  "anaconda-cloud": {},
  "kernelspec": {
   "display_name": "Python 2",
   "language": "python",
   "name": "python2"
  },
  "language_info": {
   "codemirror_mode": {
    "name": "ipython",
    "version": 2
   },
   "file_extension": ".py",
   "mimetype": "text/x-python",
   "name": "python",
   "nbconvert_exporter": "python",
   "pygments_lexer": "ipython2",
   "version": "2.7.12"
  }
 },
 "nbformat": 4,
 "nbformat_minor": 0
}
