{
 "cells": [
  {
   "cell_type": "markdown",
   "metadata": {},
   "source": [
    "Those are notes for course on DataCamp:\n",
    "https://campus.datacamp.com/courses/intro-to-python-for-data-science/chapter-1-python-basics?ex=1"
   ]
  },
  {
   "cell_type": "code",
   "execution_count": null,
   "metadata": {
    "collapsed": true
   },
   "outputs": [],
   "source": [
    "# Addition and subtraction\n",
    "print(5 + 5)\n",
    "print(5 - 5)\n",
    "\n",
    "# Multiplication and division\n",
    "print(3 * 5)\n",
    "print(10 / 2)\n",
    "\n",
    "# Exponentiation (Potęgowanie)\n",
    "print(4 ** 2)\n",
    "\n",
    "# Modulo (Reszta z dzielenia)\n",
    "print(18 % 7)\n",
    "\n",
    "# How much is your $100 worth after 7 years?\n",
    "print(100*(1.1**7))"
   ]
  },
  {
   "cell_type": "code",
   "execution_count": 3,
   "metadata": {},
   "outputs": [
    {
     "name": "stdout",
     "output_type": "stream",
     "text": [
      "<class 'float'>\n",
      "<class 'int'>\n",
      "<class 'bool'>\n",
      "<class 'str'>\n",
      "<class 'str'>\n"
     ]
    }
   ],
   "source": [
    "a = 3.14\n",
    "b = 30\n",
    "c = True\n",
    "d = \"string\"\n",
    "e = 'string'\n",
    "\n",
    "for x in a,b,c,d,e:\n",
    "    print(type(x))"
   ]
  },
  {
   "cell_type": "code",
   "execution_count": 9,
   "metadata": {},
   "outputs": [
    {
     "name": "stdout",
     "output_type": "stream",
     "text": [
      "8.1415926\n",
      "============================================\n"
     ]
    },
    {
     "ename": "TypeError",
     "evalue": "must be str, not int",
     "output_type": "error",
     "traceback": [
      "\u001b[1;31m------------------------------------------------------------------\u001b[0m",
      "\u001b[1;31mTypeError\u001b[0m                        Traceback (most recent call last)",
      "\u001b[1;32m<ipython-input-9-bef61f5c849b>\u001b[0m in \u001b[0;36m<module>\u001b[1;34m()\u001b[0m\n\u001b[0;32m      4\u001b[0m \u001b[0mprint\u001b[0m \u001b[1;33m(\u001b[0m\u001b[0mpi2\u001b[0m \u001b[1;33m+\u001b[0m \u001b[1;36m5\u001b[0m\u001b[1;33m)\u001b[0m\u001b[1;33m\u001b[0m\u001b[0m\n\u001b[0;32m      5\u001b[0m \u001b[0mprint\u001b[0m \u001b[1;33m(\u001b[0m\u001b[1;34m\"============================================\"\u001b[0m\u001b[1;33m)\u001b[0m\u001b[1;33m\u001b[0m\u001b[0m\n\u001b[1;32m----> 6\u001b[1;33m \u001b[0mprint\u001b[0m \u001b[1;33m(\u001b[0m\u001b[0mpi_string\u001b[0m \u001b[1;33m+\u001b[0m\u001b[1;36m5\u001b[0m\u001b[1;33m)\u001b[0m\u001b[1;33m\u001b[0m\u001b[0m\n\u001b[0m",
      "\u001b[1;31mTypeError\u001b[0m: must be str, not int"
     ]
    }
   ],
   "source": [
    "pi_string = \"3.1415926\"\n",
    "pi2 = float(pi_string)\n",
    "\n",
    "print (pi2 + 5)\n",
    "print (\"============================================\")\n",
    "print (pi_string +5)"
   ]
  },
  {
   "cell_type": "markdown",
   "metadata": {},
   "source": [
    "# Lists"
   ]
  },
  {
   "cell_type": "code",
   "execution_count": 10,
   "metadata": {},
   "outputs": [
    {
     "data": {
      "text/plain": [
       "[3, 'aaaaa', 3]"
      ]
     },
     "execution_count": 10,
     "metadata": {},
     "output_type": "execute_result"
    }
   ],
   "source": [
    "[1+2, \"a\"*5, 3]"
   ]
  },
  {
   "cell_type": "code",
   "execution_count": 14,
   "metadata": {},
   "outputs": [
    {
     "name": "stdout",
     "output_type": "stream",
     "text": [
      "[['hallway', 11.25], ['kitchen', 18.0], ['living room', 20.0]]\n",
      "<class 'list'>\n"
     ]
    }
   ],
   "source": [
    "# area variables (in square meters)\n",
    "hall = 11.25\n",
    "kit = 18.0\n",
    "liv = 20.0\n",
    "bed = 10.75\n",
    "bath = 9.50\n",
    "\n",
    "# house information as list of lists\n",
    "house = [[\"hallway\", hall],\n",
    "         [\"kitchen\", kit],\n",
    "         [\"living room\", liv]]\n",
    "\n",
    "# Print out house\n",
    "\n",
    "print(house)\n",
    "\n",
    "# Print out the type of house\n",
    "\n",
    "print(type(house))\n"
   ]
  },
  {
   "cell_type": "code",
   "execution_count": 34,
   "metadata": {},
   "outputs": [
    {
     "name": "stdout",
     "output_type": "stream",
     "text": [
      "Monia0\n",
      "Mama3\n",
      "Monia0\n",
      "6\n",
      "Babcia4\n"
     ]
    }
   ],
   "source": [
    "#List indexes\n",
    "\n",
    "List = [\"Monia0\", 'Adam1', 'Wojtas2', 'Mama3', \"Babcia4\", 5, 6]\n",
    "\n",
    "print(List[0])\n",
    "print(List[3])\n",
    "\n",
    "#Negative indexing (-1 is the last element of list)\n",
    "print(List[-0])\n",
    "print(List[-1])\n",
    "print(List[-3])"
   ]
  },
  {
   "cell_type": "code",
   "execution_count": 36,
   "metadata": {},
   "outputs": [
    {
     "name": "stdout",
     "output_type": "stream",
     "text": [
      "==================================================== SLICING ====================================================\n",
      "['Adam1', 'Wojtas2', 'Mama3']\n",
      "['Monia0', 'Adam1', 'Wojtas2', 'Mama3']\n",
      "['Adam1', 'Wojtas2', 'Mama3', 'Babcia4', 5, 6]\n",
      "Adam1Babcia4\n",
      "11\n"
     ]
    },
    {
     "ename": "TypeError",
     "evalue": "must be str, not int",
     "output_type": "error",
     "traceback": [
      "\u001b[1;31m------------------------------------------------------------------\u001b[0m",
      "\u001b[1;31mTypeError\u001b[0m                        Traceback (most recent call last)",
      "\u001b[1;32m<ipython-input-36-58d96e5de897>\u001b[0m in \u001b[0;36m<module>\u001b[1;34m()\u001b[0m\n\u001b[0;32m      7\u001b[0m \u001b[0mprint\u001b[0m\u001b[1;33m(\u001b[0m\u001b[0mList\u001b[0m\u001b[1;33m[\u001b[0m\u001b[1;36m1\u001b[0m\u001b[1;33m]\u001b[0m \u001b[1;33m+\u001b[0m \u001b[0mList\u001b[0m\u001b[1;33m[\u001b[0m\u001b[1;36m4\u001b[0m\u001b[1;33m]\u001b[0m\u001b[1;33m)\u001b[0m\u001b[1;33m\u001b[0m\u001b[0m\n\u001b[0;32m      8\u001b[0m \u001b[0mprint\u001b[0m\u001b[1;33m(\u001b[0m\u001b[0mList\u001b[0m\u001b[1;33m[\u001b[0m\u001b[1;36m5\u001b[0m\u001b[1;33m]\u001b[0m \u001b[1;33m+\u001b[0m \u001b[0mList\u001b[0m\u001b[1;33m[\u001b[0m\u001b[1;36m6\u001b[0m\u001b[1;33m]\u001b[0m\u001b[1;33m)\u001b[0m\u001b[1;33m\u001b[0m\u001b[0m\n\u001b[1;32m----> 9\u001b[1;33m \u001b[0mprint\u001b[0m\u001b[1;33m(\u001b[0m\u001b[0mList\u001b[0m\u001b[1;33m[\u001b[0m\u001b[1;36m1\u001b[0m\u001b[1;33m]\u001b[0m \u001b[1;33m+\u001b[0m \u001b[0mList\u001b[0m\u001b[1;33m[\u001b[0m\u001b[1;36m6\u001b[0m\u001b[1;33m]\u001b[0m\u001b[1;33m)\u001b[0m\u001b[1;33m\u001b[0m\u001b[0m\n\u001b[0m\u001b[0;32m     10\u001b[0m \u001b[1;33m\u001b[0m\u001b[0m\n\u001b[0;32m     11\u001b[0m \u001b[0mprint\u001b[0m\u001b[1;33m(\u001b[0m\u001b[0mList\u001b[0m\u001b[1;33m[\u001b[0m\u001b[1;33m-\u001b[0m\u001b[1;36m4\u001b[0m\u001b[1;33m:\u001b[0m\u001b[1;33m]\u001b[0m\u001b[1;33m)\u001b[0m\u001b[1;33m\u001b[0m\u001b[0m\n",
      "\u001b[1;31mTypeError\u001b[0m: must be str, not int"
     ]
    }
   ],
   "source": [
    "###  SLICING  ###\n",
    "print(\"==================================================== SLICING ====================================================\")\n",
    "print(List[1:4])\n",
    "print(List[:4])\n",
    "print(List[1:])\n",
    "\n",
    "print(List[1] + List[4])\n",
    "print(List[5] + List[6])\n",
    "print(List[1] + List[6])\n",
    "\n",
    "print(List[-4:])"
   ]
  },
  {
   "cell_type": "code",
   "execution_count": 60,
   "metadata": {},
   "outputs": [
    {
     "name": "stdout",
     "output_type": "stream",
     "text": [
      "['Mooonia0', 'Adam1', 'Wojtas2', 'Mama3', 'Babcia4', 5, 'l', 'a', 'l', 'a']\n",
      "['Mooonia0', 'Adam1', 'Wojtas2', 'Mama3', 'Babcia4', 5, 'l', 'a', 'l', 'a', 7, 8]\n",
      "=========================REMOVING===========================\n",
      "['Mooonia0', 'Adam1', 'Wojtas2', 'Mama3', 'Babcia4', 5, 'l', 'a', 'l']\n"
     ]
    },
    {
     "ename": "NameError",
     "evalue": "name 'List2' is not defined",
     "output_type": "error",
     "traceback": [
      "\u001b[1;31m------------------------------------------------------------------\u001b[0m",
      "\u001b[1;31mNameError\u001b[0m                        Traceback (most recent call last)",
      "\u001b[1;32m<ipython-input-60-5d9b393dd94a>\u001b[0m in \u001b[0;36m<module>\u001b[1;34m()\u001b[0m\n\u001b[0;32m     16\u001b[0m \u001b[1;32mdel\u001b[0m\u001b[1;33m(\u001b[0m\u001b[0mList2\u001b[0m\u001b[1;33m)\u001b[0m\u001b[1;33m\u001b[0m\u001b[0m\n\u001b[0;32m     17\u001b[0m \u001b[0mprint\u001b[0m\u001b[1;33m(\u001b[0m\u001b[0mList\u001b[0m\u001b[1;33m)\u001b[0m\u001b[1;33m\u001b[0m\u001b[0m\n\u001b[1;32m---> 18\u001b[1;33m \u001b[0mprint\u001b[0m\u001b[1;33m(\u001b[0m\u001b[0mList2\u001b[0m\u001b[1;33m)\u001b[0m\u001b[1;33m\u001b[0m\u001b[0m\n\u001b[0m",
      "\u001b[1;31mNameError\u001b[0m: name 'List2' is not defined"
     ]
    }
   ],
   "source": [
    "### LIST MANIPULATION ###\n",
    "List = [\"Monia0\", 'Adam1', 'Wojtas2', 'Mama3', \"Babcia4\", 5, 6]\n",
    "\n",
    "List[6] = \"Tata6\"\n",
    "\n",
    "List[:1] = [\"Mooonia0\"]\n",
    "\n",
    "List[6:] = \"lala\"\n",
    "List2 = List +[7, 8]\n",
    "print(List)\n",
    "print(List2)\n",
    "\n",
    "### REMOVING ###\n",
    "print('=========================REMOVING===========================')\n",
    "del(List[-1])\n",
    "del(List2)\n",
    "print(List)\n",
    "print(List2)"
   ]
  },
  {
   "cell_type": "code",
   "execution_count": 40,
   "metadata": {
    "collapsed": true
   },
   "outputs": [],
   "source": [
    "### Adding and Removing to list ###\n",
    "List = [\"Monia0\", 'Adam1', 'Wojtas2', 'Mama3', \"Babcia4\", 5, 6]"
   ]
  },
  {
   "cell_type": "code",
   "execution_count": 55,
   "metadata": {},
   "outputs": [
    {
     "name": "stdout",
     "output_type": "stream",
     "text": [
      "Reference: ['Monia0', 'Adam1', 'Wojtas2', 'Mama3', 'Babcia4', 5, 6]\n",
      "List: ['Monia0', 'Adam1', 'Wojtas2', 'As this is reference value will change as well on primary List', 'Babcia4', 5, 6]\n",
      "=========================================================================================================================\n",
      "List: ['Monia0', 'Adam1', 'Wojtas2', 'Mama3', 'Babcia4', 5, 6]\n",
      "Copy: ['Monia0', 'Adam1', 'Wojtas2', 'As this is copy value will  not change on primary List but only on Copy', 'Babcia4', 5, 6]\n",
      "Copy2: ['Monia0', 'Adam1', 'Wojtas2', 'Mama3', 'Babcia4', 5, 6]\n"
     ]
    }
   ],
   "source": [
    "### Reference vs coping values ###\n",
    "List = [\"Monia0\", 'Adam1', 'Wojtas2', 'Mama3', \"Babcia4\", 5, 6]\n",
    "\n",
    "Reference = List\n",
    "\n",
    "print(\"Reference:\", Reference)\n",
    "\n",
    "Reference[3] = \"As this is reference value will change as well on primary List\"\n",
    "\n",
    "print(\"List:\", List)\n",
    "print(\"=========================================================================================================================\")\n",
    "List = [\"Monia0\", 'Adam1', 'Wojtas2', 'Mama3', \"Babcia4\", 5, 6]\n",
    "Copy = list(List)\n",
    "Copy2 = List[:]\n",
    "\n",
    "Copy[3] = \"As this is copy value will  not change on primary List but only on Copy\"\n",
    "print(\"List:\", List)\n",
    "print(\"Copy:\", Copy)\n",
    "print(\"Copy2:\", Copy2)"
   ]
  },
  {
   "cell_type": "code",
   "execution_count": 63,
   "metadata": {},
   "outputs": [
    {
     "name": "stdout",
     "output_type": "stream",
     "text": [
      "separator\n",
      "check\n",
      "separator2\n",
      "check2\n"
     ]
    }
   ],
   "source": [
    "#Comment\n",
    "#The ; sign is used to place commands on the same line. The following two code chunks are equivalent:\n",
    "\n",
    "print(\"separator\")\n",
    "print(\"check\")\n",
    "\n",
    "print(\"separator2\"); print('check2')"
   ]
  },
  {
   "cell_type": "code",
   "execution_count": 74,
   "metadata": {},
   "outputs": [
    {
     "name": "stdout",
     "output_type": "stream",
     "text": [
      "3.1457\n",
      "3\n",
      "4\n",
      "Help on built-in function round in module builtins:\n",
      "\n",
      "round(...)\n",
      "    round(number[, ndigits]) -> number\n",
      "    \n",
      "    Round a number to a given precision in decimal digits (default 0 digits).\n",
      "    This returns an int when called with one argument, otherwise the\n",
      "    same type as the number. ndigits may be negative.\n",
      "\n",
      "[4, 3, 2, 1]\n"
     ]
    }
   ],
   "source": [
    "### BUILT-IN FUNCTIONS ###\n",
    "print(round(3.1456789, 4))\n",
    "print(max(1,2,3))\n",
    "print(len(\"Mama\"))\n",
    "help(round)\n",
    "# [,ndigits] is an optional argument\n",
    "?sorted\n",
    "\n",
    "print(sorted((1,2,3,4),reverse = True))"
   ]
  },
  {
   "cell_type": "code",
   "execution_count": 89,
   "metadata": {},
   "outputs": [
    {
     "name": "stdout",
     "output_type": "stream",
     "text": [
      "2\n",
      "3\n",
      "None\n",
      "['kwiatki', 'bratki', 'stokrotki', 'konwalie', 'bratki', 'dalie', 'bratki', 'fiołki']\n",
      "[1]\n"
     ]
    }
   ],
   "source": [
    "### Methods: index, counts and append for Lists ###\n",
    "\n",
    "Lista_Moni = [\"kwiatki\",'bratki', \"stokrotki\", 'konwalie', \"bratki\", \"dalie\", \"bratki\"]\n",
    "print(Lista_Moni.index(\"stokrotki\"))\n",
    "print(Lista_Moni.count(\"bratki\"))\n",
    "print(Lista_Moni.append(\"fiołki\"))\n",
    "print(Lista_Moni)\n",
    "new = [ ]\n",
    "new.append(1)\n",
    "print(new)"
   ]
  },
  {
   "cell_type": "code",
   "execution_count": 90,
   "metadata": {},
   "outputs": [
    {
     "name": "stdout",
     "output_type": "stream",
     "text": [
      "Microsoft Windows [Version 10.0.15063]\r\n",
      "(c) 2017 Microsoft Corporation. All rights reserved.\r\n",
      "\r\n",
      "(Python_DataCamp) C:\\Users\\Wojtek Biedzinski\\Documents\\MK PYTHON\\UDACITY Python for data analysys\\JUPYTER>pip install numpy\n",
      "Collecting numpy\r\n",
      "  Downloading numpy-1.13.1-cp36-none-win_amd64.whl (7.8MB)\r\n",
      "Installing collected packages: numpy\r\n",
      "Successfully installed numpy-1.13.1\r\n",
      "\r\n",
      "(Python_DataCamp) C:\\Users\\Wojtek Biedzinski\\Documents\\MK PYTHON\\UDACITY Python for data analysys\\JUPYTER>"
     ]
    }
   ],
   "source": [
    "%%cmd\n",
    "import numpy as np\n",
    "pip install numpy"
   ]
  },
  {
   "cell_type": "code",
   "execution_count": 93,
   "metadata": {},
   "outputs": [
    {
     "data": {
      "text/plain": [
       "array([1, 2, 3])"
      ]
     },
     "execution_count": 93,
     "metadata": {},
     "output_type": "execute_result"
    }
   ],
   "source": [
    "import numpy as np\n",
    "np.array([1,2,3])"
   ]
  },
  {
   "cell_type": "code",
   "execution_count": 111,
   "metadata": {},
   "outputs": [
    {
     "name": "stdout",
     "output_type": "stream",
     "text": [
      "[1.73, 1.68, 1.71, 1.89, 1.79]\n",
      "[ 1.73  1.68  1.71  1.89  1.79]\n",
      "[ 21.85171573  20.97505669  21.75028214  24.7473475   21.44127836]\n"
     ]
    }
   ],
   "source": [
    "height = [1.73, 1.68, 1.71, 1.89, 1.79]\n",
    "weight = [65.4, 59.2, 63.6, 88.4, 68.7]\n",
    "np_height = np.array(height)\n",
    "np_weight = np.array(weight)\n",
    "\n",
    "print(height)\n",
    "print(np_height)\n",
    "\n",
    "### ELEMENT WISE CALCULATION ###\n",
    "bmi = np_weight/np_height **2\n",
    "print(bmi)"
   ]
  },
  {
   "cell_type": "code",
   "execution_count": 117,
   "metadata": {},
   "outputs": [
    {
     "name": "stdout",
     "output_type": "stream",
     "text": [
      "[ True  True  True False False]\n",
      "[4 9 6]\n"
     ]
    }
   ],
   "source": [
    "x = [4 , 9 , 6, 3, 1]\n",
    "x[1]\n",
    "\n",
    "y = np.array(x)\n",
    "y[1]\n",
    "\n",
    "f = np.array(y>3)\n",
    "print(f)\n",
    "# Print all numbers from y which fullfil f\n",
    "print(y[f])"
   ]
  },
  {
   "cell_type": "code",
   "execution_count": 119,
   "metadata": {},
   "outputs": [
    {
     "name": "stdout",
     "output_type": "stream",
     "text": [
      "[4 5 2]\n",
      "=========================================\n",
      "[1 1 2 3 4 0]\n",
      "[4 5 2]\n",
      "[4 5 1]\n",
      "[0 1 2 3 4 5]\n"
     ]
    }
   ],
   "source": [
    "print(np.array([True, 1, 2]) + np.array([3, 4, False]))\n",
    "print(\"=========================================\")\n",
    "\n",
    "print(np.array([True, 1, 2, 3, 4, False]))\n",
    "print(np.array([4, 3, 0]) + np.array([0, 2, 2]))\n",
    "print(np.array([1, 1, 2]) + np.array([3, 4, -1]))\n",
    "print(np.array([0, 1, 2, 3, 4, 5]))"
   ]
  },
  {
   "cell_type": "code",
   "execution_count": 127,
   "metadata": {},
   "outputs": [
    {
     "name": "stdout",
     "output_type": "stream",
     "text": [
      "[['a' 'b']\n",
      " ['c' 'd']]\n",
      "========================\n",
      "['a' 'c']\n",
      "========================\n",
      "['b' 'd']\n",
      "========================\n",
      "[['a' 'b']\n",
      " ['c' 'd']]\n",
      "========================\n",
      "['a' 'b']\n",
      "========================\n",
      "a\n"
     ]
    }
   ],
   "source": [
    "# regular list of lists\n",
    "x = [[\"a\", \"b\"], [\"c\", \"d\"]]\n",
    "[x[0][0], x[1][0]]\n",
    "\n",
    "# numpy\n",
    "np_x = np.array(x)\n",
    "print(np_x)\n",
    "print('========================')\n",
    "print(np_x[:,0])\n",
    "print('========================')\n",
    "print(np_x[:,1])\n",
    "print('========================')\n",
    "print(np_x[:,])\n",
    "print('========================')\n",
    "print(np_x[0,])\n",
    "print('========================')\n",
    "print(np_x[0,0])"
   ]
  },
  {
   "cell_type": "code",
   "execution_count": 136,
   "metadata": {},
   "outputs": [
    {
     "name": "stdout",
     "output_type": "stream",
     "text": [
      "[[ 2  4]\n",
      " [ 6  8]\n",
      " [10 12]]\n",
      "=========== Dodawanie liczb do macierzy =================\n",
      "[[11 12]\n",
      " [13 14]\n",
      " [15 16]]\n",
      "=========== Dodawanie macierzy =================\n",
      "[[ 2  4]\n",
      " [ 6  8]\n",
      " [10 12]]\n",
      "=========== Mnozenie macierzy przez wektor =================\n",
      "[ 0.05  0.2 ]\n",
      "[[ 0.05  0.4 ]\n",
      " [ 0.15  0.8 ]\n",
      " [ 0.25  1.2 ]]\n"
     ]
    }
   ],
   "source": [
    "\n",
    "np_mat = np.array([[1, 2],\n",
    "                   [3, 4],\n",
    "                   [5, 6]])\n",
    "\n",
    "print(np_mat * 2)\n",
    "print(\"=========== Dodawanie liczb do macierzy =================\")\n",
    "print(np_mat + np.array([10, 10]))\n",
    "print(\"=========== Dodawanie macierzy =================\")\n",
    "print(np_mat + np_mat)\n",
    "print(\"=========== Mnozenie macierzy przez wektor =================\")\n",
    "\n",
    "conversion = np.array([0.05, 0.2])\n",
    "print(conversion)\n",
    "print(np_mat * conversion)"
   ]
  },
  {
   "cell_type": "code",
   "execution_count": 137,
   "metadata": {},
   "outputs": [
    {
     "name": "stdout",
     "output_type": "stream",
     "text": [
      "Average: 3.0\n",
      "Median: 3.0\n",
      "Standard Deviation: 1.63299316186\n",
      "Correlation: [[ 1.  1.]\n",
      " [ 1.  1.]]\n"
     ]
    }
   ],
   "source": [
    "np_mat = np.array([[1, 2],\n",
    "                   [3, 4],\n",
    "                   [5, 6]])\n",
    "# Print mean height (first column)\n",
    "avg = np.mean(np_mat[:,0])\n",
    "print(\"Average: \" + str(avg))\n",
    "\n",
    "# Print median height. Replace 'None'\n",
    "med = np.median(np_mat[:,0])\n",
    "print(\"Median: \" + str(med))\n",
    "\n",
    "# Print out the standard deviation on height. Replace 'None'\n",
    "stddev = np.std(np_mat[:,0])\n",
    "print(\"Standard Deviation: \" + str(stddev))\n",
    "\n",
    "# Print out correlation between first and second column. Replace 'None'\n",
    "corr = np.corrcoef(np_mat[:,0], np_mat[:,1])\n",
    "print(\"Correlation: \" + str(corr))"
   ]
  },
  {
   "cell_type": "code",
   "execution_count": 142,
   "metadata": {},
   "outputs": [
    {
     "name": "stdout",
     "output_type": "stream",
     "text": [
      "[191 192]\n",
      "Median height of goalkeepers: None\n",
      "Median height of other players: None\n"
     ]
    }
   ],
   "source": [
    "positions = ['GK', 'M', 'A', 'D', 'GK', 'A'] \n",
    "heights = [191, 184, 185, 180, 192, 184]\n",
    "\n",
    "# Convert positions and heights to numpy arrays: np_positions, np_heights\n",
    "np_positions = np.array(positions)\n",
    "np_heights = np.array(heights)\n",
    "\n",
    "# Heights of the goalkeepers: gk_heights\n",
    "gk_heights = np_heights[np_positions == 'GK']\n",
    "print(gk_heights)\n",
    "\n",
    "# Heights of the other players: other_heights\n",
    "other_heights = np_heights[np_positions != 'GK']\n",
    "\n",
    "# Print out the median height of goalkeepers. Replace 'None'\n",
    "print(\"Median height of goalkeepers: \" + str(None))\n",
    "\n",
    "# Print out the median height of other players. Replace 'None'\n",
    "print(\"Median height of other players: \" + str(None))"
   ]
  },
  {
   "cell_type": "code",
   "execution_count": 153,
   "metadata": {},
   "outputs": [
    {
     "name": "stdout",
     "output_type": "stream",
     "text": [
      "[[1 2 3]]\n",
      "[['Monia' 'Wojtas' 'Adaś']]\n",
      "===================================================\n",
      "Które miejsce ma Monia w tabeli np_mat: [1]\n",
      "Które miejsce ma Adaś w tabeli np_mat: [3]\n"
     ]
    }
   ],
   "source": [
    "np_mat = np.array([[1, 2, 3]])\n",
    "imiona = np.array([[\"Monia\", \"Wojtas\", \"Adaś\"]])\n",
    "\n",
    "print(np_mat)\n",
    "print(imiona)\n",
    "print('===================================================')\n",
    "number = np_mat[imiona == \"Monia\"]\n",
    "print(\"Które miejsce ma Monia w tabeli np_mat:\", number)\n",
    "number = np_mat[imiona == \"Adaś\"]\n",
    "print(\"Które miejsce ma Adaś w tabeli np_mat:\", number)"
   ]
  }
 ],
 "metadata": {
  "anaconda-cloud": {},
  "kernelspec": {
   "display_name": "Python 3",
   "language": "python",
   "name": "python3"
  },
  "language_info": {
   "codemirror_mode": {
    "name": "ipython",
    "version": 3
   },
   "file_extension": ".py",
   "mimetype": "text/x-python",
   "name": "python",
   "nbconvert_exporter": "python",
   "pygments_lexer": "ipython3",
   "version": "3.6.2"
  }
 },
 "nbformat": 4,
 "nbformat_minor": 2
}
