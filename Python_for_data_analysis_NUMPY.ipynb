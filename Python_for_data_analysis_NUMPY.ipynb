{
 "cells": [
  {
   "cell_type": "markdown",
   "metadata": {},
   "source": [
    "https://github.com/wesm/pydata-book/tree/1st-edition"
   ]
  },
  {
   "cell_type": "code",
   "execution_count": 1,
   "metadata": {
    "collapsed": true
   },
   "outputs": [],
   "source": [
    "import matplotlib\n",
    "import numpy as np\n",
    "import matplotlib.pyplot as plt\n",
    "import pandas as pd\n",
    "import seaborn as sns\n",
    "\n",
    "# used for example for random\n",
    "from numpy import *\n",
    "# for matplot\n",
    "%matplotlib inline"
   ]
  },
  {
   "cell_type": "code",
   "execution_count": 2,
   "metadata": {
    "collapsed": false
   },
   "outputs": [],
   "source": [
    "from IPython.core.interactiveshell import InteractiveShell\n",
    "InteractiveShell.ast_node_interactivity = \"all\""
   ]
  },
  {
   "cell_type": "markdown",
   "metadata": {},
   "source": [
    "# <font color='green'>FEATURES</font> #\n",
    "\n",
    "<font color=\"#000000\">\n",
    "<br><br>\n",
    "<ol type=\"1\">\n",
    "<li>Arrays enable you to perform mathematical operations on whole blocks of data using similar syntax to the equivalent\n",
    "operations between scalar elements\n",
    "<br><br>\n",
    "<li>Arrays are important because they enable you to express batch operations on data\n",
    "without writing any for loops. This is usually called <font color=\"red\">**vectorization**.</font>\n",
    "\n",
    "</font>"
   ]
  },
  {
   "cell_type": "code",
   "execution_count": 3,
   "metadata": {
    "collapsed": false
   },
   "outputs": [
    {
     "data": {
      "text/plain": [
       "array([[ 0.9526, -0.246 , -0.8856],\n",
       "       [ 0.5639,  0.2379,  0.9104]])"
      ]
     },
     "execution_count": 3,
     "metadata": {},
     "output_type": "execute_result"
    },
    {
     "data": {
      "text/plain": [
       "array([[ 9.526, -2.46 , -8.856],\n",
       "       [ 5.639,  2.379,  9.104]])"
      ]
     },
     "execution_count": 3,
     "metadata": {},
     "output_type": "execute_result"
    },
    {
     "data": {
      "text/plain": [
       "array([[ 1.9052, -0.492 , -1.7712],\n",
       "       [ 1.1278,  0.4758,  1.8208]])"
      ]
     },
     "execution_count": 3,
     "metadata": {},
     "output_type": "execute_result"
    }
   ],
   "source": [
    "data = np.array([[0.9526, -0.246 , -0.8856],\n",
    "[ 0.5639, 0.2379, 0.9104]])\n",
    "\n",
    "data\n",
    "\n",
    "data*10\n",
    "\n",
    "data+data"
   ]
  },
  {
   "cell_type": "markdown",
   "metadata": {},
   "source": [
    "An ndarray is a generic multidimensional container for homogeneous data; that is, **all\n",
    "of the elements must be the same type**."
   ]
  },
  {
   "cell_type": "code",
   "execution_count": 9,
   "metadata": {
    "collapsed": false
   },
   "outputs": [
    {
     "data": {
      "text/plain": [
       "numpy.ndarray"
      ]
     },
     "execution_count": 9,
     "metadata": {},
     "output_type": "execute_result"
    },
    {
     "data": {
      "text/plain": [
       "(2L, 3L)"
      ]
     },
     "execution_count": 9,
     "metadata": {},
     "output_type": "execute_result"
    },
    {
     "data": {
      "text/plain": [
       "dtype('float64')"
      ]
     },
     "execution_count": 9,
     "metadata": {},
     "output_type": "execute_result"
    }
   ],
   "source": [
    "type(data)\n",
    "\n",
    "data.shape\n",
    "\n",
    "data.dtype"
   ]
  },
  {
   "cell_type": "markdown",
   "metadata": {},
   "source": [
    "# <font color='green'>CREATION</font>\n",
    "array creation routines\n",
    "<br>https://docs.scipy.org/doc/numpy-1.13.0/reference/routines.array-creation.html"
   ]
  },
  {
   "cell_type": "code",
   "execution_count": 10,
   "metadata": {
    "collapsed": false,
    "scrolled": true
   },
   "outputs": [
    {
     "data": {
      "text/plain": [
       "list"
      ]
     },
     "execution_count": 10,
     "metadata": {},
     "output_type": "execute_result"
    },
    {
     "data": {
      "text/plain": [
       "[6, 7.5, 8, 0, 1]"
      ]
     },
     "execution_count": 10,
     "metadata": {},
     "output_type": "execute_result"
    },
    {
     "data": {
      "text/plain": [
       "numpy.ndarray"
      ]
     },
     "execution_count": 10,
     "metadata": {},
     "output_type": "execute_result"
    },
    {
     "data": {
      "text/plain": [
       "array([ 6. ,  7.5,  8. ,  0. ,  1. ])"
      ]
     },
     "execution_count": 10,
     "metadata": {},
     "output_type": "execute_result"
    },
    {
     "data": {
      "text/plain": [
       "dtype('float64')"
      ]
     },
     "execution_count": 10,
     "metadata": {},
     "output_type": "execute_result"
    }
   ],
   "source": [
    "# creating tuple, list and than converting to ndarrray\n",
    "\n",
    "\n",
    "data1 = [6, 7.5, 8, 0, 1]\n",
    "type(data1)\n",
    "data1\n",
    "\n",
    "arr1 = np.array(data1)\n",
    "\n",
    "type(arr1)\n",
    "arr1\n",
    "arr1.dtype\n",
    "\n",
    "# Additional excercises:\n",
    "# convert to tuple\n",
    "# check for int"
   ]
  },
  {
   "cell_type": "markdown",
   "metadata": {},
   "source": [
    "\n",
    "<ol type=\"1\">\n",
    "<li><font color='blue'>Number of array dimensions.</font>\n",
    "\n",
    "```python\n",
    "ndarray.ndim\n",
    "```\n",
    "</li>\n",
    "<li>\n",
    "<font color='blue'>Length of one array element in bytes.</font>\n",
    "\n",
    "```python\n",
    "ndarray.itemsize\n",
    "```\n",
    "\n",
    "</li>\n",
    "<li>\n",
    "<font color='blue'>Number of elements in the array.<br>\n",
    "\n",
    "Equivalent to np.prod(a.shape), i.e., the product of the array’s dimensions.</font>\n",
    "```python\n",
    "ndarray.size\n",
    "```\n",
    "</li>\n",
    "<li>\n",
    "<font color='blue'>Tuple of array dimensions.</font>\n",
    "```python\n",
    "ndarray.shape\n",
    "```\n",
    "</li>\n"
   ]
  },
  {
   "cell_type": "code",
   "execution_count": 13,
   "metadata": {
    "collapsed": false
   },
   "outputs": [
    {
     "data": {
      "text/plain": [
       "array([[1, 2, 3, 5],\n",
       "       [5, 6, 7, 8]])"
      ]
     },
     "execution_count": 13,
     "metadata": {},
     "output_type": "execute_result"
    },
    {
     "data": {
      "text/plain": [
       "2"
      ]
     },
     "execution_count": 13,
     "metadata": {},
     "output_type": "execute_result"
    },
    {
     "data": {
      "text/plain": [
       "(2L, 4L)"
      ]
     },
     "execution_count": 13,
     "metadata": {},
     "output_type": "execute_result"
    },
    {
     "data": {
      "text/plain": [
       "4"
      ]
     },
     "execution_count": 13,
     "metadata": {},
     "output_type": "execute_result"
    },
    {
     "data": {
      "text/plain": [
       "8"
      ]
     },
     "execution_count": 13,
     "metadata": {},
     "output_type": "execute_result"
    },
    {
     "data": {
      "text/plain": [
       "array([ 5, 12, 21, 40])"
      ]
     },
     "execution_count": 13,
     "metadata": {},
     "output_type": "execute_result"
    }
   ],
   "source": [
    "# 2-dimensional array\n",
    "data2 = [[1, 2, 3, 5], [5, 6, 7, 8]]\n",
    "arr2 = np.array(data2)\n",
    "\n",
    "arr2\n",
    "arr2.ndim\n",
    "arr2.shape\n",
    "arr2.itemsize\n",
    "\n",
    "arr2.size\n",
    "\n",
    "# multiplication of all elements in array\n",
    "np.prod(data2, axis = 0)"
   ]
  },
  {
   "cell_type": "markdown",
   "metadata": {},
   "source": [
    "**<font color='green'>CREATION of dummy</font>**"
   ]
  },
  {
   "cell_type": "code",
   "execution_count": 14,
   "metadata": {
    "collapsed": false
   },
   "outputs": [
    {
     "data": {
      "text/plain": [
       "array([ 0.,  0.,  0.,  0.,  0.,  0.,  0.,  0.,  0.,  0.])"
      ]
     },
     "execution_count": 14,
     "metadata": {},
     "output_type": "execute_result"
    },
    {
     "data": {
      "text/plain": [
       "array([[ 1.,  1.,  1.,  1.,  1.,  1.,  1.,  1.],\n",
       "       [ 1.,  1.,  1.,  1.,  1.,  1.,  1.,  1.]])"
      ]
     },
     "execution_count": 14,
     "metadata": {},
     "output_type": "execute_result"
    },
    {
     "data": {
      "text/plain": [
       "array([[[  7.56602523e-307,   6.00800838e-307],\n",
       "        [  7.78795373e-308,   8.34423493e-308],\n",
       "        [  9.45683552e-308,   4.45028353e-308]],\n",
       "\n",
       "       [[  4.45033446e-308,   7.78795373e-308],\n",
       "        [  8.34423493e-308,   9.45683552e-308],\n",
       "        [  4.45028353e-308,   7.78815320e-308]]])"
      ]
     },
     "execution_count": 14,
     "metadata": {},
     "output_type": "execute_result"
    },
    {
     "data": {
      "text/plain": [
       "(2L, 3L, 2L)"
      ]
     },
     "execution_count": 14,
     "metadata": {},
     "output_type": "execute_result"
    },
    {
     "data": {
      "text/plain": [
       "array([[1, 2, 3, 5],\n",
       "       [5, 6, 7, 8]])"
      ]
     },
     "execution_count": 14,
     "metadata": {},
     "output_type": "execute_result"
    },
    {
     "data": {
      "text/plain": [
       "array([[0, 0, 0, 0],\n",
       "       [0, 0, 0, 0]])"
      ]
     },
     "execution_count": 14,
     "metadata": {},
     "output_type": "execute_result"
    },
    {
     "data": {
      "text/plain": [
       "array([[ 1.,  0.,  0.],\n",
       "       [ 0.,  1.,  0.],\n",
       "       [ 0.,  0.,  1.]])"
      ]
     },
     "execution_count": 14,
     "metadata": {},
     "output_type": "execute_result"
    },
    {
     "data": {
      "text/plain": [
       "array([[ 1.,  0.,  0.],\n",
       "       [ 0.,  1.,  0.],\n",
       "       [ 0.,  0.,  1.]])"
      ]
     },
     "execution_count": 14,
     "metadata": {},
     "output_type": "execute_result"
    },
    {
     "name": "stderr",
     "output_type": "stream",
     "text": [
      "C:\\Users\\Wojtek Biedzinski\\Anaconda3\\envs\\Dand\\lib\\site-packages\\numpy\\core\\numeric.py:301: FutureWarning: in the future, full((2, 2), 12) will return an array of dtype('int32')\n",
      "  format(shape, fill_value, array(fill_value).dtype), FutureWarning)\n"
     ]
    },
    {
     "data": {
      "text/plain": [
       "array([[ 12.,  12.],\n",
       "       [ 12.,  12.]])"
      ]
     },
     "execution_count": 14,
     "metadata": {},
     "output_type": "execute_result"
    }
   ],
   "source": [
    "# arrays of 0's\n",
    "np.zeros(10)\n",
    "\n",
    "# arrays of 1's\n",
    "np.ones((2, 8))\n",
    "\n",
    "# arrays of garbage values empty(#of arrays, rows, columns)\n",
    "empty_ex = np.empty((2, 3, 2))\n",
    "empty_ex \n",
    "empty_ex.shape\n",
    "#Return a new array with the same shape and type as a given array.\n",
    "arr2\n",
    "np.empty_like(arr2)\n",
    "\n",
    "#identity matrix\n",
    "np.identity(3)\n",
    "\n",
    "#Return a 2-D array with ones on the diagonal and zeros elsewhere.\n",
    "np.eye(3)\n",
    "\n",
    "#Return a new array of given shape and type, filled with fill_value.\n",
    "np.full((2, 2), 12)"
   ]
  },
  {
   "cell_type": "code",
   "execution_count": 15,
   "metadata": {
    "collapsed": false
   },
   "outputs": [
    {
     "data": {
      "text/plain": [
       "array([ 0,  1,  2,  3,  4,  5,  6,  7,  8,  9, 10, 11, 12, 13, 14])"
      ]
     },
     "execution_count": 15,
     "metadata": {},
     "output_type": "execute_result"
    }
   ],
   "source": [
    "#arange is an array-valued version of the built-in Python range function:\n",
    "np.arange(15)"
   ]
  },
  {
   "cell_type": "markdown",
   "metadata": {},
   "source": [
    "**<font color='green'>DTYPE</font>**\n",
    "\n",
    "supported dtypes:\n",
    "<img src=\"IMG\\data_type1.png\"> \n",
    "<img src=\"IMG\\data_type2.png\"> "
   ]
  },
  {
   "cell_type": "code",
   "execution_count": 16,
   "metadata": {
    "collapsed": false
   },
   "outputs": [
    {
     "data": {
      "text/plain": [
       "dtype('float64')"
      ]
     },
     "execution_count": 16,
     "metadata": {},
     "output_type": "execute_result"
    },
    {
     "data": {
      "text/plain": [
       "dtype('int32')"
      ]
     },
     "execution_count": 16,
     "metadata": {},
     "output_type": "execute_result"
    }
   ],
   "source": [
    "arr1 = np.array([1, 2, 3], dtype=np.float64)\n",
    "arr1.dtype \n",
    "\n",
    "arr2 = np.array([1, 2, 3], dtype=np.int32)\n",
    "arr2.dtype"
   ]
  },
  {
   "cell_type": "code",
   "execution_count": 19,
   "metadata": {
    "collapsed": false
   },
   "outputs": [
    {
     "data": {
      "text/plain": [
       "array([  3.7,  -1.2,  -2.6,   0.5,  12.9,  10.1])"
      ]
     },
     "execution_count": 19,
     "metadata": {},
     "output_type": "execute_result"
    },
    {
     "data": {
      "text/plain": [
       "array([ 3, -1, -2,  0, 12, 10])"
      ]
     },
     "execution_count": 19,
     "metadata": {},
     "output_type": "execute_result"
    },
    {
     "data": {
      "text/plain": [
       "array(['1.25', '-9.6', '42'], \n",
       "      dtype='|S4')"
      ]
     },
     "execution_count": 19,
     "metadata": {},
     "output_type": "execute_result"
    },
    {
     "data": {
      "text/plain": [
       "array([  1.25,  -9.6 ,  42.  ])"
      ]
     },
     "execution_count": 19,
     "metadata": {},
     "output_type": "execute_result"
    },
    {
     "data": {
      "text/plain": [
       "dtype('float64')"
      ]
     },
     "execution_count": 19,
     "metadata": {},
     "output_type": "execute_result"
    }
   ],
   "source": [
    "arr = np.array([3.7, -1.2, -2.6, 0.5, 12.9, 10.1])\n",
    "arr\n",
    "\n",
    "#change from float to int result in trunc of numbers\n",
    "arr.astype(np.int32)\n",
    "\n",
    "#changing form string to float\n",
    "\n",
    "numeric_strings = np.array(['1.25', '-9.6', '42'], dtype=np.string_)\n",
    "numeric_strings\n",
    "\n",
    "numeric_strings = numeric_strings.astype(float)\n",
    "numeric_strings\n",
    "numeric_strings.dtype\n",
    "\n",
    "#!! Calling astype always creates a new ab (a copy of the data), even if the new dtype is the same as the old dtype."
   ]
  },
  {
   "cell_type": "markdown",
   "metadata": {},
   "source": [
    "================================================================================================================================\n",
    "<font color='green'>Matrix calculations element-wise</font>\n"
   ]
  },
  {
   "cell_type": "code",
   "execution_count": 20,
   "metadata": {
    "collapsed": false
   },
   "outputs": [
    {
     "name": "stdout",
     "output_type": "stream",
     "text": [
      "arr matrix\n"
     ]
    },
    {
     "data": {
      "text/plain": [
       "array([[ 1.,  2.,  3.],\n",
       "       [ 4.,  5.,  6.]])"
      ]
     },
     "execution_count": 20,
     "metadata": {},
     "output_type": "execute_result"
    },
    {
     "data": {
      "text/plain": [
       "(2L, 3L)"
      ]
     },
     "execution_count": 20,
     "metadata": {},
     "output_type": "execute_result"
    },
    {
     "name": "stdout",
     "output_type": "stream",
     "text": [
      "arrt - transposed matrix\n"
     ]
    },
    {
     "data": {
      "text/plain": [
       "array([[ 1.,  4.],\n",
       "       [ 2.,  5.],\n",
       "       [ 3.,  6.]])"
      ]
     },
     "execution_count": 20,
     "metadata": {},
     "output_type": "execute_result"
    },
    {
     "name": "stdout",
     "output_type": "stream",
     "text": [
      "=============================================\n",
      "Matrix operations element-wise\n"
     ]
    },
    {
     "data": {
      "text/plain": [
       "array([[  1.,   4.,   9.],\n",
       "       [ 16.,  25.,  36.]])"
      ]
     },
     "execution_count": 20,
     "metadata": {},
     "output_type": "execute_result"
    },
    {
     "data": {
      "text/plain": [
       "array([[ 0.,  0.,  0.],\n",
       "       [ 0.,  0.,  0.]])"
      ]
     },
     "execution_count": 20,
     "metadata": {},
     "output_type": "execute_result"
    },
    {
     "data": {
      "text/plain": [
       "array([[  2.,   4.,   6.],\n",
       "       [  8.,  10.,  12.]])"
      ]
     },
     "execution_count": 20,
     "metadata": {},
     "output_type": "execute_result"
    },
    {
     "data": {
      "text/plain": [
       "array([[  2.,   4.,   6.],\n",
       "       [  8.,  10.,  12.]])"
      ]
     },
     "execution_count": 20,
     "metadata": {},
     "output_type": "execute_result"
    },
    {
     "data": {
      "text/plain": [
       "array([[ 1.        ,  0.5       ,  0.33333333],\n",
       "       [ 0.25      ,  0.2       ,  0.16666667]])"
      ]
     },
     "execution_count": 20,
     "metadata": {},
     "output_type": "execute_result"
    },
    {
     "data": {
      "text/plain": [
       "array([[ 1.        ,  1.41421356,  1.73205081],\n",
       "       [ 2.        ,  2.23606798,  2.44948974]])"
      ]
     },
     "execution_count": 20,
     "metadata": {},
     "output_type": "execute_result"
    }
   ],
   "source": [
    "arr = np.array([[1., 2., 3.], [4., 5., 6.]])\n",
    "print \"arr matrix\"\n",
    "arr\n",
    "arr.shape\n",
    "\n",
    "print \"arrt - transposed matrix\"\n",
    "arrt = arr.transpose()\n",
    "arrt\n",
    "print \"=============================================\"\n",
    "\n",
    "print \"Matrix operations element-wise\"\n",
    "arr * arr\n",
    "arr - arr\n",
    "arr + arr\n",
    "arr*2\n",
    "1/arr\n",
    "\n",
    "a = 0.5\n",
    "arr ** a\n"
   ]
  },
  {
   "cell_type": "markdown",
   "metadata": {},
   "source": [
    "# <font color='green'>SLICE and DICE</font>\n",
    "\n",
    "<font color=\"#000000\">\n",
    "<ol type=\"1\">\n",
    "An important first distinction\n",
    "from lists is that array slices are views on the original array. This means that\n",
    "<font color=\"red\">the data is not copied, and any modifications to the **view** will be reflected in the source array</font>\n",
    "\n",
    "As NumPy has\n",
    "been designed with large data use cases in mind, you could imagine performance and\n",
    "memory problems if NumPy insisted on copying data left and right."
   ]
  },
  {
   "cell_type": "code",
   "execution_count": 21,
   "metadata": {
    "collapsed": false
   },
   "outputs": [
    {
     "data": {
      "text/plain": [
       "array([0, 1, 2, 3, 4, 5, 6, 7, 8, 9])"
      ]
     },
     "execution_count": 21,
     "metadata": {},
     "output_type": "execute_result"
    },
    {
     "name": "stdout",
     "output_type": "stream",
     "text": [
      "change of 1st element of arr_slice result change in arr 6th element\n"
     ]
    },
    {
     "data": {
      "text/plain": [
       "array([    0,     1,     2,     3,     4,     5, 12345,     7,     8,     9])"
      ]
     },
     "execution_count": 21,
     "metadata": {},
     "output_type": "execute_result"
    },
    {
     "data": {
      "text/plain": [
       "array([ 0,  1,  2,  3,  4, 64, 64, 64,  8,  9])"
      ]
     },
     "execution_count": 21,
     "metadata": {},
     "output_type": "execute_result"
    },
    {
     "name": "stdout",
     "output_type": "stream",
     "text": [
      "if you want to copy array instead of work on view you can use .copy() function\n"
     ]
    },
    {
     "data": {
      "text/plain": [
       "array([64, 64, 64])"
      ]
     },
     "execution_count": 21,
     "metadata": {},
     "output_type": "execute_result"
    },
    {
     "data": {
      "text/plain": [
       "array([ 0,  1,  2,  3,  4, 64, 64, 64,  8,  9])"
      ]
     },
     "execution_count": 21,
     "metadata": {},
     "output_type": "execute_result"
    },
    {
     "data": {
      "text/plain": [
       "array([   64, 12345,    64])"
      ]
     },
     "execution_count": 21,
     "metadata": {},
     "output_type": "execute_result"
    }
   ],
   "source": [
    "#1-dimensional arrays\n",
    "\n",
    "arr = np.arange(10)\n",
    "arr\n",
    "arr_slice = arr[5:8]\n",
    "print \"change of 1st element of arr_slice result change in arr 6th element\"\n",
    "arr_slice[1] = 12345\n",
    "arr\n",
    "arr_slice[:] = 64\n",
    "arr\n",
    "\n",
    "print \"if you want to copy array instead of work on view you can use .copy() function\"\n",
    "\n",
    "arr_copy = arr[5:8].copy()\n",
    "arr_copy\n",
    "arr_copy[1] = 12345\n",
    "arr\n",
    "arr_copy\n"
   ]
  },
  {
   "cell_type": "markdown",
   "metadata": {},
   "source": [
    "<font color='green'>arrays indexing </font>\n",
    "\n",
    "Matrix multiplicaton\n",
    "If **A** is an **n × m** matrix and **B** is an **m × p** matrix,\n",
    "<img src=\"np_arrays.PNG\">"
   ]
  },
  {
   "cell_type": "code",
   "execution_count": 22,
   "metadata": {
    "collapsed": false
   },
   "outputs": [
    {
     "data": {
      "text/plain": [
       "array([[1, 2, 3],\n",
       "       [4, 5, 6],\n",
       "       [7, 8, 9]])"
      ]
     },
     "execution_count": 22,
     "metadata": {},
     "output_type": "execute_result"
    },
    {
     "data": {
      "text/plain": [
       "array([7, 8, 9])"
      ]
     },
     "execution_count": 22,
     "metadata": {},
     "output_type": "execute_result"
    },
    {
     "data": {
      "text/plain": [
       "3"
      ]
     },
     "execution_count": 22,
     "metadata": {},
     "output_type": "execute_result"
    },
    {
     "data": {
      "text/plain": [
       "3"
      ]
     },
     "execution_count": 22,
     "metadata": {},
     "output_type": "execute_result"
    }
   ],
   "source": [
    "#m-dimensional-arrays\n",
    "\n",
    "arr2d = np.array([[1, 2, 3], [4, 5, 6], [7, 8, 9]])\n",
    "arr2d\n",
    "\n",
    "arr2d[2]\n",
    "#[row,column]\n",
    "arr2d[0][2]\n",
    "arr2d[0, 2]"
   ]
  },
  {
   "cell_type": "code",
   "execution_count": 33,
   "metadata": {
    "collapsed": false
   },
   "outputs": [
    {
     "data": {
      "text/plain": [
       "array(['Bob', 'Joe', 'Will', 'Bob', 'Will', 'Joe', 'Joe'], \n",
       "      dtype='|S4')"
      ]
     },
     "execution_count": 33,
     "metadata": {},
     "output_type": "execute_result"
    },
    {
     "data": {
      "text/plain": [
       "array([[-0.68321292, -1.71028793, -0.78901007,  0.62725068],\n",
       "       [-0.79055052, -1.71576605, -0.45052841, -1.51919906],\n",
       "       [ 0.41052722, -0.2816262 , -0.17727334,  0.18513178],\n",
       "       [-1.33219379, -0.64777294, -1.06652276,  0.14339783],\n",
       "       [-0.78146172, -0.46785121, -1.24958318,  0.04573535],\n",
       "       [ 0.44313446, -1.78130275, -0.02882613, -0.48877735],\n",
       "       [ 0.00319747, -1.14311098,  0.43847595,  0.87381915]])"
      ]
     },
     "execution_count": 33,
     "metadata": {},
     "output_type": "execute_result"
    },
    {
     "name": "stdout",
     "output_type": "stream",
     "text": [
      "==============================================================================================\n"
     ]
    },
    {
     "data": {
      "text/plain": [
       "array([ True, False, False,  True, False, False, False], dtype=bool)"
      ]
     },
     "execution_count": 33,
     "metadata": {},
     "output_type": "execute_result"
    },
    {
     "data": {
      "text/plain": [
       "array([[-0.68321292, -1.71028793, -0.78901007,  0.62725068],\n",
       "       [-1.33219379, -0.64777294, -1.06652276,  0.14339783]])"
      ]
     },
     "execution_count": 33,
     "metadata": {},
     "output_type": "execute_result"
    },
    {
     "data": {
      "text/plain": [
       "array([[-0.78901007,  0.62725068],\n",
       "       [-1.06652276,  0.14339783]])"
      ]
     },
     "execution_count": 33,
     "metadata": {},
     "output_type": "execute_result"
    },
    {
     "data": {
      "text/plain": [
       "array([ 0.62725068,  0.14339783])"
      ]
     },
     "execution_count": 33,
     "metadata": {},
     "output_type": "execute_result"
    }
   ],
   "source": [
    "names = np.array(['Bob', 'Joe', 'Will', 'Bob', 'Will', 'Joe', 'Joe'])\n",
    "# assigning random values\n",
    "data = np.random.randn(7, 4)\n",
    "\n",
    "names\n",
    "data\n",
    "print \"==============================================================================================\"\n",
    "names == 'Bob'\n",
    "\n",
    "data[names == 'Bob']\n",
    "\n",
    "data[names == 'Bob', 2:]\n",
    "\n",
    "data[names == 'Bob', 3]\n",
    "\n",
    "#!! Selecting data from an array by boolean indexing always creates a copy of the data, even if the returned array is unchanged."
   ]
  },
  {
   "cell_type": "code",
   "execution_count": 32,
   "metadata": {
    "collapsed": false
   },
   "outputs": [
    {
     "data": {
      "text/plain": [
       "array([False,  True,  True, False,  True,  True,  True], dtype=bool)"
      ]
     },
     "execution_count": 32,
     "metadata": {},
     "output_type": "execute_result"
    },
    {
     "name": "stderr",
     "output_type": "stream",
     "text": [
      "C:\\Users\\Wojtek Biedzinski\\Anaconda3\\envs\\Dand\\lib\\site-packages\\ipykernel\\__main__.py:4: DeprecationWarning: numpy boolean negative, the `-` operator, is deprecated, use the `~` operator or the logical_not function instead.\n"
     ]
    },
    {
     "data": {
      "text/plain": [
       "array([[ 0.52040689,  0.        ,  0.05367743,  0.        ],\n",
       "       [ 7.        ,  7.        ,  7.        ,  7.        ],\n",
       "       [ 7.        ,  7.        ,  7.        ,  7.        ],\n",
       "       [ 1.80470907,  0.        ,  0.        ,  1.75339041],\n",
       "       [ 1.34699593,  0.        ,  0.        ,  0.86022023]])"
      ]
     },
     "execution_count": 32,
     "metadata": {},
     "output_type": "execute_result"
    },
    {
     "name": "stdout",
     "output_type": "stream",
     "text": [
      "Selecting two of the three names to combine multiple boolean conditions, use boolean arithmetic operators like & (and) and | (or):\n"
     ]
    },
    {
     "data": {
      "text/plain": [
       "array([ True, False,  True,  True,  True, False, False], dtype=bool)"
      ]
     },
     "execution_count": 32,
     "metadata": {},
     "output_type": "execute_result"
    },
    {
     "data": {
      "text/plain": [
       "array([[ 7.,  7.,  7.,  7.],\n",
       "       [ 7.,  7.,  7.,  7.],\n",
       "       [ 7.,  7.,  7.,  7.],\n",
       "       [ 7.,  7.,  7.,  7.]])"
      ]
     },
     "execution_count": 32,
     "metadata": {},
     "output_type": "execute_result"
    }
   ],
   "source": [
    "names = np.array(['Bob', 'Joe', 'Will', 'Bob', 'Will', 'Joe', 'Joe'])\n",
    "\n",
    "names != 'Bob'\n",
    "data[-(names == 'Bob')]\n",
    "\n",
    "print \"Selecting two of the three names to combine multiple boolean conditions, use boolean arithmetic operators like & (and) and | (or):\"\n",
    "\n",
    "mask = (names == 'Bob') | (names == 'Will')\n",
    "\n",
    "mask\n",
    "\n",
    "data[mask]"
   ]
  },
  {
   "cell_type": "code",
   "execution_count": 34,
   "metadata": {
    "collapsed": false
   },
   "outputs": [
    {
     "data": {
      "text/plain": [
       "array([[-0.68321292, -1.71028793, -0.78901007,  0.62725068],\n",
       "       [-0.79055052, -1.71576605, -0.45052841, -1.51919906],\n",
       "       [ 0.41052722, -0.2816262 , -0.17727334,  0.18513178],\n",
       "       [-1.33219379, -0.64777294, -1.06652276,  0.14339783],\n",
       "       [-0.78146172, -0.46785121, -1.24958318,  0.04573535],\n",
       "       [ 0.44313446, -1.78130275, -0.02882613, -0.48877735],\n",
       "       [ 0.00319747, -1.14311098,  0.43847595,  0.87381915]])"
      ]
     },
     "execution_count": 34,
     "metadata": {},
     "output_type": "execute_result"
    },
    {
     "data": {
      "text/plain": [
       "array([[ 0.        ,  0.        ,  0.        ,  0.62725068],\n",
       "       [ 0.        ,  0.        ,  0.        ,  0.        ],\n",
       "       [ 0.41052722,  0.        ,  0.        ,  0.18513178],\n",
       "       [ 0.        ,  0.        ,  0.        ,  0.14339783],\n",
       "       [ 0.        ,  0.        ,  0.        ,  0.04573535],\n",
       "       [ 0.44313446,  0.        ,  0.        ,  0.        ],\n",
       "       [ 0.00319747,  0.        ,  0.43847595,  0.87381915]])"
      ]
     },
     "execution_count": 34,
     "metadata": {},
     "output_type": "execute_result"
    },
    {
     "data": {
      "text/plain": [
       "array([[  7.00000000e+00,   7.00000000e+00,   7.00000000e+00,\n",
       "          7.00000000e+00],\n",
       "       [  0.00000000e+00,   0.00000000e+00,   0.00000000e+00,\n",
       "          0.00000000e+00],\n",
       "       [  7.00000000e+00,   7.00000000e+00,   7.00000000e+00,\n",
       "          7.00000000e+00],\n",
       "       [  7.00000000e+00,   7.00000000e+00,   7.00000000e+00,\n",
       "          7.00000000e+00],\n",
       "       [  7.00000000e+00,   7.00000000e+00,   7.00000000e+00,\n",
       "          7.00000000e+00],\n",
       "       [  4.43134460e-01,   0.00000000e+00,   0.00000000e+00,\n",
       "          0.00000000e+00],\n",
       "       [  3.19747268e-03,   0.00000000e+00,   4.38475949e-01,\n",
       "          8.73819152e-01]])"
      ]
     },
     "execution_count": 34,
     "metadata": {},
     "output_type": "execute_result"
    }
   ],
   "source": [
    "data\n",
    "data[data < 0] = 0\n",
    "data\n",
    "\n",
    "data[names != 'Joe'] = 7\n",
    "data"
   ]
  },
  {
   "cell_type": "code",
   "execution_count": 35,
   "metadata": {
    "collapsed": false
   },
   "outputs": [
    {
     "data": {
      "text/plain": [
       "array([[  0.00000000e+000,   0.00000000e+000,   0.00000000e+000,\n",
       "          0.00000000e+000],\n",
       "       [  1.00000000e+000,   1.00000000e+000,   1.00000000e+000,\n",
       "          1.00000000e+000],\n",
       "       [  2.00000000e+000,   2.00000000e+000,   2.00000000e+000,\n",
       "          2.00000000e+000],\n",
       "       [  3.00000000e+000,   3.00000000e+000,   3.00000000e+000,\n",
       "          3.00000000e+000],\n",
       "       [  2.86530656e+161,   2.63551172e-144,   1.03878562e-013,\n",
       "          1.03878562e-013],\n",
       "       [  1.03878562e-013,   1.03878562e-013,   1.03878562e-013,\n",
       "          1.03878562e-013],\n",
       "       [  1.03878562e-013,   1.03878562e-013,   1.03878562e-013,\n",
       "          1.03878562e-013],\n",
       "       [  1.03878562e-013,   7.41412510e-260,   1.03479042e-013,\n",
       "          2.65784296e-260]])"
      ]
     },
     "execution_count": 35,
     "metadata": {},
     "output_type": "execute_result"
    },
    {
     "data": {
      "text/plain": [
       "array([ 1.,  1.])"
      ]
     },
     "execution_count": 35,
     "metadata": {},
     "output_type": "execute_result"
    },
    {
     "data": {
      "text/plain": [
       "array([[  2.86530656e+161,   2.63551172e-144,   1.03878562e-013,\n",
       "          1.03878562e-013],\n",
       "       [  3.00000000e+000,   3.00000000e+000,   3.00000000e+000,\n",
       "          3.00000000e+000],\n",
       "       [  0.00000000e+000,   0.00000000e+000,   0.00000000e+000,\n",
       "          0.00000000e+000],\n",
       "       [  1.03878562e-013,   1.03878562e-013,   1.03878562e-013,\n",
       "          1.03878562e-013]])"
      ]
     },
     "execution_count": 35,
     "metadata": {},
     "output_type": "execute_result"
    }
   ],
   "source": [
    "arr = np.empty((8, 4))\n",
    "\n",
    "for i in range(4):\n",
    "    arr[i] = i\n",
    "\n",
    "arr\n",
    "arr[1, 2:]\n",
    "#To select out a subset of the rows in a particular order, you can simply pass a list or ndarray of integers specifying the desired order:\n",
    "arr[[4, 3, 0, 6]]"
   ]
  },
  {
   "cell_type": "markdown",
   "metadata": {},
   "source": [
    "<font color='green'>**FANCY INDEXING** </font>"
   ]
  },
  {
   "cell_type": "code",
   "execution_count": 36,
   "metadata": {
    "collapsed": false
   },
   "outputs": [
    {
     "data": {
      "text/plain": [
       "array([ 0,  1,  2,  3,  4,  5,  6,  7,  8,  9, 10, 11, 12, 13, 14, 15, 16,\n",
       "       17, 18, 19, 20, 21, 22, 23, 24, 25, 26, 27, 28, 29, 30, 31])"
      ]
     },
     "execution_count": 36,
     "metadata": {},
     "output_type": "execute_result"
    },
    {
     "data": {
      "text/plain": [
       "array([[ 0,  1,  2,  3],\n",
       "       [ 4,  5,  6,  7],\n",
       "       [ 8,  9, 10, 11],\n",
       "       [12, 13, 14, 15],\n",
       "       [16, 17, 18, 19],\n",
       "       [20, 21, 22, 23],\n",
       "       [24, 25, 26, 27],\n",
       "       [28, 29, 30, 31]])"
      ]
     },
     "execution_count": 36,
     "metadata": {},
     "output_type": "execute_result"
    },
    {
     "name": "stdout",
     "output_type": "stream",
     "text": [
      " Passing multiple index arrays does something slightly different; it selects a 1D array of elements corresponding to each tuple of indices:in below example we are taking pairs [1,0] [5,3] [7,1] [2,2]\n"
     ]
    },
    {
     "data": {
      "text/plain": [
       "array([ 4, 23, 29, 10])"
      ]
     },
     "execution_count": 36,
     "metadata": {},
     "output_type": "execute_result"
    },
    {
     "ename": "IndexError",
     "evalue": "too many indices for array",
     "output_type": "error",
     "traceback": [
      "\u001b[0;31m---------------------------------------------------------------------------\u001b[0m",
      "\u001b[0;31mIndexError\u001b[0m                                Traceback (most recent call last)",
      "\u001b[0;32m<ipython-input-36-6f69aaacc7ed>\u001b[0m in \u001b[0;36m<module>\u001b[0;34m()\u001b[0m\n\u001b[1;32m      7\u001b[0m \u001b[1;33m\u001b[0m\u001b[0m\n\u001b[1;32m      8\u001b[0m \u001b[1;31m#incorrect!!!\u001b[0m\u001b[1;33m\u001b[0m\u001b[1;33m\u001b[0m\u001b[0m\n\u001b[0;32m----> 9\u001b[0;31m \u001b[0marr_reshape\u001b[0m\u001b[1;33m[\u001b[0m\u001b[1;33m[\u001b[0m\u001b[1;36m1\u001b[0m\u001b[1;33m,\u001b[0m\u001b[1;36m0\u001b[0m\u001b[1;33m]\u001b[0m\u001b[1;33m,\u001b[0m\u001b[1;33m[\u001b[0m\u001b[1;36m5\u001b[0m\u001b[1;33m,\u001b[0m\u001b[1;36m3\u001b[0m\u001b[1;33m]\u001b[0m\u001b[1;33m,\u001b[0m\u001b[1;33m[\u001b[0m\u001b[1;36m7\u001b[0m\u001b[1;33m,\u001b[0m\u001b[1;36m1\u001b[0m\u001b[1;33m]\u001b[0m\u001b[1;33m,\u001b[0m\u001b[1;33m[\u001b[0m\u001b[1;36m2\u001b[0m\u001b[1;33m,\u001b[0m\u001b[1;36m2\u001b[0m\u001b[1;33m]\u001b[0m\u001b[1;33m]\u001b[0m\u001b[1;33m\u001b[0m\u001b[0m\n\u001b[0m\u001b[1;32m     10\u001b[0m \u001b[1;33m\u001b[0m\u001b[0m\n\u001b[1;32m     11\u001b[0m \u001b[1;31m###!!! Keep in mind that fancy indexing, unlike slicing, always copies the data into a new array.\u001b[0m\u001b[1;33m\u001b[0m\u001b[1;33m\u001b[0m\u001b[0m\n",
      "\u001b[0;31mIndexError\u001b[0m: too many indices for array"
     ]
    }
   ],
   "source": [
    "arr = np.arange(32)\n",
    "arr\n",
    "arr_reshape = arr.reshape((8, 4))\n",
    "arr_reshape\n",
    "print\" Passing multiple index arrays does something slightly different; it selects a 1D array of elements corresponding to each tuple of indices:\\\n",
    "in below example we are taking pairs [1,0] [5,3] [7,1] [2,2]\"\n",
    "arr_reshape[[1, 5, 7, 2], [0, 3, 1, 2]]\n",
    "\n",
    "#incorrect!!!\n",
    "arr_reshape[[1,0],[5,3],[7,1],[2,2]]\n",
    "\n",
    "###!!! Keep in mind that fancy indexing, unlike slicing, always copies the data into a new array."
   ]
  },
  {
   "cell_type": "markdown",
   "metadata": {},
   "source": [
    "<img src=\"fancy_slice.PNG\">"
   ]
  },
  {
   "cell_type": "code",
   "execution_count": 37,
   "metadata": {
    "collapsed": false
   },
   "outputs": [
    {
     "data": {
      "text/plain": [
       "array([[ 4,  7,  5,  6],\n",
       "       [20, 23, 21, 22],\n",
       "       [28, 31, 29, 30],\n",
       "       [ 8, 11,  9, 10]])"
      ]
     },
     "execution_count": 37,
     "metadata": {},
     "output_type": "execute_result"
    }
   ],
   "source": [
    "#use to chnage the order of matrix np.ix_([rows], [columns])\n",
    "\n",
    "arr_reshape[np.ix_([1, 5, 7, 2], [0, 3, 1, 2])]"
   ]
  },
  {
   "cell_type": "markdown",
   "metadata": {},
   "source": [
    "# <font color='green'>TRANSPOSING ARRAYS AND SWAPPInG AXES</font>\n",
    "Transposing is a special form of reshaping which similarly returns a view on the underlying\n",
    "data without copying anything. Arrays have the transpose method and also\n",
    "the special T attribute\n",
    "\n",
    "```python\n",
    "arr.t\n",
    "arr.transpose()\n",
    "```\n",
    "<br>\n",
    "computing\n",
    "the inner matrix product XTX using np.dot:\n",
    "```python\n",
    "np.dot(arr.T, arr)\n",
    "```"
   ]
  },
  {
   "cell_type": "code",
   "execution_count": 39,
   "metadata": {
    "collapsed": false
   },
   "outputs": [
    {
     "name": "stdout",
     "output_type": "stream",
     "text": [
      "XtX\n"
     ]
    },
    {
     "data": {
      "text/plain": [
       "array([[ 1.,  2.,  3.],\n",
       "       [ 4.,  5.,  6.]])"
      ]
     },
     "execution_count": 39,
     "metadata": {},
     "output_type": "execute_result"
    },
    {
     "data": {
      "text/plain": [
       "array([[ 1.,  4.],\n",
       "       [ 2.,  5.],\n",
       "       [ 3.,  6.]])"
      ]
     },
     "execution_count": 39,
     "metadata": {},
     "output_type": "execute_result"
    },
    {
     "ename": "ValueError",
     "evalue": "operands could not be broadcast together with shapes (3,2) (2,3) ",
     "output_type": "error",
     "traceback": [
      "\u001b[0;31m---------------------------------------------------------------------------\u001b[0m",
      "\u001b[0;31mValueError\u001b[0m                                Traceback (most recent call last)",
      "\u001b[0;32m<ipython-input-39-664f7ddf4cf8>\u001b[0m in \u001b[0;36m<module>\u001b[0;34m()\u001b[0m\n\u001b[1;32m      5\u001b[0m \u001b[1;33m\u001b[0m\u001b[0m\n\u001b[1;32m      6\u001b[0m \u001b[1;33m\u001b[0m\u001b[0m\n\u001b[0;32m----> 7\u001b[0;31m \u001b[0marr\u001b[0m\u001b[1;33m.\u001b[0m\u001b[0mT\u001b[0m \u001b[1;33m*\u001b[0m \u001b[0marr\u001b[0m \u001b[1;31m# element-wise matrix multiplication\u001b[0m\u001b[1;33m\u001b[0m\u001b[0m\n\u001b[0m\u001b[1;32m      8\u001b[0m \u001b[0mnp\u001b[0m\u001b[1;33m.\u001b[0m\u001b[0mdot\u001b[0m\u001b[1;33m(\u001b[0m\u001b[0marr\u001b[0m\u001b[1;33m.\u001b[0m\u001b[0mT\u001b[0m\u001b[1;33m,\u001b[0m \u001b[0marr\u001b[0m\u001b[1;33m)\u001b[0m \u001b[1;31m# normal matrix multiplication\u001b[0m\u001b[1;33m\u001b[0m\u001b[0m\n\u001b[1;32m      9\u001b[0m \u001b[1;33m\u001b[0m\u001b[0m\n",
      "\u001b[0;31mValueError\u001b[0m: operands could not be broadcast together with shapes (3,2) (2,3) "
     ]
    }
   ],
   "source": [
    "arr = np.array([[1., 2., 3.], [4., 5., 6.]])\n",
    "print \"XtX\"\n",
    "arr\n",
    "arr.T\n",
    "\n",
    "\n",
    "arr.T * arr # element-wise matrix multiplication\n",
    "np.dot(arr.T, arr) # normal matrix multiplication\n",
    "\n",
    "arr.transpose()"
   ]
  },
  {
   "cell_type": "code",
   "execution_count": 40,
   "metadata": {
    "collapsed": false
   },
   "outputs": [
    {
     "data": {
      "text/plain": [
       "array([[[ 0,  1,  2,  3],\n",
       "        [ 4,  5,  6,  7]],\n",
       "\n",
       "       [[ 8,  9, 10, 11],\n",
       "        [12, 13, 14, 15]]])"
      ]
     },
     "execution_count": 40,
     "metadata": {},
     "output_type": "execute_result"
    },
    {
     "data": {
      "text/plain": [
       "array([[[ 0,  1,  2,  3],\n",
       "        [ 8,  9, 10, 11]],\n",
       "\n",
       "       [[ 4,  5,  6,  7],\n",
       "        [12, 13, 14, 15]]])"
      ]
     },
     "execution_count": 40,
     "metadata": {},
     "output_type": "execute_result"
    },
    {
     "data": {
      "text/plain": [
       "array([[[ 0,  4],\n",
       "        [ 8, 12]],\n",
       "\n",
       "       [[ 1,  5],\n",
       "        [ 9, 13]],\n",
       "\n",
       "       [[ 2,  6],\n",
       "        [10, 14]],\n",
       "\n",
       "       [[ 3,  7],\n",
       "        [11, 15]]])"
      ]
     },
     "execution_count": 40,
     "metadata": {},
     "output_type": "execute_result"
    }
   ],
   "source": [
    "arr = np.arange(16).reshape((2, 2, 4))\n",
    "arr\n",
    "\n",
    "\n",
    "#to sa permutacje, ja nie rouzmiem permutacji :/\n",
    "#https://pl.wikipedia.org/wiki/Permutacja\n",
    "\n",
    "arr.transpose((1, 0, 2))\n",
    "\n",
    "arr.transpose((2, 0, 1))"
   ]
  },
  {
   "cell_type": "markdown",
   "metadata": {
    "collapsed": false
   },
   "source": [
    "## swaping axes - > reurn view not copy\n",
    "arr = np.arange(16).reshape((2, 2, 4))\n",
    "arr\n",
    "arr.swapaxes(1, b1)"
   ]
  },
  {
   "cell_type": "code",
   "execution_count": 48,
   "metadata": {
    "collapsed": false
   },
   "outputs": [
    {
     "data": {
      "text/plain": [
       "array([[[ 0,  1,  2,  3],\n",
       "        [ 4,  5,  6,  7]],\n",
       "\n",
       "       [[ 8,  9, 10, 11],\n",
       "        [12, 13, 14, 15]]])"
      ]
     },
     "execution_count": 48,
     "metadata": {},
     "output_type": "execute_result"
    },
    {
     "data": {
      "text/plain": [
       "array([[[ 0,  4],\n",
       "        [ 1,  5],\n",
       "        [ 2,  6],\n",
       "        [ 3,  7]],\n",
       "\n",
       "       [[ 8, 12],\n",
       "        [ 9, 13],\n",
       "        [10, 14],\n",
       "        [11, 15]]])"
      ]
     },
     "execution_count": 48,
     "metadata": {},
     "output_type": "execute_result"
    }
   ],
   "source": [
    "arr = np.arange(16).reshape((2, 2, 4))\n",
    "arr\n",
    "arr.swapaxes(1, 2)"
   ]
  },
  {
   "cell_type": "markdown",
   "metadata": {},
   "source": [
    "# <font color='green'>Universal Functions: Fast Element-wise Array Functions</font>\n",
    "<img src=\"IMG\\unary_ufuncs.PNG\">\n",
    "\n",
    "<img src=\"IMG\\binary_fun.PNG\">"
   ]
  },
  {
   "cell_type": "code",
   "execution_count": 49,
   "metadata": {
    "collapsed": false
   },
   "outputs": [
    {
     "data": {
      "text/plain": [
       "array([0, 1, 2, 3, 4, 5, 6, 7, 8, 9])"
      ]
     },
     "execution_count": 49,
     "metadata": {},
     "output_type": "execute_result"
    },
    {
     "name": "stdout",
     "output_type": "stream",
     "text": [
      "=========================================\n",
      "SQRT\n"
     ]
    },
    {
     "data": {
      "text/plain": [
       "array([ 0.        ,  1.        ,  1.41421356,  1.73205081,  2.        ,\n",
       "        2.23606798,  2.44948974,  2.64575131,  2.82842712,  3.        ])"
      ]
     },
     "execution_count": 49,
     "metadata": {},
     "output_type": "execute_result"
    },
    {
     "data": {
      "text/plain": [
       "array([ 0.        ,  1.        ,  1.41421356,  1.73205081,  2.        ,\n",
       "        2.23606798,  2.44948974,  2.64575131,  2.82842712,  3.        ])"
      ]
     },
     "execution_count": 49,
     "metadata": {},
     "output_type": "execute_result"
    }
   ],
   "source": [
    "arr = np.arange(10)\n",
    "\n",
    "arr\n",
    "print\"=========================================\"\n",
    "print\"SQRT\"\n",
    "np.sqrt(arr)\n",
    "arr ** 0.5"
   ]
  },
  {
   "cell_type": "code",
   "execution_count": 51,
   "metadata": {
    "collapsed": false
   },
   "outputs": [
    {
     "data": {
      "text/plain": [
       "array([ 0,  1,  2,  3,  4, 20,  6,  7,  8,  9])"
      ]
     },
     "execution_count": 51,
     "metadata": {},
     "output_type": "execute_result"
    },
    {
     "data": {
      "text/plain": [
       "array([ 3,  4,  5,  6,  7,  8,  9, 10, 11, 12])"
      ]
     },
     "execution_count": 51,
     "metadata": {},
     "output_type": "execute_result"
    },
    {
     "data": {
      "text/plain": [
       "array([ 9.76948066,  4.12602172,  3.30411167,  6.89399907,  0.79510523,\n",
       "        7.42287434,  9.06932569,  8.59789983,  1.04625678,  6.13989864])"
      ]
     },
     "execution_count": 51,
     "metadata": {},
     "output_type": "execute_result"
    },
    {
     "data": {
      "text/plain": [
       "20"
      ]
     },
     "execution_count": 51,
     "metadata": {},
     "output_type": "execute_result"
    },
    {
     "data": {
      "text/plain": [
       "12"
      ]
     },
     "execution_count": 51,
     "metadata": {},
     "output_type": "execute_result"
    },
    {
     "data": {
      "text/plain": [
       "array([  9.76948066,   4.12602172,   3.30411167,   6.89399907,\n",
       "         4.        ,  20.        ,   9.06932569,   8.59789983,\n",
       "         8.        ,   9.        ])"
      ]
     },
     "execution_count": 51,
     "metadata": {},
     "output_type": "execute_result"
    },
    {
     "data": {
      "text/plain": [
       "array([ 3,  4,  5,  6,  7, 20,  9, 10, 11, 12])"
      ]
     },
     "execution_count": 51,
     "metadata": {},
     "output_type": "execute_result"
    }
   ],
   "source": [
    "#take 2 arrays(thus, binary ufuncs) and return a single array as the result:\n",
    "x = np.arange(10)\n",
    "x[5] = 20\n",
    "y = np.arange(3,13)\n",
    "z = np.array(np.random.rand(10))*10\n",
    "x\n",
    "y\n",
    "z\n",
    "np.max(x)\n",
    "np.max(y)\n",
    "np.maximum(x, z) # element-wise maximum\n",
    "np.maximum(x, y) # element-wise maximum"
   ]
  },
  {
   "cell_type": "code",
   "execution_count": 52,
   "metadata": {
    "collapsed": false
   },
   "outputs": [
    {
     "data": {
      "text/plain": [
       "array([ 2.25,  3.  ,  3.75,  4.5 ,  5.25,  6.  ,  6.75,  7.5 ,  8.25,  9.  ])"
      ]
     },
     "execution_count": 52,
     "metadata": {},
     "output_type": "execute_result"
    },
    {
     "data": {
      "text/plain": [
       "(array([ 0.25,  0.  ,  0.75,  0.5 ,  0.25,  0.  ,  0.75,  0.5 ,  0.25,  0.  ]),\n",
       " array([ 2.,  3.,  3.,  4.,  5.,  6.,  6.,  7.,  8.,  9.]))"
      ]
     },
     "execution_count": 52,
     "metadata": {},
     "output_type": "execute_result"
    }
   ],
   "source": [
    "#modf Return the fractional(poprzecinku) and integral(naturalne) parts of an array, element-wise.\n",
    "\n",
    "arr = np.arange(3,13)*0.75\n",
    "arr\n",
    "np.modf(arr)"
   ]
  },
  {
   "cell_type": "code",
   "execution_count": 55,
   "metadata": {
    "collapsed": false
   },
   "outputs": [
    {
     "data": {
      "text/plain": [
       "array([0, 1, 2, 3, 4])"
      ]
     },
     "execution_count": 55,
     "metadata": {},
     "output_type": "execute_result"
    },
    {
     "data": {
      "text/plain": [
       "array([5, 6, 7, 8, 9])"
      ]
     },
     "execution_count": 55,
     "metadata": {},
     "output_type": "execute_result"
    },
    {
     "data": {
      "text/plain": [
       "array([-5.  , -4.99, -4.98, -4.97, -4.96, -4.95, -4.94, -4.93, -4.92, -4.91])"
      ]
     },
     "execution_count": 55,
     "metadata": {},
     "output_type": "execute_result"
    },
    {
     "data": {
      "text/plain": [
       "(1000L,)"
      ]
     },
     "execution_count": 55,
     "metadata": {},
     "output_type": "execute_result"
    },
    {
     "data": {
      "text/plain": [
       "array([[5, 5, 5, 5, 5],\n",
       "       [6, 6, 6, 6, 6],\n",
       "       [7, 7, 7, 7, 7],\n",
       "       [8, 8, 8, 8, 8],\n",
       "       [9, 9, 9, 9, 9]])"
      ]
     },
     "execution_count": 55,
     "metadata": {},
     "output_type": "execute_result"
    },
    {
     "data": {
      "text/plain": [
       "array([[0, 1, 2, 3, 4],\n",
       "       [0, 1, 2, 3, 4],\n",
       "       [0, 1, 2, 3, 4],\n",
       "       [0, 1, 2, 3, 4],\n",
       "       [0, 1, 2, 3, 4]])"
      ]
     },
     "execution_count": 55,
     "metadata": {},
     "output_type": "execute_result"
    },
    {
     "data": {
      "text/plain": [
       "<matplotlib.image.AxesImage at 0xb4c45c0>"
      ]
     },
     "execution_count": 55,
     "metadata": {},
     "output_type": "execute_result"
    },
    {
     "data": {
      "text/plain": [
       "<matplotlib.colorbar.Colorbar at 0xb8201d0>"
      ]
     },
     "execution_count": 55,
     "metadata": {},
     "output_type": "execute_result"
    },
    {
     "data": {
      "text/plain": [
       "<matplotlib.text.Text at 0xb6fdb70>"
      ]
     },
     "execution_count": 55,
     "metadata": {},
     "output_type": "execute_result"
    },
    {
     "data": {
      "image/png": "[encoded data removed]",
      "text/plain": [
       "<matplotlib.figure.Figure at 0xb46c128>"
      ]
     },
     "metadata": {},
     "output_type": "display_data"
    }
   ],
   "source": [
    "#arange(start, stop, distance)\n",
    "points = np.arange(-5, 5, 0.01)\n",
    "points1 = np.arange(0, 5)\n",
    "points2 = np.arange(5,10)\n",
    "\n",
    "points1\n",
    "points2\n",
    "points[:10]\n",
    "points.shape\n",
    "\n",
    "xs, ys = np.meshgrid(points1, points2)\n",
    "\n",
    "ys\n",
    "xs\n",
    "\n",
    "#import matplotlib.pyplot as plt\n",
    "z = np.sqrt(xs ** 2 + ys ** 2)\n",
    "\n",
    "plt.imshow(z, cmap=plt.cm.gray); plt.colorbar()\n",
    "plt.title(\"Image plot of $\\sqrt{x^2 + y^2}$ for a grid of values\")"
   ]
  },
  {
   "cell_type": "markdown",
   "metadata": {},
   "source": [
    "# <font color='green'>Expressing Conditional Logic as Array Operations</font>\n",
    "\n",
    "A typical use of where in data analysis is to produce a new array of values based on another array.\n",
    "\n",
    "```python\n",
    "np.where\n",
    "```\n",
    "\n",
    "<img src=\"np_where.PNG\">\n",
    "\n",
    "https://docs.scipy.org/doc/numpy-1.13.0/reference/generated/numpy.where.html\n",
    "\n"
   ]
  },
  {
   "cell_type": "code",
   "execution_count": 56,
   "metadata": {
    "collapsed": false
   },
   "outputs": [
    {
     "data": {
      "text/plain": [
       "array([ 1.1,  1.2,  1.3,  1.4,  1.5])"
      ]
     },
     "execution_count": 56,
     "metadata": {},
     "output_type": "execute_result"
    },
    {
     "data": {
      "text/plain": [
       "array([ True, False,  True,  True, False], dtype=bool)"
      ]
     },
     "execution_count": 56,
     "metadata": {},
     "output_type": "execute_result"
    },
    {
     "data": {
      "text/plain": [
       "array([ 2.1,  2.2,  2.3,  2.4,  2.5])"
      ]
     },
     "execution_count": 56,
     "metadata": {},
     "output_type": "execute_result"
    },
    {
     "data": {
      "text/plain": [
       "[1.1000000000000001, 2.2000000000000002, 1.3, 1.3999999999999999, 2.5]"
      ]
     },
     "execution_count": 56,
     "metadata": {},
     "output_type": "execute_result"
    },
    {
     "data": {
      "text/plain": [
       "array([ 1.1,  2.2,  1.3,  1.4,  2.5])"
      ]
     },
     "execution_count": 56,
     "metadata": {},
     "output_type": "execute_result"
    },
    {
     "name": "stdout",
     "output_type": "stream",
     "text": [
      "The second and third arguments to np.where don’t need to be arrays; one or both ofthem can be scalars\n"
     ]
    },
    {
     "data": {
      "text/plain": [
       "array([ 1.1,  0. ,  1.3,  1.4,  0. ])"
      ]
     },
     "execution_count": 56,
     "metadata": {},
     "output_type": "execute_result"
    }
   ],
   "source": [
    "xarr = np.array([1.1, 1.2, 1.3, 1.4, 1.5])\n",
    "yarr = np.array([2.1, 2.2, 2.3, 2.4, 2.5])\n",
    "cond = np.array([True, False, True, True, False])\n",
    "\n",
    "xarr \n",
    "cond\n",
    "yarr \n",
    "\n",
    "#a list function (not effective as it's working only with 1d array and have poor performance)\n",
    "result = [(x if c else y)\n",
    "    for x, y, c in zip(xarr, yarr, cond)]\n",
    "result\n",
    "\n",
    "# numpy is easier :)\n",
    "result = np.where(cond, xarr, yarr)\n",
    "result\n",
    "print\"The second and third arguments to np.where don’t need to be arrays; one or both of\\\n",
    "them can be scalars\"\n",
    "result = np.where(cond, xarr, 0)\n",
    "result"
   ]
  },
  {
   "cell_type": "code",
   "execution_count": 58,
   "metadata": {
    "collapsed": false
   },
   "outputs": [
    {
     "data": {
      "text/plain": [
       "array([[ 0.42164694, -0.31062489, -1.26767324, -0.96719863],\n",
       "       [-2.07568307, -0.36967821, -0.41080751, -0.49032622],\n",
       "       [-1.15691551, -0.14332484,  0.81780546, -1.47879123],\n",
       "       [ 0.08536494, -0.0975615 , -0.23122327,  0.68184635]])"
      ]
     },
     "execution_count": 58,
     "metadata": {},
     "output_type": "execute_result"
    },
    {
     "data": {
      "text/plain": [
       "array([[ 2, -2, -2, -2],\n",
       "       [-2, -2, -2, -2],\n",
       "       [-2, -2,  2, -2],\n",
       "       [ 2, -2, -2,  2]])"
      ]
     },
     "execution_count": 58,
     "metadata": {},
     "output_type": "execute_result"
    },
    {
     "data": {
      "text/plain": [
       "array([[ 2.        , -0.31062489, -1.26767324, -0.96719863],\n",
       "       [-2.07568307, -0.36967821, -0.41080751, -0.49032622],\n",
       "       [-1.15691551, -0.14332484,  2.        , -1.47879123],\n",
       "       [ 2.        , -0.0975615 , -0.23122327,  2.        ]])"
      ]
     },
     "execution_count": 58,
     "metadata": {},
     "output_type": "execute_result"
    }
   ],
   "source": [
    "#Suppose you had a matrix of randomly generated data and you wanted to replace \\\n",
    "#all positive values with 2 and all negative values with -2.\\\n",
    "#This is very easy to do with np.where:\\\n",
    "\n",
    "arr = np.random.randn(4, 4)\n",
    "arr\n",
    "\n",
    "np.where(arr > 0, 2, -2)\n",
    "\n",
    "np.where(arr > 0, 2, arr) # set only positive values to 2"
   ]
  },
  {
   "cell_type": "markdown",
   "metadata": {},
   "source": [
    "<font color='green'>**NESTED np.where** </font>"
   ]
  },
  {
   "cell_type": "code",
   "execution_count": 59,
   "metadata": {
    "collapsed": false
   },
   "outputs": [
    {
     "data": {
      "text/plain": [
       "array([1, 2, 3, 0, 3, 0])"
      ]
     },
     "execution_count": 59,
     "metadata": {},
     "output_type": "execute_result"
    }
   ],
   "source": [
    "cond1 = np.array([True, False, False, True, False, True])\n",
    "cond2 = np.array([False, True, False, True, False, True])\n",
    "\n",
    "np.where(cond1 & cond2, 0,\n",
    "    np.where(cond1, 1,\n",
    "        np.where(cond2, 2, 3)))\n"
   ]
  },
  {
   "cell_type": "markdown",
   "metadata": {},
   "source": [
    "# <font color='green'>Mathematical and Statistical Methods</font>\n",
    "\n",
    "<img src=\"IMG\\bas_stat.PNG\">\n"
   ]
  },
  {
   "cell_type": "code",
   "execution_count": 61,
   "metadata": {
    "collapsed": false
   },
   "outputs": [
    {
     "data": {
      "text/plain": [
       "array([[ 0,  1,  2,  3],\n",
       "       [ 4,  5,  6,  7],\n",
       "       [ 8,  9, 10, 11]])"
      ]
     },
     "execution_count": 61,
     "metadata": {},
     "output_type": "execute_result"
    },
    {
     "data": {
      "text/plain": [
       "5.5"
      ]
     },
     "execution_count": 61,
     "metadata": {},
     "output_type": "execute_result"
    },
    {
     "data": {
      "text/plain": [
       "5.5"
      ]
     },
     "execution_count": 61,
     "metadata": {},
     "output_type": "execute_result"
    },
    {
     "data": {
      "text/plain": [
       "66"
      ]
     },
     "execution_count": 61,
     "metadata": {},
     "output_type": "execute_result"
    },
    {
     "data": {
      "text/plain": [
       "array([ 4.,  5.,  6.,  7.])"
      ]
     },
     "execution_count": 61,
     "metadata": {},
     "output_type": "execute_result"
    },
    {
     "data": {
      "text/plain": [
       "array([ 1.5,  5.5,  9.5])"
      ]
     },
     "execution_count": 61,
     "metadata": {},
     "output_type": "execute_result"
    },
    {
     "data": {
      "text/plain": [
       "array([12, 15, 18, 21])"
      ]
     },
     "execution_count": 61,
     "metadata": {},
     "output_type": "execute_result"
    }
   ],
   "source": [
    "arr = np.arange(12).reshape((3, 4))\n",
    "arr\n",
    "\n",
    "arr.mean()\n",
    "np.mean(arr)\n",
    "\n",
    "arr.sum()\n",
    "\n",
    "#Functions like mean and sum take an optional axis argument which computes the statistic\n",
    "#over the given axis, resulting in an array with one fewer dimension:\n",
    "arr.mean(axis=0) # by columns\n",
    "arr.mean(axis=1) # by rows\n",
    "\n",
    "arr.sum(0) #by columns"
   ]
  },
  {
   "cell_type": "code",
   "execution_count": 62,
   "metadata": {
    "collapsed": false
   },
   "outputs": [
    {
     "data": {
      "text/plain": [
       "array([[0, 1, 2],\n",
       "       [3, 4, 5],\n",
       "       [6, 7, 8]])"
      ]
     },
     "execution_count": 62,
     "metadata": {},
     "output_type": "execute_result"
    },
    {
     "data": {
      "text/plain": [
       "array([[ 0,  1,  2],\n",
       "       [ 3,  5,  7],\n",
       "       [ 9, 12, 15]])"
      ]
     },
     "execution_count": 62,
     "metadata": {},
     "output_type": "execute_result"
    },
    {
     "data": {
      "text/plain": [
       "array([[  0,   0,   0],\n",
       "       [  3,  12,  60],\n",
       "       [  6,  42, 336]])"
      ]
     },
     "execution_count": 62,
     "metadata": {},
     "output_type": "execute_result"
    }
   ],
   "source": [
    "#Other methods like cumsum and cumprod do not aggregate, instead producing an array of the intermediate results:\n",
    "arr = np.array([[0, 1, 2], [3, 4, 5], [6, 7, 8]])\n",
    "arr\n",
    "arr.cumsum(0) \n",
    "arr.cumprod(1)\n"
   ]
  },
  {
   "cell_type": "markdown",
   "metadata": {},
   "source": [
    "<font color='green'>**Methods for Boolean Arrays** </font><br><br>\n",
    "Boolean values are coerced to 1 (True) and 0 (False) in the above methods. Thus, sum\n",
    "is often used as a means of counting True values in a boolean array:\n",
    "\n",
    "```python\n",
    "np.any()\n",
    "np.all()\n",
    "```\n",
    "\n",
    "Methods any() and all() are useful especially for boolean arrays.\n",
    "any tests whether one or more values in an array is True, while all checks if every value\n",
    "is True"
   ]
  },
  {
   "cell_type": "code",
   "execution_count": 64,
   "metadata": {
    "collapsed": false
   },
   "outputs": [
    {
     "data": {
      "text/plain": [
       "array([[0, 3, 8],\n",
       "       [1, 4, 2],\n",
       "       [6, 3, 8]])"
      ]
     },
     "execution_count": 64,
     "metadata": {},
     "output_type": "execute_result"
    },
    {
     "data": {
      "text/plain": [
       "4"
      ]
     },
     "execution_count": 64,
     "metadata": {},
     "output_type": "execute_result"
    },
    {
     "data": {
      "text/plain": [
       "True"
      ]
     },
     "execution_count": 64,
     "metadata": {},
     "output_type": "execute_result"
    },
    {
     "data": {
      "text/plain": [
       "False"
      ]
     },
     "execution_count": 64,
     "metadata": {},
     "output_type": "execute_result"
    },
    {
     "data": {
      "text/plain": [
       "False"
      ]
     },
     "execution_count": 64,
     "metadata": {},
     "output_type": "execute_result"
    },
    {
     "data": {
      "text/plain": [
       "True"
      ]
     },
     "execution_count": 64,
     "metadata": {},
     "output_type": "execute_result"
    }
   ],
   "source": [
    "arr = np.array([[0, 3, 8], [1, 4, 2], [6, 3, 8]])\n",
    "arr\n",
    "(arr > 3).sum() # Number of positive values\n",
    "\n",
    "bools = np.array([False, False, True, False])\n",
    "bools2 =  np.array([True, True, True, True])\n",
    "bools3 = np.array([False, False, False, False])\n",
    "bools.any()\n",
    "bools3.any()\n",
    "\n",
    "bools.all()\n",
    "bools2.all()"
   ]
  },
  {
   "cell_type": "markdown",
   "metadata": {},
   "source": [
    "================================================================================================================================\n",
    "# <font color='green'>SORTING & SET OPERATIONS</font>\n",
    "\n",
    "<img src=\"IMG\\set_ops.PNG\">\n"
   ]
  },
  {
   "cell_type": "code",
   "execution_count": 65,
   "metadata": {
    "collapsed": false
   },
   "outputs": [
    {
     "data": {
      "text/plain": [
       "array([[5, 0, 8],\n",
       "       [1, 4, 2],\n",
       "       [6, 3, 8]])"
      ]
     },
     "execution_count": 65,
     "metadata": {},
     "output_type": "execute_result"
    },
    {
     "data": {
      "text/plain": [
       "array([[0, 5, 8],\n",
       "       [1, 2, 4],\n",
       "       [3, 6, 8]])"
      ]
     },
     "execution_count": 65,
     "metadata": {},
     "output_type": "execute_result"
    },
    {
     "data": {
      "text/plain": [
       "array([[1, 0, 2],\n",
       "       [5, 3, 8],\n",
       "       [6, 4, 8]])"
      ]
     },
     "execution_count": 65,
     "metadata": {},
     "output_type": "execute_result"
    },
    {
     "data": {
      "text/plain": [
       "array([[0, 5, 8],\n",
       "       [1, 2, 4],\n",
       "       [3, 6, 8]])"
      ]
     },
     "execution_count": 65,
     "metadata": {},
     "output_type": "execute_result"
    }
   ],
   "source": [
    "arr = np.array([[5, 0, 8], [1, 4, 2], [6, 3, 8]])\n",
    "arr\n",
    "arr.sort() #by default rows\n",
    "arr\n",
    "\n",
    "arr2 = np.array([[5, 0, 8], [1, 4, 2], [6, 3, 8]])\n",
    "arr2.sort(0) #by columns\n",
    "arr2\n",
    "\n",
    "arr3 = np.array([[5, 0, 8], [1, 4, 2], [6, 3, 8]])\n",
    "arr3.sort(1) #by rows\n",
    "arr3"
   ]
  },
  {
   "cell_type": "code",
   "execution_count": 68,
   "metadata": {
    "collapsed": false
   },
   "outputs": [
    {
     "data": {
      "text/plain": [
       "numpy.ndarray"
      ]
     },
     "execution_count": 68,
     "metadata": {},
     "output_type": "execute_result"
    },
    {
     "data": {
      "text/plain": [
       "array([ -1.69645630e+00,  -1.67985286e+00,  -1.67104139e+00,\n",
       "        -1.66999882e+00,  -1.66562784e+00,  -1.66371302e+00,\n",
       "        -1.64840662e+00,  -1.63996290e+00,  -1.63822053e+00,\n",
       "        -1.63799561e+00,  -1.63582534e+00,  -1.60529936e+00,\n",
       "        -1.59523426e+00,  -1.59186319e+00,  -1.56802772e+00,\n",
       "        -1.56167319e+00,  -1.54948872e+00,  -1.51923911e+00,\n",
       "        -1.51394152e+00,  -1.50797928e+00,  -1.49657695e+00,\n",
       "        -1.49121203e+00,  -1.46810278e+00,  -1.45868164e+00,\n",
       "        -1.45752082e+00,  -1.45651572e+00,  -1.45349129e+00,\n",
       "        -1.45141632e+00,  -1.45063026e+00,  -1.42941394e+00,\n",
       "        -1.42364703e+00,  -1.40204221e+00,  -1.39989575e+00,\n",
       "        -1.39339494e+00,  -1.38992261e+00,  -1.38676333e+00,\n",
       "        -1.37265111e+00,  -1.36708583e+00,  -1.36014897e+00,\n",
       "        -1.35830254e+00,  -1.35775723e+00,  -1.34995898e+00,\n",
       "        -1.34300293e+00,  -1.34133543e+00,  -1.34014417e+00,\n",
       "        -1.33596125e+00,  -1.33483208e+00,  -1.33329802e+00,\n",
       "        -1.33313375e+00,  -1.33119147e+00,  -1.32771544e+00,\n",
       "        -1.31575100e+00,  -1.31288583e+00,  -1.31143716e+00,\n",
       "        -1.30136102e+00,  -1.29578171e+00,  -1.29277567e+00,\n",
       "        -1.25899807e+00,  -1.25842329e+00,  -1.25351208e+00,\n",
       "        -1.25164454e+00,  -1.25030113e+00,  -1.23769991e+00,\n",
       "        -1.22970450e+00,  -1.22448569e+00,  -1.21982653e+00,\n",
       "        -1.21643279e+00,  -1.21446702e+00,  -1.21222522e+00,\n",
       "        -1.21045948e+00,  -1.20935811e+00,  -1.19525557e+00,\n",
       "        -1.19389660e+00,  -1.18962876e+00,  -1.18764547e+00,\n",
       "        -1.17324877e+00,  -1.17222132e+00,  -1.17176341e+00,\n",
       "        -1.16634722e+00,  -1.16556135e+00,  -1.16308186e+00,\n",
       "        -1.16083492e+00,  -1.16025159e+00,  -1.16005168e+00,\n",
       "        -1.15921320e+00,  -1.14604606e+00,  -1.13895077e+00,\n",
       "        -1.13192110e+00,  -1.12241358e+00,  -1.11308103e+00,\n",
       "        -1.11001807e+00,  -1.10936837e+00,  -1.10347033e+00,\n",
       "        -1.10235602e+00,  -1.10090487e+00,  -1.09732089e+00,\n",
       "        -1.09596591e+00,  -1.09388074e+00,  -1.08709065e+00,\n",
       "        -1.08483429e+00,  -1.08386869e+00,  -1.07733456e+00,\n",
       "        -1.06549964e+00,  -1.06440609e+00,  -1.06296037e+00,\n",
       "        -1.05009926e+00,  -1.03894067e+00,  -1.03692116e+00,\n",
       "        -1.03683820e+00,  -1.03389496e+00,  -1.03246197e+00,\n",
       "        -1.03222470e+00,  -1.03180924e+00,  -1.02368065e+00,\n",
       "        -1.02223646e+00,  -1.02130880e+00,  -1.01737350e+00,\n",
       "        -1.00268078e+00,  -1.00159849e+00,  -9.98950685e-01,\n",
       "        -9.96984083e-01,  -9.96071121e-01,  -9.86040365e-01,\n",
       "        -9.81232999e-01,  -9.77954688e-01,  -9.63378112e-01,\n",
       "        -9.59047062e-01,  -9.58894781e-01,  -9.38281257e-01,\n",
       "        -9.35645356e-01,  -9.32175270e-01,  -9.30262415e-01,\n",
       "        -9.16378130e-01,  -9.06895962e-01,  -9.06322442e-01,\n",
       "        -9.04164554e-01,  -9.03269851e-01,  -8.98441808e-01,\n",
       "        -8.88862204e-01,  -8.86821257e-01,  -8.86531786e-01,\n",
       "        -8.85744122e-01,  -8.84698536e-01,  -8.79098470e-01,\n",
       "        -8.76785526e-01,  -8.73509853e-01,  -8.68066973e-01,\n",
       "        -8.67466475e-01,  -8.67303933e-01,  -8.62000818e-01,\n",
       "        -8.58353710e-01,  -8.53959440e-01,  -8.50167971e-01,\n",
       "        -8.47703235e-01,  -8.46219960e-01,  -8.45207422e-01,\n",
       "        -8.42763533e-01,  -8.40763913e-01,  -8.37240629e-01,\n",
       "        -8.37212591e-01,  -8.35747123e-01,  -8.33925751e-01,\n",
       "        -8.32917546e-01,  -8.32655430e-01,  -8.31541213e-01,\n",
       "        -8.27416594e-01,  -8.20140482e-01,  -8.18928508e-01,\n",
       "        -8.16038786e-01,  -8.14857111e-01,  -8.12015481e-01,\n",
       "        -8.04172787e-01,  -8.04081664e-01,  -8.02174803e-01,\n",
       "        -7.99732050e-01,  -7.98830023e-01,  -7.94071508e-01,\n",
       "        -7.91377643e-01,  -7.87919188e-01,  -7.83279497e-01,\n",
       "        -7.82908888e-01,  -7.79162342e-01,  -7.77157799e-01,\n",
       "        -7.76548965e-01,  -7.74913840e-01,  -7.69326939e-01,\n",
       "        -7.69065243e-01,  -7.68242841e-01,  -7.37801210e-01,\n",
       "        -7.37614909e-01,  -7.35244104e-01,  -7.33709582e-01,\n",
       "        -7.33031552e-01,  -7.28369877e-01,  -7.27854945e-01,\n",
       "        -7.27468145e-01,  -7.25736475e-01,  -7.18273715e-01,\n",
       "        -7.18196055e-01,  -7.13662535e-01,  -7.13489333e-01,\n",
       "        -7.02425033e-01,  -7.00420746e-01,  -6.97900249e-01,\n",
       "        -6.96344573e-01,  -6.91156752e-01,  -6.88702771e-01,\n",
       "        -6.85396484e-01,  -6.85384442e-01,  -6.81863066e-01,\n",
       "        -6.80114774e-01,  -6.79986252e-01,  -6.67951222e-01,\n",
       "        -6.63652868e-01,  -6.62452464e-01,  -6.56631688e-01,\n",
       "        -6.50872230e-01,  -6.50748073e-01,  -6.39063334e-01,\n",
       "        -6.38201088e-01,  -6.33311189e-01,  -6.28431049e-01,\n",
       "        -6.26911143e-01,  -6.11446565e-01,  -6.08758662e-01,\n",
       "        -5.98303369e-01,  -5.96006633e-01,  -5.93035881e-01,\n",
       "        -5.92073784e-01,  -5.91538382e-01,  -5.87529339e-01,\n",
       "        -5.85363160e-01,  -5.84040643e-01,  -5.83448354e-01,\n",
       "        -5.76786578e-01,  -5.76426494e-01,  -5.68703140e-01,\n",
       "        -5.68214518e-01,  -5.64290440e-01,  -5.48242492e-01,\n",
       "        -5.44981385e-01,  -5.44339101e-01,  -5.42187915e-01,\n",
       "        -5.37714160e-01,  -5.36418626e-01,  -5.34635131e-01,\n",
       "        -5.28569861e-01,  -5.22377189e-01,  -5.22026894e-01,\n",
       "        -5.19604699e-01,  -5.14401729e-01,  -5.13076078e-01,\n",
       "        -5.10282740e-01,  -5.08282517e-01,  -5.08156874e-01,\n",
       "        -5.07606893e-01,  -5.01576352e-01,  -4.98315833e-01,\n",
       "        -4.96280586e-01,  -4.94452167e-01,  -4.93404818e-01,\n",
       "        -4.92055564e-01,  -4.90955241e-01,  -4.88795506e-01,\n",
       "        -4.88667416e-01,  -4.80496725e-01,  -4.76644791e-01,\n",
       "        -4.71886216e-01,  -4.71027493e-01,  -4.70160078e-01,\n",
       "        -4.67124372e-01,  -4.67034481e-01,  -4.57860925e-01,\n",
       "        -4.56791705e-01,  -4.55919532e-01,  -4.54537821e-01,\n",
       "        -4.44736493e-01,  -4.43317073e-01,  -4.41764940e-01,\n",
       "        -4.40112343e-01,  -4.39266900e-01,  -4.38454744e-01,\n",
       "        -4.34280912e-01,  -4.33040936e-01,  -4.32834522e-01,\n",
       "        -4.31202672e-01,  -4.25896534e-01,  -4.24135053e-01,\n",
       "        -4.20017320e-01,  -4.17015635e-01,  -4.16171394e-01,\n",
       "        -4.11610527e-01,  -4.08768185e-01,  -4.06545706e-01,\n",
       "        -4.04934539e-01,  -4.01606446e-01,  -3.96554718e-01,\n",
       "        -3.93040727e-01,  -3.92730764e-01,  -3.91999677e-01,\n",
       "        -3.85648001e-01,  -3.83435356e-01,  -3.81777926e-01,\n",
       "        -3.71082510e-01,  -3.66421949e-01,  -3.65095492e-01,\n",
       "        -3.57557286e-01,  -3.52328970e-01,  -3.49739600e-01,\n",
       "        -3.48886917e-01,  -3.42525626e-01,  -3.34434701e-01,\n",
       "        -3.32113765e-01,  -3.30240496e-01,  -3.29899373e-01,\n",
       "        -3.27757783e-01,  -3.18043618e-01,  -3.16392092e-01,\n",
       "        -3.15729709e-01,  -3.11742338e-01,  -3.10414125e-01,\n",
       "        -3.06207349e-01,  -3.03003952e-01,  -2.99821918e-01,\n",
       "        -2.98310378e-01,  -2.96466274e-01,  -2.96152913e-01,\n",
       "        -2.86453806e-01,  -2.80491475e-01,  -2.77192386e-01,\n",
       "        -2.76734708e-01,  -2.75997277e-01,  -2.74067973e-01,\n",
       "        -2.71631468e-01,  -2.71059469e-01,  -2.69569093e-01,\n",
       "        -2.65952390e-01,  -2.60228416e-01,  -2.58364060e-01,\n",
       "        -2.56757499e-01,  -2.56049706e-01,  -2.55246878e-01,\n",
       "        -2.50969226e-01,  -2.45954235e-01,  -2.44445622e-01,\n",
       "        -2.40900505e-01,  -2.38177443e-01,  -2.33040712e-01,\n",
       "        -2.32824985e-01,  -2.30457276e-01,  -2.27744069e-01,\n",
       "        -2.26946677e-01,  -2.26108291e-01,  -2.25218062e-01,\n",
       "        -2.23072865e-01,  -2.21934414e-01,  -2.21549729e-01,\n",
       "        -2.17619476e-01,  -2.14844714e-01,  -2.06255029e-01,\n",
       "        -2.04986975e-01,  -2.01414525e-01,  -1.96014142e-01,\n",
       "        -1.86955153e-01,  -1.84447327e-01,  -1.82559114e-01,\n",
       "        -1.73787820e-01,  -1.72359429e-01,  -1.70637837e-01,\n",
       "        -1.68767350e-01,  -1.67779037e-01,  -1.62989291e-01,\n",
       "        -1.61666779e-01,  -1.60798923e-01,  -1.58200475e-01,\n",
       "        -1.54435247e-01,  -1.54294387e-01,  -1.52546693e-01,\n",
       "        -1.49853831e-01,  -1.45286554e-01,  -1.45163365e-01,\n",
       "        -1.44870427e-01,  -1.41862939e-01,  -1.37507085e-01,\n",
       "        -1.37338327e-01,  -1.33923379e-01,  -1.33480597e-01,\n",
       "        -1.27159512e-01,  -1.24936746e-01,  -1.23229555e-01,\n",
       "        -1.21819382e-01,  -1.15766151e-01,  -1.15762622e-01,\n",
       "        -1.12070722e-01,  -1.11323840e-01,  -1.09073207e-01,\n",
       "        -1.08254608e-01,  -1.04497085e-01,  -1.03771611e-01,\n",
       "        -1.00886350e-01,  -1.00219011e-01,  -9.99279818e-02,\n",
       "        -9.53467981e-02,  -9.44311020e-02,  -9.32852375e-02,\n",
       "        -9.11308137e-02,  -9.10465825e-02,  -8.92986955e-02,\n",
       "        -8.75904490e-02,  -8.62291302e-02,  -8.38068588e-02,\n",
       "        -8.14347701e-02,  -8.12657327e-02,  -7.80508806e-02,\n",
       "        -7.54920829e-02,  -7.52494649e-02,  -6.80850086e-02,\n",
       "        -6.44683174e-02,  -6.35863703e-02,  -5.37464290e-02,\n",
       "        -4.93434053e-02,  -4.66489396e-02,  -4.06289740e-02,\n",
       "        -3.95550843e-02,  -3.69530426e-02,  -3.10483206e-02,\n",
       "        -3.10400938e-02,  -2.96370173e-02,  -2.82107320e-02,\n",
       "        -2.66239299e-02,  -2.18428006e-02,  -2.06924316e-02,\n",
       "        -1.97549545e-02,  -1.78447587e-02,  -1.75860683e-02,\n",
       "        -1.46481600e-02,  -1.37720549e-02,  -1.35318159e-02,\n",
       "        -9.85868228e-03,  -3.04622424e-03,  -2.05613993e-03,\n",
       "        -9.78467232e-04,  -6.41431836e-04,  -5.82242011e-04,\n",
       "         2.72304544e-03,   6.66961213e-03,   6.70665808e-03,\n",
       "         8.80774652e-03,   9.00291251e-03,   1.37019963e-02,\n",
       "         1.52835560e-02,   1.81990613e-02,   1.96625776e-02,\n",
       "         1.98517862e-02,   2.09127944e-02,   2.94127514e-02,\n",
       "         3.16675113e-02,   3.71996528e-02,   3.77247985e-02,\n",
       "         4.49924257e-02,   4.50377066e-02,   5.17339009e-02,\n",
       "         5.73434683e-02,   6.16242040e-02,   6.54439639e-02,\n",
       "         6.95904806e-02,   7.43987392e-02,   7.49167073e-02,\n",
       "         7.63800659e-02,   7.65724999e-02,   7.68276657e-02,\n",
       "         8.16764230e-02,   8.22054505e-02,   8.28233144e-02,\n",
       "         8.50646147e-02,   8.74747314e-02,   8.75318919e-02,\n",
       "         9.28973884e-02,   9.62607410e-02,   9.73964492e-02,\n",
       "         9.92664489e-02,   1.01347672e-01,   1.04724019e-01,\n",
       "         1.05136744e-01,   1.06283773e-01,   1.07789251e-01,\n",
       "         1.09070712e-01,   1.10488120e-01,   1.14602372e-01,\n",
       "         1.17018716e-01,   1.19197495e-01,   1.19340383e-01,\n",
       "         1.25443218e-01,   1.26726091e-01,   1.28032504e-01,\n",
       "         1.30107504e-01,   1.30380389e-01,   1.32579056e-01,\n",
       "         1.33381455e-01,   1.34714586e-01,   1.35280797e-01,\n",
       "         1.36425665e-01,   1.37966204e-01,   1.38000832e-01,\n",
       "         1.39688923e-01,   1.40119020e-01,   1.41209789e-01,\n",
       "         1.45444564e-01,   1.46807190e-01,   1.50735141e-01,\n",
       "         1.51991994e-01,   1.53013542e-01,   1.53560768e-01,\n",
       "         1.60745153e-01,   1.64015831e-01,   1.64619008e-01,\n",
       "         1.65246636e-01,   1.68012380e-01,   1.68386297e-01,\n",
       "         1.82553273e-01,   1.85130493e-01,   1.85230954e-01,\n",
       "         1.86606245e-01,   1.87154427e-01,   1.87520679e-01,\n",
       "         1.88115676e-01,   1.89250779e-01,   1.89298227e-01,\n",
       "         1.92093434e-01,   1.92376237e-01,   1.92767316e-01,\n",
       "         1.94889324e-01,   1.96017224e-01,   1.96021149e-01,\n",
       "         1.96253830e-01,   1.99211164e-01,   2.07345537e-01,\n",
       "         2.13468469e-01,   2.19902948e-01,   2.22817657e-01,\n",
       "         2.23192939e-01,   2.28079744e-01,   2.36044220e-01,\n",
       "         2.37400584e-01,   2.39913076e-01,   2.41175002e-01,\n",
       "         2.42795008e-01,   2.50440511e-01,   2.54002366e-01,\n",
       "         2.54190444e-01,   2.57452726e-01,   2.57781468e-01,\n",
       "         2.58309064e-01,   2.59128892e-01,   2.70309646e-01,\n",
       "         2.73976572e-01,   2.80575743e-01,   2.88117749e-01,\n",
       "         2.91091379e-01,   2.92030842e-01,   2.98197509e-01,\n",
       "         3.00147314e-01,   3.02880762e-01,   3.04177555e-01,\n",
       "         3.04497938e-01,   3.06447139e-01,   3.06694859e-01,\n",
       "         3.07709710e-01,   3.08336575e-01,   3.09704963e-01,\n",
       "         3.28630436e-01,   3.28896818e-01,   3.29807894e-01,\n",
       "         3.31533761e-01,   3.34405162e-01,   3.36930507e-01,\n",
       "         3.39092456e-01,   3.39576609e-01,   3.42289355e-01,\n",
       "         3.42364129e-01,   3.42739283e-01,   3.49035053e-01,\n",
       "         3.54281390e-01,   3.54313228e-01,   3.58717025e-01,\n",
       "         3.63691756e-01,   3.66580977e-01,   3.67437380e-01,\n",
       "         3.67695685e-01,   3.72561585e-01,   3.73947452e-01,\n",
       "         3.74117312e-01,   3.80046157e-01,   3.80801608e-01,\n",
       "         3.81142554e-01,   3.82533629e-01,   3.82945224e-01,\n",
       "         3.84229921e-01,   3.84908017e-01,   3.86453519e-01,\n",
       "         3.91268532e-01,   3.92044413e-01,   3.94820792e-01,\n",
       "         3.99456936e-01,   4.00617384e-01,   4.00844829e-01,\n",
       "         4.01814325e-01,   4.02046424e-01,   4.03921845e-01,\n",
       "         4.04234658e-01,   4.07117199e-01,   4.10959232e-01,\n",
       "         4.12536988e-01,   4.21379445e-01,   4.24013309e-01,\n",
       "         4.24037744e-01,   4.26788946e-01,   4.35514190e-01,\n",
       "         4.38793382e-01,   4.40635466e-01,   4.41077628e-01,\n",
       "         4.44424121e-01,   4.55146464e-01,   4.56043887e-01,\n",
       "         4.58799535e-01,   4.58807062e-01,   4.64619208e-01,\n",
       "         4.65938409e-01,   4.68460758e-01,   4.82250644e-01,\n",
       "         4.86111527e-01,   4.88337891e-01,   4.91706269e-01,\n",
       "         4.95067285e-01,   4.95715722e-01,   4.96898697e-01,\n",
       "         5.04510438e-01,   5.06073820e-01,   5.08889348e-01,\n",
       "         5.09989358e-01,   5.12841338e-01,   5.13836942e-01,\n",
       "         5.18957565e-01,   5.20021933e-01,   5.20935258e-01,\n",
       "         5.21643640e-01,   5.22217547e-01,   5.25298171e-01,\n",
       "         5.35402992e-01,   5.43990564e-01,   5.44078951e-01,\n",
       "         5.45625935e-01,   5.47682648e-01,   5.48214282e-01,\n",
       "         5.54082457e-01,   5.54120951e-01,   5.58172705e-01,\n",
       "         5.59124752e-01,   5.63467573e-01,   5.78106464e-01,\n",
       "         5.78187744e-01,   5.78414842e-01,   5.81750104e-01,\n",
       "         5.93435552e-01,   5.98012019e-01,   6.00024238e-01,\n",
       "         6.02520248e-01,   6.05479369e-01,   6.08379123e-01,\n",
       "         6.09272897e-01,   6.09924455e-01,   6.13819980e-01,\n",
       "         6.14460136e-01,   6.15961079e-01,   6.18034371e-01,\n",
       "         6.20229772e-01,   6.21884793e-01,   6.23470171e-01,\n",
       "         6.26894925e-01,   6.29844065e-01,   6.32767341e-01,\n",
       "         6.35517456e-01,   6.36735414e-01,   6.43617598e-01,\n",
       "         6.43801492e-01,   6.49735158e-01,   6.54858296e-01,\n",
       "         6.56908637e-01,   6.59760705e-01,   6.60166292e-01,\n",
       "         6.62458995e-01,   6.66970470e-01,   6.68040723e-01,\n",
       "         6.71735130e-01,   6.71804981e-01,   6.75355210e-01,\n",
       "         6.75468719e-01,   6.75577688e-01,   6.77113810e-01,\n",
       "         6.80305435e-01,   6.84601335e-01,   6.86311934e-01,\n",
       "         6.86856694e-01,   6.87950060e-01,   6.90558284e-01,\n",
       "         6.93503327e-01,   6.95746498e-01,   7.06507122e-01,\n",
       "         7.09305186e-01,   7.13077583e-01,   7.14481243e-01,\n",
       "         7.15892311e-01,   7.18102149e-01,   7.18991567e-01,\n",
       "         7.20605034e-01,   7.26334485e-01,   7.32265062e-01,\n",
       "         7.32478643e-01,   7.35121596e-01,   7.35561535e-01,\n",
       "         7.37131821e-01,   7.41874730e-01,   7.41969035e-01,\n",
       "         7.42432627e-01,   7.47708535e-01,   7.50450965e-01,\n",
       "         7.58570770e-01,   7.59416378e-01,   7.63476918e-01,\n",
       "         7.63857662e-01,   7.68630294e-01,   7.73225077e-01,\n",
       "         7.77579381e-01,   7.80202335e-01,   7.85877287e-01,\n",
       "         7.87008315e-01,   7.94261795e-01,   8.07521382e-01,\n",
       "         8.13688051e-01,   8.26300693e-01,   8.29044656e-01,\n",
       "         8.29173660e-01,   8.31026074e-01,   8.33659946e-01,\n",
       "         8.33725641e-01,   8.37559269e-01,   8.40279803e-01,\n",
       "         8.41994800e-01,   8.43751672e-01,   8.44453097e-01,\n",
       "         8.50450049e-01,   8.54358012e-01,   8.58768387e-01,\n",
       "         8.60634678e-01,   8.60722275e-01,   8.61399225e-01,\n",
       "         8.67593853e-01,   8.70618412e-01,   8.71218937e-01,\n",
       "         8.81983154e-01,   8.83717614e-01,   8.84321693e-01,\n",
       "         8.88347702e-01,   9.01269286e-01,   9.01734455e-01,\n",
       "         9.02549125e-01,   9.04969213e-01,   9.06028188e-01,\n",
       "         9.06558601e-01,   9.07082755e-01,   9.12544791e-01,\n",
       "         9.13886285e-01,   9.17184696e-01,   9.22965711e-01,\n",
       "         9.23308027e-01,   9.35143813e-01,   9.45793410e-01,\n",
       "         9.50591118e-01,   9.50997632e-01,   9.54640370e-01,\n",
       "         9.63694812e-01,   9.63751356e-01,   9.69630175e-01,\n",
       "         9.76898523e-01,   9.77998467e-01,   9.85756724e-01,\n",
       "         9.91295949e-01,   9.93953748e-01,   9.98929379e-01,\n",
       "         1.00414177e+00,   1.00699411e+00,   1.01581606e+00,\n",
       "         1.01709071e+00,   1.01727156e+00,   1.01825796e+00,\n",
       "         1.02246001e+00,   1.02275223e+00,   1.03607061e+00,\n",
       "         1.04015110e+00,   1.04976846e+00,   1.05130116e+00,\n",
       "         1.06409830e+00,   1.06698185e+00,   1.07907204e+00,\n",
       "         1.08668059e+00,   1.08838807e+00,   1.09818219e+00,\n",
       "         1.09892488e+00,   1.09922949e+00,   1.10091571e+00,\n",
       "         1.10266758e+00,   1.10326677e+00,   1.10639728e+00,\n",
       "         1.10772665e+00,   1.11257904e+00,   1.12100059e+00,\n",
       "         1.12454668e+00,   1.12652952e+00,   1.12838021e+00,\n",
       "         1.13095093e+00,   1.13233606e+00,   1.13804206e+00,\n",
       "         1.14130803e+00,   1.14192253e+00,   1.14366697e+00,\n",
       "         1.15782071e+00,   1.15856170e+00,   1.16219305e+00,\n",
       "         1.16309665e+00,   1.16418156e+00,   1.17119923e+00,\n",
       "         1.17120452e+00,   1.17304885e+00,   1.18739623e+00,\n",
       "         1.19094888e+00,   1.20197259e+00,   1.20601115e+00,\n",
       "         1.21067179e+00,   1.21133434e+00,   1.21567585e+00,\n",
       "         1.22580176e+00,   1.22868942e+00,   1.23333067e+00,\n",
       "         1.23780774e+00,   1.24375372e+00,   1.24852290e+00,\n",
       "         1.25223120e+00,   1.25258125e+00,   1.25464723e+00,\n",
       "         1.25563002e+00,   1.25921454e+00,   1.25957843e+00,\n",
       "         1.27020004e+00,   1.27108257e+00,   1.27453277e+00,\n",
       "         1.27714201e+00,   1.27736665e+00,   1.27930256e+00,\n",
       "         1.28329898e+00,   1.28450921e+00,   1.29075190e+00,\n",
       "         1.31035575e+00,   1.31615681e+00,   1.31954253e+00,\n",
       "         1.33516355e+00,   1.34391509e+00,   1.36462004e+00,\n",
       "         1.37927125e+00,   1.38179441e+00,   1.38256380e+00,\n",
       "         1.39269427e+00,   1.39845904e+00,   1.43424830e+00,\n",
       "         1.44947730e+00,   1.45498468e+00,   1.45744536e+00,\n",
       "         1.46172907e+00,   1.48150370e+00,   1.48183542e+00,\n",
       "         1.48453336e+00,   1.48643250e+00,   1.48653143e+00,\n",
       "         1.50028232e+00,   1.50182498e+00,   1.50453775e+00,\n",
       "         1.50913054e+00,   1.50998562e+00,   1.51937312e+00,\n",
       "         1.52184054e+00,   1.53300737e+00,   1.55536836e+00,\n",
       "         1.56147125e+00,   1.56173588e+00,   1.56251431e+00,\n",
       "         1.56272579e+00,   1.56593058e+00,   1.57308792e+00,\n",
       "         1.57826985e+00,   1.60158992e+00,   1.61509804e+00,\n",
       "         1.61661152e+00,   1.63125651e+00,   1.64329631e+00,\n",
       "         1.64745572e+00,   1.64808052e+00,   1.66083882e+00,\n",
       "         1.67550280e+00,   1.68965083e+00,   1.69102159e+00,\n",
       "         1.69643648e+00,   1.70323679e+00,   1.71042187e+00,\n",
       "         1.74053106e+00,   1.75843483e+00,   1.77168755e+00,\n",
       "         1.77375590e+00,   1.77943227e+00,   1.78545135e+00,\n",
       "         1.80515808e+00,   1.81647958e+00,   1.81844359e+00,\n",
       "         1.84792508e+00,   1.85674476e+00,   1.85954328e+00,\n",
       "         1.86555757e+00,   1.88858159e+00,   1.91543288e+00,\n",
       "         1.99822240e+00,   2.05890353e+00,   2.06571939e+00,\n",
       "         2.07351157e+00,   2.07397976e+00,   2.14969082e+00,\n",
       "         2.15111318e+00,   2.19547892e+00,   2.21209278e+00,\n",
       "         2.23555685e+00,   2.35870517e+00,   2.38215333e+00,\n",
       "         2.38436689e+00,   2.39091760e+00,   2.40659146e+00,\n",
       "         2.44792270e+00,   2.51927879e+00,   2.54522586e+00,\n",
       "         2.73348642e+00,   2.73626056e+00,   2.88004589e+00,\n",
       "         2.93448146e+00,   3.29263148e+00])"
      ]
     },
     "execution_count": 68,
     "metadata": {},
     "output_type": "execute_result"
    }
   ],
   "source": [
    "#The top level method np.sort returns a sorted copy of an array instead of modifying\n",
    "#the array in place. A quick-and-dirty way to compute the quantiles of an array is to sort\n",
    "#it and select the value at a particular rank:\n",
    "large_arr = np.random.randn(1000)\n",
    "type(large_arr)\n",
    "large_arr.sort()\n",
    "large_arr[int(0.05 * len(large_arr)):] # 5% quantile"
   ]
  },
  {
   "cell_type": "code",
   "execution_count": 69,
   "metadata": {
    "collapsed": false
   },
   "outputs": [
    {
     "data": {
      "text/plain": [
       "array(['Bob', 'Joe', 'Will'], \n",
       "      dtype='|S4')"
      ]
     },
     "execution_count": 69,
     "metadata": {},
     "output_type": "execute_result"
    }
   ],
   "source": [
    "names = np.array(['Bob', 'Joe', 'Will', 'Bob', 'Will', 'Joe', 'Joe'])\n",
    "np.unique(names)"
   ]
  },
  {
   "cell_type": "code",
   "execution_count": 70,
   "metadata": {
    "collapsed": false
   },
   "outputs": [
    {
     "data": {
      "text/plain": [
       "array([1, 2, 3, 4])"
      ]
     },
     "execution_count": 70,
     "metadata": {},
     "output_type": "execute_result"
    }
   ],
   "source": [
    "ints = np.array([3, 3, 3, 2, 2, 1, 1, 4, 4])\n",
    "np.unique(ints)\n"
   ]
  },
  {
   "cell_type": "markdown",
   "metadata": {},
   "source": [
    "function, \n",
    "\n",
    "```python\n",
    "np.in1d\n",
    "```\n",
    "tests membership of the values in one array in another,\n",
    "returning a boolean array:"
   ]
  },
  {
   "cell_type": "code",
   "execution_count": 71,
   "metadata": {
    "collapsed": false
   },
   "outputs": [
    {
     "data": {
      "text/plain": [
       "array([ True, False, False,  True,  True, False,  True], dtype=bool)"
      ]
     },
     "execution_count": 71,
     "metadata": {},
     "output_type": "execute_result"
    }
   ],
   "source": [
    "values = np.array([6, 0, 0, 3, 2, 5, 6])\n",
    "np.in1d(values, [2, 3, 6])"
   ]
  },
  {
   "cell_type": "markdown",
   "metadata": {},
   "source": [
    "================================================================================================================================\n",
    "# <font color='green'>File Input and Output with Arrays</font>\n",
    "\n",
    "```python\n",
    "np.save\n",
    "np.load \n",
    "```\n",
    "are the two workhorse functions for efficiently saving and loading\n",
    "array data on disk. Arrays are saved by default in an uncompressed raw binary format\n",
    "with file extension **__.npy.__**\n",
    "\n",
    "\n",
    "\n"
   ]
  },
  {
   "cell_type": "code",
   "execution_count": null,
   "metadata": {
    "collapsed": true
   },
   "outputs": [],
   "source": [
    "arr = np.arange(10)\n",
    "np.save('some_array', arr)"
   ]
  },
  {
   "cell_type": "markdown",
   "metadata": {},
   "source": [
    "<img src=\"save.PNG\">"
   ]
  },
  {
   "cell_type": "code",
   "execution_count": 72,
   "metadata": {
    "collapsed": false
   },
   "outputs": [
    {
     "ename": "IOError",
     "evalue": "[Errno 2] No such file or directory: 'some_array.npy'",
     "output_type": "error",
     "traceback": [
      "\u001b[0;31m---------------------------------------------------------------------------\u001b[0m",
      "\u001b[0;31mIOError\u001b[0m                                   Traceback (most recent call last)",
      "\u001b[0;32m<ipython-input-72-e959b47f22d6>\u001b[0m in \u001b[0;36m<module>\u001b[0;34m()\u001b[0m\n\u001b[0;32m----> 1\u001b[0;31m \u001b[0mbla\u001b[0m \u001b[1;33m=\u001b[0m \u001b[0mnp\u001b[0m\u001b[1;33m.\u001b[0m\u001b[0mload\u001b[0m\u001b[1;33m(\u001b[0m\u001b[1;34m'some_array.npy'\u001b[0m\u001b[1;33m)\u001b[0m\u001b[1;33m\u001b[0m\u001b[0m\n\u001b[0m\u001b[1;32m      2\u001b[0m \u001b[0mbla\u001b[0m\u001b[1;33m\u001b[0m\u001b[0m\n",
      "\u001b[0;32mC:\\Users\\Wojtek Biedzinski\\Anaconda3\\envs\\Dand\\lib\\site-packages\\numpy\\lib\\npyio.pyc\u001b[0m in \u001b[0;36mload\u001b[0;34m(file, mmap_mode, allow_pickle, fix_imports, encoding)\u001b[0m\n\u001b[1;32m    360\u001b[0m     \u001b[0mown_fid\u001b[0m \u001b[1;33m=\u001b[0m \u001b[0mFalse\u001b[0m\u001b[1;33m\u001b[0m\u001b[0m\n\u001b[1;32m    361\u001b[0m     \u001b[1;32mif\u001b[0m \u001b[0misinstance\u001b[0m\u001b[1;33m(\u001b[0m\u001b[0mfile\u001b[0m\u001b[1;33m,\u001b[0m \u001b[0mbasestring\u001b[0m\u001b[1;33m)\u001b[0m\u001b[1;33m:\u001b[0m\u001b[1;33m\u001b[0m\u001b[0m\n\u001b[0;32m--> 362\u001b[0;31m         \u001b[0mfid\u001b[0m \u001b[1;33m=\u001b[0m \u001b[0mopen\u001b[0m\u001b[1;33m(\u001b[0m\u001b[0mfile\u001b[0m\u001b[1;33m,\u001b[0m \u001b[1;34m\"rb\"\u001b[0m\u001b[1;33m)\u001b[0m\u001b[1;33m\u001b[0m\u001b[0m\n\u001b[0m\u001b[1;32m    363\u001b[0m         \u001b[0mown_fid\u001b[0m \u001b[1;33m=\u001b[0m \u001b[0mTrue\u001b[0m\u001b[1;33m\u001b[0m\u001b[0m\n\u001b[1;32m    364\u001b[0m     \u001b[1;32melse\u001b[0m\u001b[1;33m:\u001b[0m\u001b[1;33m\u001b[0m\u001b[0m\n",
      "\u001b[0;31mIOError\u001b[0m: [Errno 2] No such file or directory: 'some_array.npy'"
     ]
    }
   ],
   "source": [
    "bla = np.load('some_array.npy')\n",
    "bla"
   ]
  },
  {
   "cell_type": "markdown",
   "metadata": {},
   "source": [
    "You save multiple arrays in a zip archive using np.savez and passing the arrays as keyword\n",
    "arguments:"
   ]
  },
  {
   "cell_type": "code",
   "execution_count": null,
   "metadata": {
    "collapsed": true
   },
   "outputs": [],
   "source": [
    "arr2 = ([1,5,6,8,4])\n",
    "np.savez('array_archive.npz', a=arr, b=arr2)"
   ]
  },
  {
   "cell_type": "markdown",
   "metadata": {},
   "source": [
    "<img src=\"IMG\\archive.PNG\">"
   ]
  },
  {
   "cell_type": "code",
   "execution_count": null,
   "metadata": {
    "collapsed": false
   },
   "outputs": [],
   "source": [
    "#When loading an .npz file, you get back a dict-like object which loads the individual\n",
    "#arrays lazily:\n",
    "arch = np.load('array_archive.npz')\n",
    "arch['b']\n",
    "arch['a']\n"
   ]
  },
  {
   "cell_type": "markdown",
   "metadata": {},
   "source": [
    "<font color='green'>**Saving and Loading Text Files** </font><br><br>"
   ]
  },
  {
   "cell_type": "code",
   "execution_count": null,
   "metadata": {
    "collapsed": false
   },
   "outputs": [],
   "source": [
    "arr = np.loadtxt('array_ex.txt', delimiter=',')\n",
    "arr"
   ]
  },
  {
   "cell_type": "markdown",
   "metadata": {},
   "source": [
    "np.savetxt performs the inverse operation: writing an array to a delimited text file.\n",
    "genfromtxt is similar to loadtxt but is geared for structured arrays and missing data\n",
    "handling; see Chapter 12 for more on structured arrays."
   ]
  },
  {
   "cell_type": "code",
   "execution_count": null,
   "metadata": {
    "collapsed": false
   },
   "outputs": [],
   "source": [
    "arr = np.array([[0.580052,  0.18673 ,  1.040717,  1.134411],\n",
    "       [ 0.194163, -0.636917, -0.938659,  0.124094],\n",
    "       [-0.12641 ,  0.268607, 0,  0.047428],\n",
    "       [-1.484413,  0.004176, -0.744203,  0.005487],\n",
    "       [ 2.302869,  0.200131,  NaN, -1.88109 ],\n",
    "       [-0.19323 ,  1.047233,  0.482803,  0.960334]])\n",
    "\n",
    "np.savetxt('test.txt', arr)\n",
    "\n",
    "\n",
    "arr1 = np.genfromtxt('test.txt', delimiter=' ')\n",
    "arr1\n",
    "\n",
    "arr2 = np.loadtxt('test.txt', delimiter=' ')\n",
    "arr2\n"
   ]
  },
  {
   "cell_type": "markdown",
   "metadata": {},
   "source": [
    "================================================================================================================================\n",
    "# <font color='green'>LINEAR ALGEBRA</font>\n",
    "Linear algebra, like matrix multiplication, decompositions, determinants, and other\n",
    "square matrix math, is an important part of any array library. Unlike some languages\n",
    "like MATLAB, multiplying two two-dimensional arrays with _*_ is an element-wise\n",
    "product instead of a matrix dot product. As such, there is a function dot, both an array\n",
    "method, and a function in the _numpy_ namespace, for matrix multiplication:\n",
    "\n",
    "\n",
    "If **A** is an **n × m** matrix and **B** is an **m × p** matrix,\n",
    "<img src=\"matrix_multiplication.PNG\"> \n"
   ]
  },
  {
   "cell_type": "code",
   "execution_count": 73,
   "metadata": {
    "collapsed": false
   },
   "outputs": [
    {
     "data": {
      "text/plain": [
       "array([[ 1.,  2.,  3.],\n",
       "       [ 4.,  5.,  6.]])"
      ]
     },
     "execution_count": 73,
     "metadata": {},
     "output_type": "execute_result"
    },
    {
     "data": {
      "text/plain": [
       "(2L, 3L)"
      ]
     },
     "execution_count": 73,
     "metadata": {},
     "output_type": "execute_result"
    },
    {
     "data": {
      "text/plain": [
       "array([[  6.,  23.],\n",
       "       [ -1.,   7.],\n",
       "       [  8.,   9.]])"
      ]
     },
     "execution_count": 73,
     "metadata": {},
     "output_type": "execute_result"
    },
    {
     "data": {
      "text/plain": [
       "(3L, 2L)"
      ]
     },
     "execution_count": 73,
     "metadata": {},
     "output_type": "execute_result"
    },
    {
     "data": {
      "text/plain": [
       "array([[  28.,   64.],\n",
       "       [  67.,  181.]])"
      ]
     },
     "execution_count": 73,
     "metadata": {},
     "output_type": "execute_result"
    },
    {
     "data": {
      "text/plain": [
       "array([[  98.,  127.,  156.],\n",
       "       [  27.,   33.,   39.],\n",
       "       [  44.,   61.,   78.]])"
      ]
     },
     "execution_count": 73,
     "metadata": {},
     "output_type": "execute_result"
    },
    {
     "ename": "ValueError",
     "evalue": "shapes (3,2) and (4,2) not aligned: 2 (dim 1) != 4 (dim 0)",
     "output_type": "error",
     "traceback": [
      "\u001b[0;31m---------------------------------------------------------------------------\u001b[0m",
      "\u001b[0;31mValueError\u001b[0m                                Traceback (most recent call last)",
      "\u001b[0;32m<ipython-input-73-9c462efd5dda>\u001b[0m in \u001b[0;36m<module>\u001b[0;34m()\u001b[0m\n\u001b[1;32m     11\u001b[0m \u001b[1;33m\u001b[0m\u001b[0m\n\u001b[1;32m     12\u001b[0m \u001b[0mz\u001b[0m \u001b[1;33m=\u001b[0m \u001b[0mnp\u001b[0m\u001b[1;33m.\u001b[0m\u001b[0marray\u001b[0m\u001b[1;33m(\u001b[0m\u001b[1;33m[\u001b[0m\u001b[1;33m[\u001b[0m\u001b[1;36m1\u001b[0m\u001b[1;33m,\u001b[0m\u001b[1;36m2\u001b[0m\u001b[1;33m]\u001b[0m\u001b[1;33m,\u001b[0m \u001b[1;33m[\u001b[0m\u001b[1;36m8\u001b[0m\u001b[1;33m,\u001b[0m\u001b[1;36m9\u001b[0m\u001b[1;33m]\u001b[0m\u001b[1;33m,\u001b[0m \u001b[1;33m[\u001b[0m\u001b[1;36m9\u001b[0m\u001b[1;33m,\u001b[0m\u001b[1;36m10\u001b[0m\u001b[1;33m]\u001b[0m\u001b[1;33m,\u001b[0m \u001b[1;33m[\u001b[0m\u001b[1;36m1\u001b[0m\u001b[1;33m,\u001b[0m\u001b[1;36m6\u001b[0m\u001b[1;33m]\u001b[0m\u001b[1;33m]\u001b[0m\u001b[1;33m)\u001b[0m\u001b[1;33m\u001b[0m\u001b[0m\n\u001b[0;32m---> 13\u001b[0;31m \u001b[0my\u001b[0m\u001b[1;33m.\u001b[0m\u001b[0mdot\u001b[0m\u001b[1;33m(\u001b[0m\u001b[0mz\u001b[0m\u001b[1;33m)\u001b[0m\u001b[1;33m\u001b[0m\u001b[0m\n\u001b[0m",
      "\u001b[0;31mValueError\u001b[0m: shapes (3,2) and (4,2) not aligned: 2 (dim 1) != 4 (dim 0)"
     ]
    }
   ],
   "source": [
    "x = np.array([[1., 2., 3.], [4., 5., 6.]])\n",
    "y = np.array([[6., 23.], [-1, 7], [8, 9]])\n",
    "x\n",
    "x.shape\n",
    "y\n",
    "y.shape\n",
    "\n",
    "x.dot(y) # equivalently np.dot(x, y)\n",
    "\n",
    "y.dot(x)\n",
    "\n",
    "z = np.array([[1,2], [8,9], [9,10], [1,6]])\n",
    "y.dot(z)"
   ]
  },
  {
   "cell_type": "markdown",
   "metadata": {},
   "source": [
    "<img src=\"IMG\\linalg.PNG\">\n",
    "**Rozkład QR** – w algebrze liniowej rozkład macierzy A do postaci iloczynu dwóch macierzy A = QR, gdzie Q jest macierzą ortogonalną ( QTQ = I ) i R jest macierzą trójkątną górną [1]. Na bazie rozkładu QR możliwa jest realizacja metody najmniejszych kwadratów[2] oraz metod rozwiązywania układów równań liniowych[1].\n",
    "\n",
    "matrix inverse: https://www.mathsisfun.com/algebra/matrix-inverse.html\n",
    "macierze: http://matematykawwakacje.pl.tl/Macierze.htm#Macierz_ortogonalna\n",
    "\n",
    "```python\n",
    "numpy.linalg\n",
    "```\n",
    "\n",
    "has a standard set of matrix decompositions and things like inverse and\n",
    "determinant. These are implemented under the hood using the same industry-standard\n",
    "Fortran libraries used in other languages like MATLAB and R, such as like BLAS, LAPACK,\n",
    "or possibly (depending on your NumPy build) the Intel MKL:"
   ]
  },
  {
   "cell_type": "code",
   "execution_count": 76,
   "metadata": {
    "collapsed": false
   },
   "outputs": [
    {
     "name": "stdout",
     "output_type": "stream",
     "text": [
      "x\n"
     ]
    },
    {
     "data": {
      "text/plain": [
       "array([[ 1,  2,  3,  4,  5],\n",
       "       [ 6,  7,  8,  9, 10],\n",
       "       [11, 12, 13, 14, 15],\n",
       "       [16, 17, 18, 19, 20],\n",
       "       [21, 22, 23, 24, 25]])"
      ]
     },
     "execution_count": 76,
     "metadata": {},
     "output_type": "execute_result"
    },
    {
     "name": "stdout",
     "output_type": "stream",
     "text": [
      "mat\n"
     ]
    },
    {
     "data": {
      "text/plain": [
       "array([[ 855,  910,  965, 1020, 1075],\n",
       "       [ 910,  970, 1030, 1090, 1150],\n",
       "       [ 965, 1030, 1095, 1160, 1225],\n",
       "       [1020, 1090, 1160, 1230, 1300],\n",
       "       [1075, 1150, 1225, 1300, 1375]])"
      ]
     },
     "execution_count": 76,
     "metadata": {},
     "output_type": "execute_result"
    },
    {
     "name": "stdout",
     "output_type": "stream",
     "text": [
      "inv(mat)\n"
     ]
    },
    {
     "data": {
      "text/plain": [
       "array([[  7.09551504e+13,  -5.27765581e+13,  -5.21901519e+13,\n",
       "         -2.11106233e+13,   5.51221829e+13],\n",
       "       [ -7.15415566e+13,   5.27765581e+13,   5.16037457e+13,\n",
       "          2.46290605e+13,  -5.74678077e+13],\n",
       "       [  4.10484341e+12,  -0.00000000e+00,  -4.69124961e+12,\n",
       "         -7.03687442e+12,   7.62328062e+12],\n",
       "       [ -7.74056186e+13,   5.27765581e+13,   6.33318698e+13,\n",
       "          2.46290605e+13,  -6.33318698e+13],\n",
       "       [  7.38871814e+13,  -5.27765581e+13,  -5.80542139e+13,\n",
       "         -2.11106233e+13,   5.80542139e+13]])"
      ]
     },
     "execution_count": 76,
     "metadata": {},
     "output_type": "execute_result"
    },
    {
     "name": "stdout",
     "output_type": "stream",
     "text": [
      "mat.dot(inv(mat))\n"
     ]
    },
    {
     "data": {
      "text/plain": [
       "array([[  0.,  -8.,  -8.,  -4.,   0.],\n",
       "       [  0.,  -8.,   0.,  -4.,  -8.],\n",
       "       [  0.,  -8.,  -8.,   0.,   0.],\n",
       "       [  0., -16.,   0.,   0., -16.],\n",
       "       [  0.,   0.,   0.,  -8.,   0.]])"
      ]
     },
     "execution_count": 76,
     "metadata": {},
     "output_type": "execute_result"
    },
    {
     "data": {
      "text/plain": [
       "array([[  0.,  -8.,  -8.,  -4.,   0.],\n",
       "       [  0.,  -8.,   0.,  -4.,  -8.],\n",
       "       [  0.,  -8.,  -8.,   0.,   0.],\n",
       "       [  0., -16.,   0.,   0., -16.],\n",
       "       [  0.,   0.,   0.,  -8.,   0.]])"
      ]
     },
     "execution_count": 76,
     "metadata": {},
     "output_type": "execute_result"
    }
   ],
   "source": [
    "from numpy.linalg import inv, qr\n",
    "X = np.arange(1,26).reshape(5,5)\n",
    "print\"x\"\n",
    "X\n",
    "print \"mat\"\n",
    "mat = X.T.dot(X)\n",
    "mat\n",
    "print \"inv(mat)\"\n",
    "inv(mat)\n",
    "\n",
    "print \"mat.dot(inv(mat))\"\n",
    "mat.dot(inv(mat))\n",
    "np.dot(mat, inv(mat))"
   ]
  },
  {
   "cell_type": "markdown",
   "metadata": {},
   "source": [
    "========================================================================================================================\n",
    "# <font color='green'>Random Number Generation</font>\n",
    "<img src=\"random.PNG\">"
   ]
  },
  {
   "cell_type": "code",
   "execution_count": 77,
   "metadata": {
    "collapsed": false
   },
   "outputs": [
    {
     "data": {
      "text/plain": [
       "array([[ 1.51721157,  0.78249935,  0.76719596,  0.47371856],\n",
       "       [-0.41715655,  0.98448296,  0.56337477, -0.0551921 ],\n",
       "       [-1.88108711,  0.62762333, -0.98266801,  0.3005762 ],\n",
       "       [-0.57156198, -1.02764371, -0.3624158 , -0.67598036]])"
      ]
     },
     "execution_count": 77,
     "metadata": {},
     "output_type": "execute_result"
    }
   ],
   "source": [
    "#you can get a 4 by 4 array of samples from the standard normal distribution using normal:\n",
    "samples = np.random.normal(size=(4, 4))\n",
    "samples"
   ]
  },
  {
   "cell_type": "code",
   "execution_count": 79,
   "metadata": {
    "collapsed": false
   },
   "outputs": [
    {
     "name": "stdout",
     "output_type": "stream",
     "text": [
      "1 loop, best of 3: 1.16 s per loop\n",
      "10 loops, best of 3: 43.4 ms per loop\n"
     ]
    }
   ],
   "source": [
    "#comparision on Python built-in function random and numpy function\n",
    "from random import normalvariate\n",
    "N = 1000000\n",
    "%timeit samples = [normalvariate(0, 1) for _ in xrange(N)]\n",
    "\n",
    "%timeit np.random.normal(size=N)\n"
   ]
  },
  {
   "cell_type": "markdown",
   "metadata": {},
   "source": [
    "Example: Random Walks<br>\n",
    "_\"Python for data analysis\"_ page 108"
   ]
  }
 ],
 "metadata": {
  "anaconda-cloud": {},
  "kernelspec": {
   "display_name": "Python 2",
   "language": "python",
   "name": "python2"
  },
  "language_info": {
   "codemirror_mode": {
    "name": "ipython",
    "version": 2
   },
   "file_extension": ".py",
   "mimetype": "text/x-python",
   "name": "python",
   "nbconvert_exporter": "python",
   "pygments_lexer": "ipython2",
   "version": "2.7.12"
  }
 },
 "nbformat": 4,
 "nbformat_minor": 2
}
