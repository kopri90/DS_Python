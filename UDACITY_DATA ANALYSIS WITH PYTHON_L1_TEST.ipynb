{
 "cells": [
  {
   "cell_type": "code",
   "execution_count": null,
   "metadata": {
    "collapsed": false
   },
   "outputs": [],
   "source": [
    "import unicodecsv\n",
    "\n",
    "## Longer version of code (replaced with shorter, equivalent version below)\n",
    "\n",
    "# enrollments = []\n",
    "# f = open('enrollments.csv', 'rb')\n",
    "# reader = unicodecsv.DictReader(f)\n",
    "# for row in reader:\n",
    "#     enrollments.append(row)\n",
    "# f.close()\n",
    "\n",
    "with open('enrollments_test.csv', 'rb') as f:\n",
    "    reader = unicodecsv.DictReader(f)\n",
    "    enrollments = list(reader)\n",
    "\n",
    "enrollments[0]"
   ]
  },
  {
   "cell_type": "code",
   "execution_count": 14,
   "metadata": {
    "collapsed": false
   },
   "outputs": [
    {
     "ename": "ValueError",
     "evalue": "time data '1/14/2015' does not match format '%Y-%m-%d'",
     "output_type": "error",
     "traceback": [
      "\u001b[0;31m---------------------------------------------------------------------------\u001b[0m",
      "\u001b[0;31mValueError\u001b[0m                                Traceback (most recent call last)",
      "\u001b[0;32m<ipython-input-14-24a3bad6e266>\u001b[0m in \u001b[0;36m<module>\u001b[0;34m()\u001b[0m\n\u001b[1;32m     19\u001b[0m \u001b[1;31m# Clean up the data types in the enrollments table\u001b[0m\u001b[1;33m\u001b[0m\u001b[1;33m\u001b[0m\u001b[0m\n\u001b[1;32m     20\u001b[0m \u001b[1;32mfor\u001b[0m \u001b[0menrollment\u001b[0m \u001b[1;32min\u001b[0m \u001b[0menrollments\u001b[0m\u001b[1;33m:\u001b[0m\u001b[1;33m\u001b[0m\u001b[0m\n\u001b[0;32m---> 21\u001b[0;31m     \u001b[0menrollment\u001b[0m\u001b[1;33m[\u001b[0m\u001b[1;34m'cancel_date'\u001b[0m\u001b[1;33m]\u001b[0m \u001b[1;33m=\u001b[0m \u001b[0mparse_date\u001b[0m\u001b[1;33m(\u001b[0m\u001b[0menrollment\u001b[0m\u001b[1;33m[\u001b[0m\u001b[1;34m'cancel_date'\u001b[0m\u001b[1;33m]\u001b[0m\u001b[1;33m)\u001b[0m\u001b[1;33m\u001b[0m\u001b[0m\n\u001b[0m\u001b[1;32m     22\u001b[0m     \u001b[0menrollment\u001b[0m\u001b[1;33m[\u001b[0m\u001b[1;34m'days_to_cancel'\u001b[0m\u001b[1;33m]\u001b[0m \u001b[1;33m=\u001b[0m \u001b[0mparse_maybe_int\u001b[0m\u001b[1;33m(\u001b[0m\u001b[0menrollment\u001b[0m\u001b[1;33m[\u001b[0m\u001b[1;34m'days_to_cancel'\u001b[0m\u001b[1;33m]\u001b[0m\u001b[1;33m)\u001b[0m\u001b[1;33m\u001b[0m\u001b[0m\n\u001b[1;32m     23\u001b[0m     \u001b[0menrollment\u001b[0m\u001b[1;33m[\u001b[0m\u001b[1;34m'is_canceled'\u001b[0m\u001b[1;33m]\u001b[0m \u001b[1;33m=\u001b[0m \u001b[0menrollment\u001b[0m\u001b[1;33m[\u001b[0m\u001b[1;34m'is_canceled'\u001b[0m\u001b[1;33m]\u001b[0m \u001b[1;33m==\u001b[0m \u001b[1;34m'True'\u001b[0m\u001b[1;33m\u001b[0m\u001b[0m\n",
      "\u001b[0;32m<ipython-input-14-24a3bad6e266>\u001b[0m in \u001b[0;36mparse_date\u001b[0;34m(date)\u001b[0m\n\u001b[1;32m      7\u001b[0m         \u001b[1;32mreturn\u001b[0m \u001b[0mNone\u001b[0m\u001b[1;33m\u001b[0m\u001b[0m\n\u001b[1;32m      8\u001b[0m     \u001b[1;32melse\u001b[0m\u001b[1;33m:\u001b[0m\u001b[1;33m\u001b[0m\u001b[0m\n\u001b[0;32m----> 9\u001b[0;31m         \u001b[1;32mreturn\u001b[0m \u001b[0mdt\u001b[0m\u001b[1;33m.\u001b[0m\u001b[0mstrptime\u001b[0m\u001b[1;33m(\u001b[0m\u001b[0mdate\u001b[0m\u001b[1;33m,\u001b[0m \u001b[1;34m'%Y-%m-%d'\u001b[0m\u001b[1;33m)\u001b[0m\u001b[1;33m\u001b[0m\u001b[0m\n\u001b[0m\u001b[1;32m     10\u001b[0m \u001b[1;33m\u001b[0m\u001b[0m\n\u001b[1;32m     11\u001b[0m \u001b[1;31m# Takes a string which is either an empty string or represents an integer,\u001b[0m\u001b[1;33m\u001b[0m\u001b[1;33m\u001b[0m\u001b[0m\n",
      "\u001b[0;32mC:\\Users\\Wojtek Biedzinski\\Anaconda3\\envs\\dand\\lib\\_strptime.pyc\u001b[0m in \u001b[0;36m_strptime\u001b[0;34m(data_string, format)\u001b[0m\n\u001b[1;32m    330\u001b[0m     \u001b[1;32mif\u001b[0m \u001b[1;32mnot\u001b[0m \u001b[0mfound\u001b[0m\u001b[1;33m:\u001b[0m\u001b[1;33m\u001b[0m\u001b[0m\n\u001b[1;32m    331\u001b[0m         raise ValueError(\"time data %r does not match format %r\" %\n\u001b[0;32m--> 332\u001b[0;31m                          (data_string, format))\n\u001b[0m\u001b[1;32m    333\u001b[0m     \u001b[1;32mif\u001b[0m \u001b[0mlen\u001b[0m\u001b[1;33m(\u001b[0m\u001b[0mdata_string\u001b[0m\u001b[1;33m)\u001b[0m \u001b[1;33m!=\u001b[0m \u001b[0mfound\u001b[0m\u001b[1;33m.\u001b[0m\u001b[0mend\u001b[0m\u001b[1;33m(\u001b[0m\u001b[1;33m)\u001b[0m\u001b[1;33m:\u001b[0m\u001b[1;33m\u001b[0m\u001b[0m\n\u001b[1;32m    334\u001b[0m         raise ValueError(\"unconverted data remains: %s\" %\n",
      "\u001b[0;31mValueError\u001b[0m: time data '1/14/2015' does not match format '%Y-%m-%d'"
     ]
    }
   ],
   "source": [
    "from datetime import datetime as dt\n",
    "\n",
    "# Takes a date as a string, and returns a Python datetime object. \n",
    "# If there is no date given, returns None\n",
    "def parse_date(date):\n",
    "    if date == '':\n",
    "        return None\n",
    "    else:\n",
    "        return dt.strptime(date, '%Y-%m-%d')\n",
    "    \n",
    "# Takes a string which is either an empty string or represents an integer,\n",
    "# and returns an int or None.\n",
    "def parse_maybe_int(i):\n",
    "    if i == '':\n",
    "        return None\n",
    "    else:\n",
    "        return int(i)\n",
    "\n",
    "# Clean up the data types in the enrollments table\n",
    "for enrollment in enrollments:\n",
    "    enrollment['cancel_date'] = parse_date(enrollment['cancel_date'])\n",
    "    enrollment['days_to_cancel'] = parse_maybe_int(enrollment['days_to_cancel'])\n",
    "    enrollment['is_canceled'] = enrollment['is_canceled'] == 'True'\n",
    "    enrollment['is_udacity'] = enrollment['is_udacity'] == 'True'\n",
    "    enrollment['join_date'] = parse_date(enrollment['join_date'])\n",
    "    \n",
    "enrollments[0]"
   ]
  },
  {
   "cell_type": "code",
   "execution_count": null,
   "metadata": {
    "collapsed": true
   },
   "outputs": [],
   "source": [
    "for enrollment in enrollments:\n",
    "    if enrollment['account_key'] == '1006':\n",
    "        print enrollment['is_udacity']"
   ]
  },
  {
   "cell_type": "code",
   "execution_count": null,
   "metadata": {
    "collapsed": false
   },
   "outputs": [],
   "source": [
    "enrollment_num_rows = len(enrollments)\n",
    "print enrollment_num_rows"
   ]
  },
  {
   "cell_type": "code",
   "execution_count": null,
   "metadata": {
    "collapsed": false
   },
   "outputs": [],
   "source": [
    "unique_enrolled_students = set()\n",
    "for x in enrollments:\n",
    "        unique_enrolled_students.add(x['account_key'])\n",
    "print unique_enrolled_students"
   ]
  },
  {
   "cell_type": "code",
   "execution_count": null,
   "metadata": {
    "collapsed": false
   },
   "outputs": [],
   "source": [
    "for x in enrollments:\n",
    "    if x['account_key'] == '700':\n",
    "        print x['is_udacity']"
   ]
  },
  {
   "cell_type": "code",
   "execution_count": null,
   "metadata": {
    "collapsed": false
   },
   "outputs": [],
   "source": [
    "##lista słowników\n",
    "\n",
    "for x in enrollments:\n",
    "    print x['account_key']\n",
    "    \n",
    "print '================================================'\n",
    "print enrollments[0]['account_key']\n",
    "print enrollments[5]['is_udacity']"
   ]
  },
  {
   "cell_type": "code",
   "execution_count": null,
   "metadata": {
    "collapsed": false
   },
   "outputs": [],
   "source": [
    "print enrollments[0]"
   ]
  },
  {
   "cell_type": "code",
   "execution_count": 78,
   "metadata": {
    "collapsed": false
   },
   "outputs": [
    {
     "data": {
      "text/plain": [
       "u'0'"
      ]
     },
     "execution_count": 78,
     "metadata": {},
     "output_type": "execute_result"
    }
   ],
   "source": [
    "with open('daily_engagement_test.csv', 'rb') as f:\n",
    "    reader = unicodecsv.DictReader(f)\n",
    "    daily_engagement = list(reader)\n",
    "\n",
    "daily_engagement[0]['acct']"
   ]
  },
  {
   "cell_type": "code",
   "execution_count": null,
   "metadata": {
    "collapsed": true
   },
   "outputs": [],
   "source": [
    "for x in enrollments:\n",
    "    print x['account_key']\n",
    "\n",
    "daily_engagement[0]['acctount_key']"
   ]
  },
  {
   "cell_type": "code",
   "execution_count": 80,
   "metadata": {
    "collapsed": false
   },
   "outputs": [
    {
     "name": "stdout",
     "output_type": "stream",
     "text": [
      "0\n",
      "===================\n",
      "0\n",
      "{u'lessons_completed': u'0.0', u'num_courses_visited': u'1.0', u'total_minutes_visited': u'11.6793745', u'projects_completed': u'0.0', 'account_key': u'0', u'acct': u'0', u'utc_date': u'2015-01-09'}\n"
     ]
    }
   ],
   "source": [
    "for x in daily_engagement:\n",
    "    x['account_key'] = x['acct']\n",
    "    #del[x['acct']]\n",
    "print daily_engagement[0]['account_key']\n",
    "print'==================='\n",
    "print daily_engagement[0]['acct']\n",
    "print daily_engagement[0]"
   ]
  },
  {
   "cell_type": "code",
   "execution_count": 91,
   "metadata": {
    "collapsed": false
   },
   "outputs": [
    {
     "name": "stdout",
     "output_type": "stream",
     "text": [
      "0\n",
      "===================\n"
     ]
    },
    {
     "ename": "KeyError",
     "evalue": "'acct'",
     "output_type": "error",
     "traceback": [
      "\u001b[0;31m---------------------------------------------------------------------------\u001b[0m",
      "\u001b[0;31mKeyError\u001b[0m                                  Traceback (most recent call last)",
      "\u001b[0;32m<ipython-input-91-9894308b640a>\u001b[0m in \u001b[0;36m<module>\u001b[0;34m()\u001b[0m\n\u001b[1;32m      4\u001b[0m \u001b[1;32mprint\u001b[0m \u001b[0mdaily_engagement\u001b[0m\u001b[1;33m[\u001b[0m\u001b[1;36m0\u001b[0m\u001b[1;33m]\u001b[0m\u001b[1;33m[\u001b[0m\u001b[1;34m'account_key'\u001b[0m\u001b[1;33m]\u001b[0m\u001b[1;33m\u001b[0m\u001b[0m\n\u001b[1;32m      5\u001b[0m \u001b[1;32mprint\u001b[0m\u001b[1;34m'==================='\u001b[0m\u001b[1;33m\u001b[0m\u001b[0m\n\u001b[0;32m----> 6\u001b[0;31m \u001b[1;32mprint\u001b[0m \u001b[0mdaily_engagement\u001b[0m\u001b[1;33m[\u001b[0m\u001b[1;36m0\u001b[0m\u001b[1;33m]\u001b[0m\u001b[1;33m[\u001b[0m\u001b[1;34m'acct'\u001b[0m\u001b[1;33m]\u001b[0m\u001b[1;33m\u001b[0m\u001b[0m\n\u001b[0m",
      "\u001b[0;31mKeyError\u001b[0m: 'acct'"
     ]
    }
   ],
   "source": [
    "for x in daily_engagement:\n",
    "    x['account_key'] = x['acct']\n",
    "    del[x['acct']]\n",
    "print daily_engagement[0]['account_key']\n",
    "print'==================='\n",
    "print daily_engagement[0]['acct']"
   ]
  },
  {
   "cell_type": "code",
   "execution_count": 90,
   "metadata": {
    "collapsed": false
   },
   "outputs": [
    {
     "name": "stdout",
     "output_type": "stream",
     "text": [
      "[{u'lessons_completed': u'0.0', u'num_courses_visited': u'1.0', u'total_minutes_visited': u'11.6793745', u'projects_completed': u'0.0', 'blabla': 19, 'account_key': u'0', u'acct': u'0', u'utc_date': u'2015-01-09'}, {u'lessons_completed': u'0.0', u'num_courses_visited': u'2.0', u'total_minutes_visited': u'37.2848873333', u'projects_completed': u'0.0', 'blabla': 19, 'account_key': u'0', u'acct': u'0', u'utc_date': u'2015-01-10'}, {u'lessons_completed': u'0.0', u'num_courses_visited': u'2.0', u'total_minutes_visited': u'53.6337463333', u'projects_completed': u'0.0', 'blabla': 19, 'account_key': u'0', u'acct': u'0', u'utc_date': u'2015-01-11'}, {u'lessons_completed': u'0.0', u'num_courses_visited': u'1.0', u'total_minutes_visited': u'33.4892696667', u'projects_completed': u'0.0', 'blabla': 19, 'account_key': u'0', u'acct': u'0', u'utc_date': u'2015-01-12'}, {u'lessons_completed': u'0.0', u'num_courses_visited': u'1.0', u'total_minutes_visited': u'64.7796776667', u'projects_completed': u'0.0', 'blabla': 19, 'account_key': u'0', u'acct': u'0', u'utc_date': u'2015-01-13'}, {u'lessons_completed': u'1.0', u'num_courses_visited': u'1.0', u'total_minutes_visited': u'151.617576833', u'projects_completed': u'0.0', 'blabla': 19, 'account_key': u'0', u'acct': u'0', u'utc_date': u'2015-01-14'}, {u'lessons_completed': u'0.0', u'num_courses_visited': u'1.0', u'total_minutes_visited': u'142.395963833', u'projects_completed': u'0.0', 'blabla': 19, 'account_key': u'0', u'acct': u'0', u'utc_date': u'2015-01-15'}, {u'lessons_completed': u'0.0', u'num_courses_visited': u'0.0', u'total_minutes_visited': u'0.0', u'projects_completed': u'0.0', 'blabla': 19, 'account_key': u'0', u'acct': u'0', u'utc_date': u'2015-01-16'}, {u'lessons_completed': u'0.0', u'num_courses_visited': u'1.0', u'total_minutes_visited': u'9.8495625', u'projects_completed': u'0.0', 'blabla': 19, 'account_key': u'0', u'acct': u'0', u'utc_date': u'2015-01-17'}, {u'lessons_completed': u'0.0', u'num_courses_visited': u'1.0', u'total_minutes_visited': u'38.330548', u'projects_completed': u'0.0', 'blabla': 19, 'account_key': u'0', u'acct': u'0', u'utc_date': u'2015-01-18'}]\n"
     ]
    }
   ],
   "source": [
    "#adding new object to dictionary\n",
    "for i in range(0, 20):\n",
    "    for x in daily_engagement:\n",
    "           x['blabla'] = i\n",
    "    \n",
    "print daily_engagement[0:10]"
   ]
  },
  {
   "cell_type": "code",
   "execution_count": 92,
   "metadata": {
    "collapsed": false
   },
   "outputs": [
    {
     "name": "stdout",
     "output_type": "stream",
     "text": [
      "Current Letter : P\n",
      "Current Letter : y\n",
      "Current Letter : t\n",
      "Current variable value : 10\n",
      "Current variable value : 9\n",
      "Current variable value : 8\n",
      "Current variable value : 7\n",
      "Current variable value : 6\n",
      "Good bye!\n"
     ]
    }
   ],
   "source": [
    "for letter in 'Python':     # First Example\n",
    "   if letter == 'h':\n",
    "      break\n",
    "   print 'Current Letter :', letter\n",
    "  \n",
    "var = 10                    # Second Example\n",
    "while var > 0:              \n",
    "   print 'Current variable value :', var\n",
    "   var = var -1\n",
    "   if var == 5:\n",
    "      break\n",
    "\n",
    "print \"Good bye!\""
   ]
  },
  {
   "cell_type": "code",
   "execution_count": 93,
   "metadata": {
    "collapsed": false
   },
   "outputs": [
    {
     "name": "stdout",
     "output_type": "stream",
     "text": [
      "[1]\n"
     ]
    }
   ],
   "source": [
    "d = {'Monia':3, 'Adam': 5,'Wojtas':1}\n",
    "\n",
    "for x in d:\n",
    "    student = x['account_key']\n",
    "    z = []\n",
    "    y = []\n",
    "    if student not in unique_engagement_students:\n",
    "        z.append(student)\n",
    "    else:\n",
    "        y.append(student)\n",
    "    continue"
   ]
  }
 ],
 "metadata": {
  "anaconda-cloud": {},
  "kernelspec": {
   "display_name": "Python 2",
   "language": "python",
   "name": "python2"
  },
  "language_info": {
   "codemirror_mode": {
    "name": "ipython",
    "version": 2
   },
   "file_extension": ".py",
   "mimetype": "text/x-python",
   "name": "python",
   "nbconvert_exporter": "python",
   "pygments_lexer": "ipython2",
   "version": "2.7.12"
  }
 },
 "nbformat": 4,
 "nbformat_minor": 2
}
